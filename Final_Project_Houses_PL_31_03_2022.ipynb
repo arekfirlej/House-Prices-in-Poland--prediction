{
  "cells": [
    {
      "cell_type": "markdown",
      "metadata": {
        "id": "Y-DnkvphKpui"
      },
      "source": [
        "**House prices in Poland - prediction**\n",
        "\n",
        "---\n",
        "\n",
        "\n",
        "\n",
        "---\n",
        "\n",
        "\n",
        "\n"
      ]
    },
    {
      "cell_type": "markdown",
      "metadata": {
        "id": "Vs-uc0jwK4ZS"
      },
      "source": [
        "Project plan : \n",
        "\n",
        "1. Loading required libraries and dataset\n",
        "2. Data preprocessing \n",
        "3. Creating new features from existing features\n",
        "4. Removing outliers \n",
        "5. Exploratory data analysis and Data visualisation \n",
        "6. Splitting data into training and testing \n",
        "7. Finding the best model\n",
        "8. Final prediction \n"
      ]
    },
    {
      "cell_type": "markdown",
      "metadata": {
        "id": "OA-Ns_lGLkkB"
      },
      "source": [
        "Data - https://www.kaggle.com/dawidcegielski/house-prices-in-poland\n",
        "\n",
        "---\n",
        "\n",
        "\n",
        "\n",
        "---\n",
        "\n"
      ]
    },
    {
      "cell_type": "markdown",
      "metadata": {
        "id": "jweDkmbwL6Oh"
      },
      "source": [
        "**1. Loading required libraries and dataset** "
      ]
    },
    {
      "cell_type": "code",
      "execution_count": 90,
      "metadata": {
        "colab": {
          "base_uri": "https://localhost:8080/"
        },
        "id": "xr-KRVi9L_Pu",
        "outputId": "a3aa967c-6363-4de6-ea85-34a7b900a0e5"
      },
      "outputs": [
        {
          "output_type": "stream",
          "name": "stdout",
          "text": [
            "fatal: destination path 'House-Prices-in-Poland--prediction' already exists and is not an empty directory.\n"
          ]
        }
      ],
      "source": [
        "! git clone https://github.com/arekfirlej/House-Prices-in-Poland--prediction"
      ]
    },
    {
      "cell_type": "code",
      "execution_count": 91,
      "metadata": {
        "id": "mphBCMF4MUxA"
      },
      "outputs": [],
      "source": [
        "import numpy as np\n",
        "import pandas as pd\n",
        "import matplotlib.pyplot as plt\n",
        "import seaborn as sns\n",
        "\n",
        "from geopy import distance \n",
        "\n",
        "\n",
        "#machine learning preparation and evaluation\n",
        "\n",
        "\n",
        "from sklearn.preprocessing import StandardScaler\n",
        "from sklearn.preprocessing import OneHotEncoder\n",
        "from sklearn.model_selection import GridSearchCV\n",
        "from sklearn.metrics import mean_absolute_error\n",
        "from sklearn.model_selection import ShuffleSplit\n",
        "from sklearn.model_selection import cross_val_score\n",
        "from sklearn.metrics import mean_squared_error\n",
        "from sklearn.metrics import r2_score\n",
        "import sklearn.metrics as metrics\n",
        "\n",
        "#machine learning models : \n",
        "\n",
        "\n",
        "from sklearn.linear_model import LinearRegression\n",
        "from lightgbm import LGBMRegressor\n",
        "from xgboost.sklearn import XGBRegressor\n",
        "from sklearn.linear_model import SGDRegressor\n",
        "from sklearn.kernel_ridge import KernelRidge\n",
        "from sklearn.linear_model import ElasticNet\n",
        "from sklearn.linear_model import BayesianRidge\n",
        "from sklearn.ensemble import GradientBoostingRegressor\n",
        "from sklearn.svm import SVR\n",
        "from sklearn.ensemble import RandomForestRegressor\n",
        "from sklearn.linear_model import Lasso\n",
        "from sklearn.tree import DecisionTreeRegressor\n",
        "from sklearn.linear_model import Ridge\n",
        "from sklearn.neighbors import KNeighborsRegressor\n",
        "\n",
        "\n",
        "\n"
      ]
    },
    {
      "cell_type": "code",
      "execution_count": 92,
      "metadata": {
        "colab": {
          "base_uri": "https://localhost:8080/",
          "height": 206
        },
        "id": "VAIdi0eXMaF4",
        "outputId": "dd093ca1-324d-42db-c860-4712048d7425"
      },
      "outputs": [
        {
          "output_type": "execute_result",
          "data": {
            "text/plain": [
              "   Unnamed: 0                                            address      city  \\\n",
              "0           0           Podgórze Zab³ocie Stanis³awa Klimeckiego    Kraków   \n",
              "1           1                          Praga-Po³udnie Grochowska  Warszawa   \n",
              "2           2                            Krowodrza Czarnowiejska    Kraków   \n",
              "3           3                                           Grunwald    Poznañ   \n",
              "4           4  Ochota Gotowy budynek. Stan deweloperski. Osta...  Warszawa   \n",
              "\n",
              "   floor       id  latitude  longitude      price  rooms     sq    year  \n",
              "0   2.00 23918.00     50.05      19.97  749000.00   3.00  74.05 2021.00  \n",
              "1   3.00 17828.00     52.25      21.11  240548.00   1.00  24.38 2021.00  \n",
              "2   2.00 22784.00     50.07      19.92  427000.00   2.00  37.00 1970.00  \n",
              "3   2.00  4315.00     52.40      16.88 1290000.00   5.00 166.00 1935.00  \n",
              "4   1.00 11770.00     52.21      20.97  996000.00   5.00 105.00 2020.00  "
            ],
            "text/html": [
              "\n",
              "  <div id=\"df-78df1d3e-c313-4826-80c0-7157c703300f\">\n",
              "    <div class=\"colab-df-container\">\n",
              "      <div>\n",
              "<style scoped>\n",
              "    .dataframe tbody tr th:only-of-type {\n",
              "        vertical-align: middle;\n",
              "    }\n",
              "\n",
              "    .dataframe tbody tr th {\n",
              "        vertical-align: top;\n",
              "    }\n",
              "\n",
              "    .dataframe thead th {\n",
              "        text-align: right;\n",
              "    }\n",
              "</style>\n",
              "<table border=\"1\" class=\"dataframe\">\n",
              "  <thead>\n",
              "    <tr style=\"text-align: right;\">\n",
              "      <th></th>\n",
              "      <th>Unnamed: 0</th>\n",
              "      <th>address</th>\n",
              "      <th>city</th>\n",
              "      <th>floor</th>\n",
              "      <th>id</th>\n",
              "      <th>latitude</th>\n",
              "      <th>longitude</th>\n",
              "      <th>price</th>\n",
              "      <th>rooms</th>\n",
              "      <th>sq</th>\n",
              "      <th>year</th>\n",
              "    </tr>\n",
              "  </thead>\n",
              "  <tbody>\n",
              "    <tr>\n",
              "      <th>0</th>\n",
              "      <td>0</td>\n",
              "      <td>Podgórze Zab³ocie Stanis³awa Klimeckiego</td>\n",
              "      <td>Kraków</td>\n",
              "      <td>2.00</td>\n",
              "      <td>23918.00</td>\n",
              "      <td>50.05</td>\n",
              "      <td>19.97</td>\n",
              "      <td>749000.00</td>\n",
              "      <td>3.00</td>\n",
              "      <td>74.05</td>\n",
              "      <td>2021.00</td>\n",
              "    </tr>\n",
              "    <tr>\n",
              "      <th>1</th>\n",
              "      <td>1</td>\n",
              "      <td>Praga-Po³udnie Grochowska</td>\n",
              "      <td>Warszawa</td>\n",
              "      <td>3.00</td>\n",
              "      <td>17828.00</td>\n",
              "      <td>52.25</td>\n",
              "      <td>21.11</td>\n",
              "      <td>240548.00</td>\n",
              "      <td>1.00</td>\n",
              "      <td>24.38</td>\n",
              "      <td>2021.00</td>\n",
              "    </tr>\n",
              "    <tr>\n",
              "      <th>2</th>\n",
              "      <td>2</td>\n",
              "      <td>Krowodrza Czarnowiejska</td>\n",
              "      <td>Kraków</td>\n",
              "      <td>2.00</td>\n",
              "      <td>22784.00</td>\n",
              "      <td>50.07</td>\n",
              "      <td>19.92</td>\n",
              "      <td>427000.00</td>\n",
              "      <td>2.00</td>\n",
              "      <td>37.00</td>\n",
              "      <td>1970.00</td>\n",
              "    </tr>\n",
              "    <tr>\n",
              "      <th>3</th>\n",
              "      <td>3</td>\n",
              "      <td>Grunwald</td>\n",
              "      <td>Poznañ</td>\n",
              "      <td>2.00</td>\n",
              "      <td>4315.00</td>\n",
              "      <td>52.40</td>\n",
              "      <td>16.88</td>\n",
              "      <td>1290000.00</td>\n",
              "      <td>5.00</td>\n",
              "      <td>166.00</td>\n",
              "      <td>1935.00</td>\n",
              "    </tr>\n",
              "    <tr>\n",
              "      <th>4</th>\n",
              "      <td>4</td>\n",
              "      <td>Ochota Gotowy budynek. Stan deweloperski. Osta...</td>\n",
              "      <td>Warszawa</td>\n",
              "      <td>1.00</td>\n",
              "      <td>11770.00</td>\n",
              "      <td>52.21</td>\n",
              "      <td>20.97</td>\n",
              "      <td>996000.00</td>\n",
              "      <td>5.00</td>\n",
              "      <td>105.00</td>\n",
              "      <td>2020.00</td>\n",
              "    </tr>\n",
              "  </tbody>\n",
              "</table>\n",
              "</div>\n",
              "      <button class=\"colab-df-convert\" onclick=\"convertToInteractive('df-78df1d3e-c313-4826-80c0-7157c703300f')\"\n",
              "              title=\"Convert this dataframe to an interactive table.\"\n",
              "              style=\"display:none;\">\n",
              "        \n",
              "  <svg xmlns=\"http://www.w3.org/2000/svg\" height=\"24px\"viewBox=\"0 0 24 24\"\n",
              "       width=\"24px\">\n",
              "    <path d=\"M0 0h24v24H0V0z\" fill=\"none\"/>\n",
              "    <path d=\"M18.56 5.44l.94 2.06.94-2.06 2.06-.94-2.06-.94-.94-2.06-.94 2.06-2.06.94zm-11 1L8.5 8.5l.94-2.06 2.06-.94-2.06-.94L8.5 2.5l-.94 2.06-2.06.94zm10 10l.94 2.06.94-2.06 2.06-.94-2.06-.94-.94-2.06-.94 2.06-2.06.94z\"/><path d=\"M17.41 7.96l-1.37-1.37c-.4-.4-.92-.59-1.43-.59-.52 0-1.04.2-1.43.59L10.3 9.45l-7.72 7.72c-.78.78-.78 2.05 0 2.83L4 21.41c.39.39.9.59 1.41.59.51 0 1.02-.2 1.41-.59l7.78-7.78 2.81-2.81c.8-.78.8-2.07 0-2.86zM5.41 20L4 18.59l7.72-7.72 1.47 1.35L5.41 20z\"/>\n",
              "  </svg>\n",
              "      </button>\n",
              "      \n",
              "  <style>\n",
              "    .colab-df-container {\n",
              "      display:flex;\n",
              "      flex-wrap:wrap;\n",
              "      gap: 12px;\n",
              "    }\n",
              "\n",
              "    .colab-df-convert {\n",
              "      background-color: #E8F0FE;\n",
              "      border: none;\n",
              "      border-radius: 50%;\n",
              "      cursor: pointer;\n",
              "      display: none;\n",
              "      fill: #1967D2;\n",
              "      height: 32px;\n",
              "      padding: 0 0 0 0;\n",
              "      width: 32px;\n",
              "    }\n",
              "\n",
              "    .colab-df-convert:hover {\n",
              "      background-color: #E2EBFA;\n",
              "      box-shadow: 0px 1px 2px rgba(60, 64, 67, 0.3), 0px 1px 3px 1px rgba(60, 64, 67, 0.15);\n",
              "      fill: #174EA6;\n",
              "    }\n",
              "\n",
              "    [theme=dark] .colab-df-convert {\n",
              "      background-color: #3B4455;\n",
              "      fill: #D2E3FC;\n",
              "    }\n",
              "\n",
              "    [theme=dark] .colab-df-convert:hover {\n",
              "      background-color: #434B5C;\n",
              "      box-shadow: 0px 1px 3px 1px rgba(0, 0, 0, 0.15);\n",
              "      filter: drop-shadow(0px 1px 2px rgba(0, 0, 0, 0.3));\n",
              "      fill: #FFFFFF;\n",
              "    }\n",
              "  </style>\n",
              "\n",
              "      <script>\n",
              "        const buttonEl =\n",
              "          document.querySelector('#df-78df1d3e-c313-4826-80c0-7157c703300f button.colab-df-convert');\n",
              "        buttonEl.style.display =\n",
              "          google.colab.kernel.accessAllowed ? 'block' : 'none';\n",
              "\n",
              "        async function convertToInteractive(key) {\n",
              "          const element = document.querySelector('#df-78df1d3e-c313-4826-80c0-7157c703300f');\n",
              "          const dataTable =\n",
              "            await google.colab.kernel.invokeFunction('convertToInteractive',\n",
              "                                                     [key], {});\n",
              "          if (!dataTable) return;\n",
              "\n",
              "          const docLinkHtml = 'Like what you see? Visit the ' +\n",
              "            '<a target=\"_blank\" href=https://colab.research.google.com/notebooks/data_table.ipynb>data table notebook</a>'\n",
              "            + ' to learn more about interactive tables.';\n",
              "          element.innerHTML = '';\n",
              "          dataTable['output_type'] = 'display_data';\n",
              "          await google.colab.output.renderOutput(dataTable, element);\n",
              "          const docLink = document.createElement('div');\n",
              "          docLink.innerHTML = docLinkHtml;\n",
              "          element.appendChild(docLink);\n",
              "        }\n",
              "      </script>\n",
              "    </div>\n",
              "  </div>\n",
              "  "
            ]
          },
          "metadata": {},
          "execution_count": 92
        }
      ],
      "source": [
        "df = pd.read_csv('House-Prices-in-Poland--prediction/Houses.csv', encoding = 'latin-1')\n",
        "df.head()"
      ]
    },
    {
      "cell_type": "markdown",
      "metadata": {
        "id": "oAlOZqPBMfUw"
      },
      "source": [
        "**2. Data preprocessing** "
      ]
    },
    {
      "cell_type": "code",
      "execution_count": 93,
      "metadata": {
        "colab": {
          "base_uri": "https://localhost:8080/",
          "height": 206
        },
        "id": "FMLRoDDrMi1X",
        "outputId": "03bf5926-2c74-4865-85da-4b17a0343866"
      },
      "outputs": [
        {
          "output_type": "execute_result",
          "data": {
            "text/plain": [
              "   Unnamed: 0      city  floor  latitude  longitude      price  rooms     sq  \\\n",
              "0           0    Krakow   2.00     50.05      19.97  749000.00   3.00  74.05   \n",
              "1           1  Warszawa   3.00     52.25      21.11  240548.00   1.00  24.38   \n",
              "2           2    Krakow   2.00     50.07      19.92  427000.00   2.00  37.00   \n",
              "3           3    Poznan   2.00     52.40      16.88 1290000.00   5.00 166.00   \n",
              "4           4  Warszawa   1.00     52.21      20.97  996000.00   5.00 105.00   \n",
              "\n",
              "     year  \n",
              "0 2021.00  \n",
              "1 2021.00  \n",
              "2 1970.00  \n",
              "3 1935.00  \n",
              "4 2020.00  "
            ],
            "text/html": [
              "\n",
              "  <div id=\"df-ee1b2aeb-2769-4b23-b164-3e58899ace18\">\n",
              "    <div class=\"colab-df-container\">\n",
              "      <div>\n",
              "<style scoped>\n",
              "    .dataframe tbody tr th:only-of-type {\n",
              "        vertical-align: middle;\n",
              "    }\n",
              "\n",
              "    .dataframe tbody tr th {\n",
              "        vertical-align: top;\n",
              "    }\n",
              "\n",
              "    .dataframe thead th {\n",
              "        text-align: right;\n",
              "    }\n",
              "</style>\n",
              "<table border=\"1\" class=\"dataframe\">\n",
              "  <thead>\n",
              "    <tr style=\"text-align: right;\">\n",
              "      <th></th>\n",
              "      <th>Unnamed: 0</th>\n",
              "      <th>city</th>\n",
              "      <th>floor</th>\n",
              "      <th>latitude</th>\n",
              "      <th>longitude</th>\n",
              "      <th>price</th>\n",
              "      <th>rooms</th>\n",
              "      <th>sq</th>\n",
              "      <th>year</th>\n",
              "    </tr>\n",
              "  </thead>\n",
              "  <tbody>\n",
              "    <tr>\n",
              "      <th>0</th>\n",
              "      <td>0</td>\n",
              "      <td>Krakow</td>\n",
              "      <td>2.00</td>\n",
              "      <td>50.05</td>\n",
              "      <td>19.97</td>\n",
              "      <td>749000.00</td>\n",
              "      <td>3.00</td>\n",
              "      <td>74.05</td>\n",
              "      <td>2021.00</td>\n",
              "    </tr>\n",
              "    <tr>\n",
              "      <th>1</th>\n",
              "      <td>1</td>\n",
              "      <td>Warszawa</td>\n",
              "      <td>3.00</td>\n",
              "      <td>52.25</td>\n",
              "      <td>21.11</td>\n",
              "      <td>240548.00</td>\n",
              "      <td>1.00</td>\n",
              "      <td>24.38</td>\n",
              "      <td>2021.00</td>\n",
              "    </tr>\n",
              "    <tr>\n",
              "      <th>2</th>\n",
              "      <td>2</td>\n",
              "      <td>Krakow</td>\n",
              "      <td>2.00</td>\n",
              "      <td>50.07</td>\n",
              "      <td>19.92</td>\n",
              "      <td>427000.00</td>\n",
              "      <td>2.00</td>\n",
              "      <td>37.00</td>\n",
              "      <td>1970.00</td>\n",
              "    </tr>\n",
              "    <tr>\n",
              "      <th>3</th>\n",
              "      <td>3</td>\n",
              "      <td>Poznan</td>\n",
              "      <td>2.00</td>\n",
              "      <td>52.40</td>\n",
              "      <td>16.88</td>\n",
              "      <td>1290000.00</td>\n",
              "      <td>5.00</td>\n",
              "      <td>166.00</td>\n",
              "      <td>1935.00</td>\n",
              "    </tr>\n",
              "    <tr>\n",
              "      <th>4</th>\n",
              "      <td>4</td>\n",
              "      <td>Warszawa</td>\n",
              "      <td>1.00</td>\n",
              "      <td>52.21</td>\n",
              "      <td>20.97</td>\n",
              "      <td>996000.00</td>\n",
              "      <td>5.00</td>\n",
              "      <td>105.00</td>\n",
              "      <td>2020.00</td>\n",
              "    </tr>\n",
              "  </tbody>\n",
              "</table>\n",
              "</div>\n",
              "      <button class=\"colab-df-convert\" onclick=\"convertToInteractive('df-ee1b2aeb-2769-4b23-b164-3e58899ace18')\"\n",
              "              title=\"Convert this dataframe to an interactive table.\"\n",
              "              style=\"display:none;\">\n",
              "        \n",
              "  <svg xmlns=\"http://www.w3.org/2000/svg\" height=\"24px\"viewBox=\"0 0 24 24\"\n",
              "       width=\"24px\">\n",
              "    <path d=\"M0 0h24v24H0V0z\" fill=\"none\"/>\n",
              "    <path d=\"M18.56 5.44l.94 2.06.94-2.06 2.06-.94-2.06-.94-.94-2.06-.94 2.06-2.06.94zm-11 1L8.5 8.5l.94-2.06 2.06-.94-2.06-.94L8.5 2.5l-.94 2.06-2.06.94zm10 10l.94 2.06.94-2.06 2.06-.94-2.06-.94-.94-2.06-.94 2.06-2.06.94z\"/><path d=\"M17.41 7.96l-1.37-1.37c-.4-.4-.92-.59-1.43-.59-.52 0-1.04.2-1.43.59L10.3 9.45l-7.72 7.72c-.78.78-.78 2.05 0 2.83L4 21.41c.39.39.9.59 1.41.59.51 0 1.02-.2 1.41-.59l7.78-7.78 2.81-2.81c.8-.78.8-2.07 0-2.86zM5.41 20L4 18.59l7.72-7.72 1.47 1.35L5.41 20z\"/>\n",
              "  </svg>\n",
              "      </button>\n",
              "      \n",
              "  <style>\n",
              "    .colab-df-container {\n",
              "      display:flex;\n",
              "      flex-wrap:wrap;\n",
              "      gap: 12px;\n",
              "    }\n",
              "\n",
              "    .colab-df-convert {\n",
              "      background-color: #E8F0FE;\n",
              "      border: none;\n",
              "      border-radius: 50%;\n",
              "      cursor: pointer;\n",
              "      display: none;\n",
              "      fill: #1967D2;\n",
              "      height: 32px;\n",
              "      padding: 0 0 0 0;\n",
              "      width: 32px;\n",
              "    }\n",
              "\n",
              "    .colab-df-convert:hover {\n",
              "      background-color: #E2EBFA;\n",
              "      box-shadow: 0px 1px 2px rgba(60, 64, 67, 0.3), 0px 1px 3px 1px rgba(60, 64, 67, 0.15);\n",
              "      fill: #174EA6;\n",
              "    }\n",
              "\n",
              "    [theme=dark] .colab-df-convert {\n",
              "      background-color: #3B4455;\n",
              "      fill: #D2E3FC;\n",
              "    }\n",
              "\n",
              "    [theme=dark] .colab-df-convert:hover {\n",
              "      background-color: #434B5C;\n",
              "      box-shadow: 0px 1px 3px 1px rgba(0, 0, 0, 0.15);\n",
              "      filter: drop-shadow(0px 1px 2px rgba(0, 0, 0, 0.3));\n",
              "      fill: #FFFFFF;\n",
              "    }\n",
              "  </style>\n",
              "\n",
              "      <script>\n",
              "        const buttonEl =\n",
              "          document.querySelector('#df-ee1b2aeb-2769-4b23-b164-3e58899ace18 button.colab-df-convert');\n",
              "        buttonEl.style.display =\n",
              "          google.colab.kernel.accessAllowed ? 'block' : 'none';\n",
              "\n",
              "        async function convertToInteractive(key) {\n",
              "          const element = document.querySelector('#df-ee1b2aeb-2769-4b23-b164-3e58899ace18');\n",
              "          const dataTable =\n",
              "            await google.colab.kernel.invokeFunction('convertToInteractive',\n",
              "                                                     [key], {});\n",
              "          if (!dataTable) return;\n",
              "\n",
              "          const docLinkHtml = 'Like what you see? Visit the ' +\n",
              "            '<a target=\"_blank\" href=https://colab.research.google.com/notebooks/data_table.ipynb>data table notebook</a>'\n",
              "            + ' to learn more about interactive tables.';\n",
              "          element.innerHTML = '';\n",
              "          dataTable['output_type'] = 'display_data';\n",
              "          await google.colab.output.renderOutput(dataTable, element);\n",
              "          const docLink = document.createElement('div');\n",
              "          docLink.innerHTML = docLinkHtml;\n",
              "          element.appendChild(docLink);\n",
              "        }\n",
              "      </script>\n",
              "    </div>\n",
              "  </div>\n",
              "  "
            ]
          },
          "metadata": {},
          "execution_count": 93
        }
      ],
      "source": [
        "df.replace('Kraków', 'Krakow', inplace = True)\n",
        "df.replace('Poznañ', 'Poznan', inplace = True)\n",
        "\n",
        "df.drop(['address'], axis = 1 , inplace = True)\n",
        "df.drop(['id'], axis = 1 ,  inplace = True)\n",
        "\n",
        "df.head()"
      ]
    },
    {
      "cell_type": "code",
      "execution_count": 94,
      "metadata": {
        "colab": {
          "base_uri": "https://localhost:8080/"
        },
        "id": "2yu7EI_xOOiH",
        "outputId": "f1b82cba-e25a-4261-91b1-145b68a31542"
      },
      "outputs": [
        {
          "output_type": "execute_result",
          "data": {
            "text/plain": [
              "Unnamed: 0    0\n",
              "city          0\n",
              "floor         0\n",
              "latitude      0\n",
              "longitude     0\n",
              "price         0\n",
              "rooms         0\n",
              "sq            0\n",
              "year          0\n",
              "dtype: int64"
            ]
          },
          "metadata": {},
          "execution_count": 94
        }
      ],
      "source": [
        "df.isnull().sum()"
      ]
    },
    {
      "cell_type": "markdown",
      "metadata": {
        "id": "4-Eef8xANOm4"
      },
      "source": [
        "**3. Creating new features from existing features**"
      ]
    },
    {
      "cell_type": "markdown",
      "metadata": {
        "id": "qQYpPI0NNZrJ"
      },
      "source": [
        "Creating the new feature that will calculate the distance to each city center base on latitude and longitude.\n",
        "\n",
        "\n",
        "\n",
        "\n",
        "\n",
        "\n",
        "Centers: \n",
        "\n",
        "Krakow - Main square\n",
        "\n",
        "Warszawa - Palace of culture and Science \n",
        "\n",
        "Poznan - the Old Market Square "
      ]
    },
    {
      "cell_type": "code",
      "execution_count": 95,
      "metadata": {
        "id": "CUrPbpjuNTD_"
      },
      "outputs": [],
      "source": [
        "Krakow_central = (50.049683, 19.944544)\n",
        "Warszawa_central = (52.225665 , 21.003833)\n",
        "Poznan_central = (52.409538, 16.931992 )"
      ]
    },
    {
      "cell_type": "code",
      "execution_count": 96,
      "metadata": {
        "id": "zuzQZI-3OZkR"
      },
      "outputs": [],
      "source": [
        "def to_centre(id):\n",
        "    coords = (df.iloc[id].latitude, df.iloc[id].longitude) \n",
        "    if df.iloc[id].city == 'Krakow':     \n",
        "        df.iloc[id, df.columns.get_loc('distance')] = round(distance.distance(coords, Krakow_central).km, 2)\n",
        "    if df.iloc[id].city == 'Warszawa':\n",
        "      df.iloc[id, df.columns.get_loc('distance')] = round(distance.distance(coords, Warszawa_central).km, 2)\n",
        "    if df.iloc[id].city == 'Poznan': \n",
        "       df.iloc[id, df.columns.get_loc('distance')] = round(distance.distance(coords, Poznan_central).km, 2)"
      ]
    },
    {
      "cell_type": "code",
      "execution_count": 97,
      "metadata": {
        "id": "sw9JwgE_Oe8R"
      },
      "outputs": [],
      "source": [
        "df['distance'] = \"\""
      ]
    },
    {
      "cell_type": "code",
      "execution_count": 98,
      "metadata": {
        "id": "-T9khctxOh0o"
      },
      "outputs": [],
      "source": [
        "for x in range(len(df)):\n",
        "  to_centre(x)"
      ]
    },
    {
      "cell_type": "code",
      "execution_count": 99,
      "metadata": {
        "id": "GuB4Peh6O3K4",
        "colab": {
          "base_uri": "https://localhost:8080/",
          "height": 143
        },
        "outputId": "dc75a617-4d74-4b86-b7d9-5ef5416bc386"
      },
      "outputs": [
        {
          "output_type": "execute_result",
          "data": {
            "text/plain": [
              "   Unnamed: 0      city  floor  latitude  longitude     price  rooms    sq  \\\n",
              "0           0    Krakow   2.00     50.05      19.97 749000.00   3.00 74.05   \n",
              "1           1  Warszawa   3.00     52.25      21.11 240548.00   1.00 24.38   \n",
              "2           2    Krakow   2.00     50.07      19.92 427000.00   2.00 37.00   \n",
              "\n",
              "     year distance  \n",
              "0 2021.00     1.85  \n",
              "1 2021.00     7.53  \n",
              "2 1970.00     2.60  "
            ],
            "text/html": [
              "\n",
              "  <div id=\"df-6d4bdb6d-feae-4a91-a36b-f54c00e0f17f\">\n",
              "    <div class=\"colab-df-container\">\n",
              "      <div>\n",
              "<style scoped>\n",
              "    .dataframe tbody tr th:only-of-type {\n",
              "        vertical-align: middle;\n",
              "    }\n",
              "\n",
              "    .dataframe tbody tr th {\n",
              "        vertical-align: top;\n",
              "    }\n",
              "\n",
              "    .dataframe thead th {\n",
              "        text-align: right;\n",
              "    }\n",
              "</style>\n",
              "<table border=\"1\" class=\"dataframe\">\n",
              "  <thead>\n",
              "    <tr style=\"text-align: right;\">\n",
              "      <th></th>\n",
              "      <th>Unnamed: 0</th>\n",
              "      <th>city</th>\n",
              "      <th>floor</th>\n",
              "      <th>latitude</th>\n",
              "      <th>longitude</th>\n",
              "      <th>price</th>\n",
              "      <th>rooms</th>\n",
              "      <th>sq</th>\n",
              "      <th>year</th>\n",
              "      <th>distance</th>\n",
              "    </tr>\n",
              "  </thead>\n",
              "  <tbody>\n",
              "    <tr>\n",
              "      <th>0</th>\n",
              "      <td>0</td>\n",
              "      <td>Krakow</td>\n",
              "      <td>2.00</td>\n",
              "      <td>50.05</td>\n",
              "      <td>19.97</td>\n",
              "      <td>749000.00</td>\n",
              "      <td>3.00</td>\n",
              "      <td>74.05</td>\n",
              "      <td>2021.00</td>\n",
              "      <td>1.85</td>\n",
              "    </tr>\n",
              "    <tr>\n",
              "      <th>1</th>\n",
              "      <td>1</td>\n",
              "      <td>Warszawa</td>\n",
              "      <td>3.00</td>\n",
              "      <td>52.25</td>\n",
              "      <td>21.11</td>\n",
              "      <td>240548.00</td>\n",
              "      <td>1.00</td>\n",
              "      <td>24.38</td>\n",
              "      <td>2021.00</td>\n",
              "      <td>7.53</td>\n",
              "    </tr>\n",
              "    <tr>\n",
              "      <th>2</th>\n",
              "      <td>2</td>\n",
              "      <td>Krakow</td>\n",
              "      <td>2.00</td>\n",
              "      <td>50.07</td>\n",
              "      <td>19.92</td>\n",
              "      <td>427000.00</td>\n",
              "      <td>2.00</td>\n",
              "      <td>37.00</td>\n",
              "      <td>1970.00</td>\n",
              "      <td>2.60</td>\n",
              "    </tr>\n",
              "  </tbody>\n",
              "</table>\n",
              "</div>\n",
              "      <button class=\"colab-df-convert\" onclick=\"convertToInteractive('df-6d4bdb6d-feae-4a91-a36b-f54c00e0f17f')\"\n",
              "              title=\"Convert this dataframe to an interactive table.\"\n",
              "              style=\"display:none;\">\n",
              "        \n",
              "  <svg xmlns=\"http://www.w3.org/2000/svg\" height=\"24px\"viewBox=\"0 0 24 24\"\n",
              "       width=\"24px\">\n",
              "    <path d=\"M0 0h24v24H0V0z\" fill=\"none\"/>\n",
              "    <path d=\"M18.56 5.44l.94 2.06.94-2.06 2.06-.94-2.06-.94-.94-2.06-.94 2.06-2.06.94zm-11 1L8.5 8.5l.94-2.06 2.06-.94-2.06-.94L8.5 2.5l-.94 2.06-2.06.94zm10 10l.94 2.06.94-2.06 2.06-.94-2.06-.94-.94-2.06-.94 2.06-2.06.94z\"/><path d=\"M17.41 7.96l-1.37-1.37c-.4-.4-.92-.59-1.43-.59-.52 0-1.04.2-1.43.59L10.3 9.45l-7.72 7.72c-.78.78-.78 2.05 0 2.83L4 21.41c.39.39.9.59 1.41.59.51 0 1.02-.2 1.41-.59l7.78-7.78 2.81-2.81c.8-.78.8-2.07 0-2.86zM5.41 20L4 18.59l7.72-7.72 1.47 1.35L5.41 20z\"/>\n",
              "  </svg>\n",
              "      </button>\n",
              "      \n",
              "  <style>\n",
              "    .colab-df-container {\n",
              "      display:flex;\n",
              "      flex-wrap:wrap;\n",
              "      gap: 12px;\n",
              "    }\n",
              "\n",
              "    .colab-df-convert {\n",
              "      background-color: #E8F0FE;\n",
              "      border: none;\n",
              "      border-radius: 50%;\n",
              "      cursor: pointer;\n",
              "      display: none;\n",
              "      fill: #1967D2;\n",
              "      height: 32px;\n",
              "      padding: 0 0 0 0;\n",
              "      width: 32px;\n",
              "    }\n",
              "\n",
              "    .colab-df-convert:hover {\n",
              "      background-color: #E2EBFA;\n",
              "      box-shadow: 0px 1px 2px rgba(60, 64, 67, 0.3), 0px 1px 3px 1px rgba(60, 64, 67, 0.15);\n",
              "      fill: #174EA6;\n",
              "    }\n",
              "\n",
              "    [theme=dark] .colab-df-convert {\n",
              "      background-color: #3B4455;\n",
              "      fill: #D2E3FC;\n",
              "    }\n",
              "\n",
              "    [theme=dark] .colab-df-convert:hover {\n",
              "      background-color: #434B5C;\n",
              "      box-shadow: 0px 1px 3px 1px rgba(0, 0, 0, 0.15);\n",
              "      filter: drop-shadow(0px 1px 2px rgba(0, 0, 0, 0.3));\n",
              "      fill: #FFFFFF;\n",
              "    }\n",
              "  </style>\n",
              "\n",
              "      <script>\n",
              "        const buttonEl =\n",
              "          document.querySelector('#df-6d4bdb6d-feae-4a91-a36b-f54c00e0f17f button.colab-df-convert');\n",
              "        buttonEl.style.display =\n",
              "          google.colab.kernel.accessAllowed ? 'block' : 'none';\n",
              "\n",
              "        async function convertToInteractive(key) {\n",
              "          const element = document.querySelector('#df-6d4bdb6d-feae-4a91-a36b-f54c00e0f17f');\n",
              "          const dataTable =\n",
              "            await google.colab.kernel.invokeFunction('convertToInteractive',\n",
              "                                                     [key], {});\n",
              "          if (!dataTable) return;\n",
              "\n",
              "          const docLinkHtml = 'Like what you see? Visit the ' +\n",
              "            '<a target=\"_blank\" href=https://colab.research.google.com/notebooks/data_table.ipynb>data table notebook</a>'\n",
              "            + ' to learn more about interactive tables.';\n",
              "          element.innerHTML = '';\n",
              "          dataTable['output_type'] = 'display_data';\n",
              "          await google.colab.output.renderOutput(dataTable, element);\n",
              "          const docLink = document.createElement('div');\n",
              "          docLink.innerHTML = docLinkHtml;\n",
              "          element.appendChild(docLink);\n",
              "        }\n",
              "      </script>\n",
              "    </div>\n",
              "  </div>\n",
              "  "
            ]
          },
          "metadata": {},
          "execution_count": 99
        }
      ],
      "source": [
        "df.head(3)"
      ]
    },
    {
      "cell_type": "markdown",
      "metadata": {
        "id": "rhfyzMWnPPe_"
      },
      "source": [
        "Creating new column with price per square meter based on price and square meter "
      ]
    },
    {
      "cell_type": "code",
      "execution_count": 100,
      "metadata": {
        "id": "pJURLCysPU0a"
      },
      "outputs": [],
      "source": [
        " df['price_per_sq'] = round(df['price']/ df['sq'])"
      ]
    },
    {
      "cell_type": "code",
      "execution_count": 101,
      "metadata": {
        "id": "GjCSo0_gPZov",
        "colab": {
          "base_uri": "https://localhost:8080/",
          "height": 143
        },
        "outputId": "75b2d298-90f6-403c-d88d-c1e7b7cda319"
      },
      "outputs": [
        {
          "output_type": "execute_result",
          "data": {
            "text/plain": [
              "   Unnamed: 0      city  floor  latitude  longitude     price  rooms    sq  \\\n",
              "0           0    Krakow   2.00     50.05      19.97 749000.00   3.00 74.05   \n",
              "1           1  Warszawa   3.00     52.25      21.11 240548.00   1.00 24.38   \n",
              "2           2    Krakow   2.00     50.07      19.92 427000.00   2.00 37.00   \n",
              "\n",
              "     year distance  price_per_sq  \n",
              "0 2021.00     1.85      10115.00  \n",
              "1 2021.00     7.53       9867.00  \n",
              "2 1970.00     2.60      11541.00  "
            ],
            "text/html": [
              "\n",
              "  <div id=\"df-416a37b5-9dc6-4ef2-b99b-ef626d051a98\">\n",
              "    <div class=\"colab-df-container\">\n",
              "      <div>\n",
              "<style scoped>\n",
              "    .dataframe tbody tr th:only-of-type {\n",
              "        vertical-align: middle;\n",
              "    }\n",
              "\n",
              "    .dataframe tbody tr th {\n",
              "        vertical-align: top;\n",
              "    }\n",
              "\n",
              "    .dataframe thead th {\n",
              "        text-align: right;\n",
              "    }\n",
              "</style>\n",
              "<table border=\"1\" class=\"dataframe\">\n",
              "  <thead>\n",
              "    <tr style=\"text-align: right;\">\n",
              "      <th></th>\n",
              "      <th>Unnamed: 0</th>\n",
              "      <th>city</th>\n",
              "      <th>floor</th>\n",
              "      <th>latitude</th>\n",
              "      <th>longitude</th>\n",
              "      <th>price</th>\n",
              "      <th>rooms</th>\n",
              "      <th>sq</th>\n",
              "      <th>year</th>\n",
              "      <th>distance</th>\n",
              "      <th>price_per_sq</th>\n",
              "    </tr>\n",
              "  </thead>\n",
              "  <tbody>\n",
              "    <tr>\n",
              "      <th>0</th>\n",
              "      <td>0</td>\n",
              "      <td>Krakow</td>\n",
              "      <td>2.00</td>\n",
              "      <td>50.05</td>\n",
              "      <td>19.97</td>\n",
              "      <td>749000.00</td>\n",
              "      <td>3.00</td>\n",
              "      <td>74.05</td>\n",
              "      <td>2021.00</td>\n",
              "      <td>1.85</td>\n",
              "      <td>10115.00</td>\n",
              "    </tr>\n",
              "    <tr>\n",
              "      <th>1</th>\n",
              "      <td>1</td>\n",
              "      <td>Warszawa</td>\n",
              "      <td>3.00</td>\n",
              "      <td>52.25</td>\n",
              "      <td>21.11</td>\n",
              "      <td>240548.00</td>\n",
              "      <td>1.00</td>\n",
              "      <td>24.38</td>\n",
              "      <td>2021.00</td>\n",
              "      <td>7.53</td>\n",
              "      <td>9867.00</td>\n",
              "    </tr>\n",
              "    <tr>\n",
              "      <th>2</th>\n",
              "      <td>2</td>\n",
              "      <td>Krakow</td>\n",
              "      <td>2.00</td>\n",
              "      <td>50.07</td>\n",
              "      <td>19.92</td>\n",
              "      <td>427000.00</td>\n",
              "      <td>2.00</td>\n",
              "      <td>37.00</td>\n",
              "      <td>1970.00</td>\n",
              "      <td>2.60</td>\n",
              "      <td>11541.00</td>\n",
              "    </tr>\n",
              "  </tbody>\n",
              "</table>\n",
              "</div>\n",
              "      <button class=\"colab-df-convert\" onclick=\"convertToInteractive('df-416a37b5-9dc6-4ef2-b99b-ef626d051a98')\"\n",
              "              title=\"Convert this dataframe to an interactive table.\"\n",
              "              style=\"display:none;\">\n",
              "        \n",
              "  <svg xmlns=\"http://www.w3.org/2000/svg\" height=\"24px\"viewBox=\"0 0 24 24\"\n",
              "       width=\"24px\">\n",
              "    <path d=\"M0 0h24v24H0V0z\" fill=\"none\"/>\n",
              "    <path d=\"M18.56 5.44l.94 2.06.94-2.06 2.06-.94-2.06-.94-.94-2.06-.94 2.06-2.06.94zm-11 1L8.5 8.5l.94-2.06 2.06-.94-2.06-.94L8.5 2.5l-.94 2.06-2.06.94zm10 10l.94 2.06.94-2.06 2.06-.94-2.06-.94-.94-2.06-.94 2.06-2.06.94z\"/><path d=\"M17.41 7.96l-1.37-1.37c-.4-.4-.92-.59-1.43-.59-.52 0-1.04.2-1.43.59L10.3 9.45l-7.72 7.72c-.78.78-.78 2.05 0 2.83L4 21.41c.39.39.9.59 1.41.59.51 0 1.02-.2 1.41-.59l7.78-7.78 2.81-2.81c.8-.78.8-2.07 0-2.86zM5.41 20L4 18.59l7.72-7.72 1.47 1.35L5.41 20z\"/>\n",
              "  </svg>\n",
              "      </button>\n",
              "      \n",
              "  <style>\n",
              "    .colab-df-container {\n",
              "      display:flex;\n",
              "      flex-wrap:wrap;\n",
              "      gap: 12px;\n",
              "    }\n",
              "\n",
              "    .colab-df-convert {\n",
              "      background-color: #E8F0FE;\n",
              "      border: none;\n",
              "      border-radius: 50%;\n",
              "      cursor: pointer;\n",
              "      display: none;\n",
              "      fill: #1967D2;\n",
              "      height: 32px;\n",
              "      padding: 0 0 0 0;\n",
              "      width: 32px;\n",
              "    }\n",
              "\n",
              "    .colab-df-convert:hover {\n",
              "      background-color: #E2EBFA;\n",
              "      box-shadow: 0px 1px 2px rgba(60, 64, 67, 0.3), 0px 1px 3px 1px rgba(60, 64, 67, 0.15);\n",
              "      fill: #174EA6;\n",
              "    }\n",
              "\n",
              "    [theme=dark] .colab-df-convert {\n",
              "      background-color: #3B4455;\n",
              "      fill: #D2E3FC;\n",
              "    }\n",
              "\n",
              "    [theme=dark] .colab-df-convert:hover {\n",
              "      background-color: #434B5C;\n",
              "      box-shadow: 0px 1px 3px 1px rgba(0, 0, 0, 0.15);\n",
              "      filter: drop-shadow(0px 1px 2px rgba(0, 0, 0, 0.3));\n",
              "      fill: #FFFFFF;\n",
              "    }\n",
              "  </style>\n",
              "\n",
              "      <script>\n",
              "        const buttonEl =\n",
              "          document.querySelector('#df-416a37b5-9dc6-4ef2-b99b-ef626d051a98 button.colab-df-convert');\n",
              "        buttonEl.style.display =\n",
              "          google.colab.kernel.accessAllowed ? 'block' : 'none';\n",
              "\n",
              "        async function convertToInteractive(key) {\n",
              "          const element = document.querySelector('#df-416a37b5-9dc6-4ef2-b99b-ef626d051a98');\n",
              "          const dataTable =\n",
              "            await google.colab.kernel.invokeFunction('convertToInteractive',\n",
              "                                                     [key], {});\n",
              "          if (!dataTable) return;\n",
              "\n",
              "          const docLinkHtml = 'Like what you see? Visit the ' +\n",
              "            '<a target=\"_blank\" href=https://colab.research.google.com/notebooks/data_table.ipynb>data table notebook</a>'\n",
              "            + ' to learn more about interactive tables.';\n",
              "          element.innerHTML = '';\n",
              "          dataTable['output_type'] = 'display_data';\n",
              "          await google.colab.output.renderOutput(dataTable, element);\n",
              "          const docLink = document.createElement('div');\n",
              "          docLink.innerHTML = docLinkHtml;\n",
              "          element.appendChild(docLink);\n",
              "        }\n",
              "      </script>\n",
              "    </div>\n",
              "  </div>\n",
              "  "
            ]
          },
          "metadata": {},
          "execution_count": 101
        }
      ],
      "source": [
        "df.head(3)"
      ]
    },
    {
      "cell_type": "code",
      "execution_count": 102,
      "metadata": {
        "id": "_IAlHEqsPq7X"
      },
      "outputs": [],
      "source": [
        "df.drop(['latitude', 'longitude', 'Unnamed: 0'], axis = 1, inplace = True)"
      ]
    },
    {
      "cell_type": "code",
      "execution_count": 103,
      "metadata": {
        "id": "wZ1zYcIVQEiX"
      },
      "outputs": [],
      "source": [
        "df[['floor', 'rooms', 'year', 'distance']] = df[['floor', 'rooms', 'year', 'distance']].astype({'floor':int, 'rooms':int, 'year':int, 'distance':float})"
      ]
    },
    {
      "cell_type": "code",
      "execution_count": 104,
      "metadata": {
        "id": "71CMga-2QRUm",
        "colab": {
          "base_uri": "https://localhost:8080/",
          "height": 143
        },
        "outputId": "8c074689-c9d9-487b-b3de-34f3f4558f21"
      },
      "outputs": [
        {
          "output_type": "execute_result",
          "data": {
            "text/plain": [
              "       city  floor     price  rooms    sq  year  distance  price_per_sq\n",
              "0    Krakow      2 749000.00      3 74.05  2021      1.85      10115.00\n",
              "1  Warszawa      3 240548.00      1 24.38  2021      7.53       9867.00\n",
              "2    Krakow      2 427000.00      2 37.00  1970      2.60      11541.00"
            ],
            "text/html": [
              "\n",
              "  <div id=\"df-1113d572-f7a2-44df-a47f-975d65cdb0c8\">\n",
              "    <div class=\"colab-df-container\">\n",
              "      <div>\n",
              "<style scoped>\n",
              "    .dataframe tbody tr th:only-of-type {\n",
              "        vertical-align: middle;\n",
              "    }\n",
              "\n",
              "    .dataframe tbody tr th {\n",
              "        vertical-align: top;\n",
              "    }\n",
              "\n",
              "    .dataframe thead th {\n",
              "        text-align: right;\n",
              "    }\n",
              "</style>\n",
              "<table border=\"1\" class=\"dataframe\">\n",
              "  <thead>\n",
              "    <tr style=\"text-align: right;\">\n",
              "      <th></th>\n",
              "      <th>city</th>\n",
              "      <th>floor</th>\n",
              "      <th>price</th>\n",
              "      <th>rooms</th>\n",
              "      <th>sq</th>\n",
              "      <th>year</th>\n",
              "      <th>distance</th>\n",
              "      <th>price_per_sq</th>\n",
              "    </tr>\n",
              "  </thead>\n",
              "  <tbody>\n",
              "    <tr>\n",
              "      <th>0</th>\n",
              "      <td>Krakow</td>\n",
              "      <td>2</td>\n",
              "      <td>749000.00</td>\n",
              "      <td>3</td>\n",
              "      <td>74.05</td>\n",
              "      <td>2021</td>\n",
              "      <td>1.85</td>\n",
              "      <td>10115.00</td>\n",
              "    </tr>\n",
              "    <tr>\n",
              "      <th>1</th>\n",
              "      <td>Warszawa</td>\n",
              "      <td>3</td>\n",
              "      <td>240548.00</td>\n",
              "      <td>1</td>\n",
              "      <td>24.38</td>\n",
              "      <td>2021</td>\n",
              "      <td>7.53</td>\n",
              "      <td>9867.00</td>\n",
              "    </tr>\n",
              "    <tr>\n",
              "      <th>2</th>\n",
              "      <td>Krakow</td>\n",
              "      <td>2</td>\n",
              "      <td>427000.00</td>\n",
              "      <td>2</td>\n",
              "      <td>37.00</td>\n",
              "      <td>1970</td>\n",
              "      <td>2.60</td>\n",
              "      <td>11541.00</td>\n",
              "    </tr>\n",
              "  </tbody>\n",
              "</table>\n",
              "</div>\n",
              "      <button class=\"colab-df-convert\" onclick=\"convertToInteractive('df-1113d572-f7a2-44df-a47f-975d65cdb0c8')\"\n",
              "              title=\"Convert this dataframe to an interactive table.\"\n",
              "              style=\"display:none;\">\n",
              "        \n",
              "  <svg xmlns=\"http://www.w3.org/2000/svg\" height=\"24px\"viewBox=\"0 0 24 24\"\n",
              "       width=\"24px\">\n",
              "    <path d=\"M0 0h24v24H0V0z\" fill=\"none\"/>\n",
              "    <path d=\"M18.56 5.44l.94 2.06.94-2.06 2.06-.94-2.06-.94-.94-2.06-.94 2.06-2.06.94zm-11 1L8.5 8.5l.94-2.06 2.06-.94-2.06-.94L8.5 2.5l-.94 2.06-2.06.94zm10 10l.94 2.06.94-2.06 2.06-.94-2.06-.94-.94-2.06-.94 2.06-2.06.94z\"/><path d=\"M17.41 7.96l-1.37-1.37c-.4-.4-.92-.59-1.43-.59-.52 0-1.04.2-1.43.59L10.3 9.45l-7.72 7.72c-.78.78-.78 2.05 0 2.83L4 21.41c.39.39.9.59 1.41.59.51 0 1.02-.2 1.41-.59l7.78-7.78 2.81-2.81c.8-.78.8-2.07 0-2.86zM5.41 20L4 18.59l7.72-7.72 1.47 1.35L5.41 20z\"/>\n",
              "  </svg>\n",
              "      </button>\n",
              "      \n",
              "  <style>\n",
              "    .colab-df-container {\n",
              "      display:flex;\n",
              "      flex-wrap:wrap;\n",
              "      gap: 12px;\n",
              "    }\n",
              "\n",
              "    .colab-df-convert {\n",
              "      background-color: #E8F0FE;\n",
              "      border: none;\n",
              "      border-radius: 50%;\n",
              "      cursor: pointer;\n",
              "      display: none;\n",
              "      fill: #1967D2;\n",
              "      height: 32px;\n",
              "      padding: 0 0 0 0;\n",
              "      width: 32px;\n",
              "    }\n",
              "\n",
              "    .colab-df-convert:hover {\n",
              "      background-color: #E2EBFA;\n",
              "      box-shadow: 0px 1px 2px rgba(60, 64, 67, 0.3), 0px 1px 3px 1px rgba(60, 64, 67, 0.15);\n",
              "      fill: #174EA6;\n",
              "    }\n",
              "\n",
              "    [theme=dark] .colab-df-convert {\n",
              "      background-color: #3B4455;\n",
              "      fill: #D2E3FC;\n",
              "    }\n",
              "\n",
              "    [theme=dark] .colab-df-convert:hover {\n",
              "      background-color: #434B5C;\n",
              "      box-shadow: 0px 1px 3px 1px rgba(0, 0, 0, 0.15);\n",
              "      filter: drop-shadow(0px 1px 2px rgba(0, 0, 0, 0.3));\n",
              "      fill: #FFFFFF;\n",
              "    }\n",
              "  </style>\n",
              "\n",
              "      <script>\n",
              "        const buttonEl =\n",
              "          document.querySelector('#df-1113d572-f7a2-44df-a47f-975d65cdb0c8 button.colab-df-convert');\n",
              "        buttonEl.style.display =\n",
              "          google.colab.kernel.accessAllowed ? 'block' : 'none';\n",
              "\n",
              "        async function convertToInteractive(key) {\n",
              "          const element = document.querySelector('#df-1113d572-f7a2-44df-a47f-975d65cdb0c8');\n",
              "          const dataTable =\n",
              "            await google.colab.kernel.invokeFunction('convertToInteractive',\n",
              "                                                     [key], {});\n",
              "          if (!dataTable) return;\n",
              "\n",
              "          const docLinkHtml = 'Like what you see? Visit the ' +\n",
              "            '<a target=\"_blank\" href=https://colab.research.google.com/notebooks/data_table.ipynb>data table notebook</a>'\n",
              "            + ' to learn more about interactive tables.';\n",
              "          element.innerHTML = '';\n",
              "          dataTable['output_type'] = 'display_data';\n",
              "          await google.colab.output.renderOutput(dataTable, element);\n",
              "          const docLink = document.createElement('div');\n",
              "          docLink.innerHTML = docLinkHtml;\n",
              "          element.appendChild(docLink);\n",
              "        }\n",
              "      </script>\n",
              "    </div>\n",
              "  </div>\n",
              "  "
            ]
          },
          "metadata": {},
          "execution_count": 104
        }
      ],
      "source": [
        "df.head(3)"
      ]
    },
    {
      "cell_type": "markdown",
      "metadata": {
        "id": "MPrfBTHuRCk2"
      },
      "source": [
        "**4. Removing outliers**"
      ]
    },
    {
      "cell_type": "code",
      "execution_count": 105,
      "metadata": {
        "id": "CUJ1OQUBSAvl"
      },
      "outputs": [],
      "source": [
        "pd.set_option('display.float_format', lambda x: '%.2f' % x)   #to fix issues with sq in df.describe "
      ]
    },
    {
      "cell_type": "code",
      "execution_count": 106,
      "metadata": {
        "id": "PFJlIHh7RFKo",
        "colab": {
          "base_uri": "https://localhost:8080/",
          "height": 300
        },
        "outputId": "d6daf1cf-1308-4513-889d-97e2a9a1c96e"
      },
      "outputs": [
        {
          "output_type": "execute_result",
          "data": {
            "text/plain": [
              "         floor       price    rooms         sq     year  distance  \\\n",
              "count 23764.00    23764.00 23764.00   23764.00 23764.00  23764.00   \n",
              "mean      2.81   649353.65     2.62     102.72  2000.55      5.96   \n",
              "std       2.46   532696.99     1.00    6533.69    48.31     20.92   \n",
              "min       0.00     5000.00     1.00       8.80    70.00      0.02   \n",
              "25%       1.00   411546.12     2.00      42.00  1985.00      2.61   \n",
              "50%       2.00   520000.00     3.00      53.89  2019.00      4.43   \n",
              "75%       4.00   699999.00     3.00      68.91  2021.00      6.63   \n",
              "max      10.00 15000000.00    10.00 1007185.00  2980.00   1148.64   \n",
              "\n",
              "       price_per_sq  \n",
              "count      23764.00  \n",
              "mean       10760.98  \n",
              "std         3861.16  \n",
              "min            1.00  \n",
              "25%         8400.00  \n",
              "50%         9948.00  \n",
              "75%        12318.25  \n",
              "max       138636.00  "
            ],
            "text/html": [
              "\n",
              "  <div id=\"df-59b6a288-93ea-4547-b8db-87e3d51bbc55\">\n",
              "    <div class=\"colab-df-container\">\n",
              "      <div>\n",
              "<style scoped>\n",
              "    .dataframe tbody tr th:only-of-type {\n",
              "        vertical-align: middle;\n",
              "    }\n",
              "\n",
              "    .dataframe tbody tr th {\n",
              "        vertical-align: top;\n",
              "    }\n",
              "\n",
              "    .dataframe thead th {\n",
              "        text-align: right;\n",
              "    }\n",
              "</style>\n",
              "<table border=\"1\" class=\"dataframe\">\n",
              "  <thead>\n",
              "    <tr style=\"text-align: right;\">\n",
              "      <th></th>\n",
              "      <th>floor</th>\n",
              "      <th>price</th>\n",
              "      <th>rooms</th>\n",
              "      <th>sq</th>\n",
              "      <th>year</th>\n",
              "      <th>distance</th>\n",
              "      <th>price_per_sq</th>\n",
              "    </tr>\n",
              "  </thead>\n",
              "  <tbody>\n",
              "    <tr>\n",
              "      <th>count</th>\n",
              "      <td>23764.00</td>\n",
              "      <td>23764.00</td>\n",
              "      <td>23764.00</td>\n",
              "      <td>23764.00</td>\n",
              "      <td>23764.00</td>\n",
              "      <td>23764.00</td>\n",
              "      <td>23764.00</td>\n",
              "    </tr>\n",
              "    <tr>\n",
              "      <th>mean</th>\n",
              "      <td>2.81</td>\n",
              "      <td>649353.65</td>\n",
              "      <td>2.62</td>\n",
              "      <td>102.72</td>\n",
              "      <td>2000.55</td>\n",
              "      <td>5.96</td>\n",
              "      <td>10760.98</td>\n",
              "    </tr>\n",
              "    <tr>\n",
              "      <th>std</th>\n",
              "      <td>2.46</td>\n",
              "      <td>532696.99</td>\n",
              "      <td>1.00</td>\n",
              "      <td>6533.69</td>\n",
              "      <td>48.31</td>\n",
              "      <td>20.92</td>\n",
              "      <td>3861.16</td>\n",
              "    </tr>\n",
              "    <tr>\n",
              "      <th>min</th>\n",
              "      <td>0.00</td>\n",
              "      <td>5000.00</td>\n",
              "      <td>1.00</td>\n",
              "      <td>8.80</td>\n",
              "      <td>70.00</td>\n",
              "      <td>0.02</td>\n",
              "      <td>1.00</td>\n",
              "    </tr>\n",
              "    <tr>\n",
              "      <th>25%</th>\n",
              "      <td>1.00</td>\n",
              "      <td>411546.12</td>\n",
              "      <td>2.00</td>\n",
              "      <td>42.00</td>\n",
              "      <td>1985.00</td>\n",
              "      <td>2.61</td>\n",
              "      <td>8400.00</td>\n",
              "    </tr>\n",
              "    <tr>\n",
              "      <th>50%</th>\n",
              "      <td>2.00</td>\n",
              "      <td>520000.00</td>\n",
              "      <td>3.00</td>\n",
              "      <td>53.89</td>\n",
              "      <td>2019.00</td>\n",
              "      <td>4.43</td>\n",
              "      <td>9948.00</td>\n",
              "    </tr>\n",
              "    <tr>\n",
              "      <th>75%</th>\n",
              "      <td>4.00</td>\n",
              "      <td>699999.00</td>\n",
              "      <td>3.00</td>\n",
              "      <td>68.91</td>\n",
              "      <td>2021.00</td>\n",
              "      <td>6.63</td>\n",
              "      <td>12318.25</td>\n",
              "    </tr>\n",
              "    <tr>\n",
              "      <th>max</th>\n",
              "      <td>10.00</td>\n",
              "      <td>15000000.00</td>\n",
              "      <td>10.00</td>\n",
              "      <td>1007185.00</td>\n",
              "      <td>2980.00</td>\n",
              "      <td>1148.64</td>\n",
              "      <td>138636.00</td>\n",
              "    </tr>\n",
              "  </tbody>\n",
              "</table>\n",
              "</div>\n",
              "      <button class=\"colab-df-convert\" onclick=\"convertToInteractive('df-59b6a288-93ea-4547-b8db-87e3d51bbc55')\"\n",
              "              title=\"Convert this dataframe to an interactive table.\"\n",
              "              style=\"display:none;\">\n",
              "        \n",
              "  <svg xmlns=\"http://www.w3.org/2000/svg\" height=\"24px\"viewBox=\"0 0 24 24\"\n",
              "       width=\"24px\">\n",
              "    <path d=\"M0 0h24v24H0V0z\" fill=\"none\"/>\n",
              "    <path d=\"M18.56 5.44l.94 2.06.94-2.06 2.06-.94-2.06-.94-.94-2.06-.94 2.06-2.06.94zm-11 1L8.5 8.5l.94-2.06 2.06-.94-2.06-.94L8.5 2.5l-.94 2.06-2.06.94zm10 10l.94 2.06.94-2.06 2.06-.94-2.06-.94-.94-2.06-.94 2.06-2.06.94z\"/><path d=\"M17.41 7.96l-1.37-1.37c-.4-.4-.92-.59-1.43-.59-.52 0-1.04.2-1.43.59L10.3 9.45l-7.72 7.72c-.78.78-.78 2.05 0 2.83L4 21.41c.39.39.9.59 1.41.59.51 0 1.02-.2 1.41-.59l7.78-7.78 2.81-2.81c.8-.78.8-2.07 0-2.86zM5.41 20L4 18.59l7.72-7.72 1.47 1.35L5.41 20z\"/>\n",
              "  </svg>\n",
              "      </button>\n",
              "      \n",
              "  <style>\n",
              "    .colab-df-container {\n",
              "      display:flex;\n",
              "      flex-wrap:wrap;\n",
              "      gap: 12px;\n",
              "    }\n",
              "\n",
              "    .colab-df-convert {\n",
              "      background-color: #E8F0FE;\n",
              "      border: none;\n",
              "      border-radius: 50%;\n",
              "      cursor: pointer;\n",
              "      display: none;\n",
              "      fill: #1967D2;\n",
              "      height: 32px;\n",
              "      padding: 0 0 0 0;\n",
              "      width: 32px;\n",
              "    }\n",
              "\n",
              "    .colab-df-convert:hover {\n",
              "      background-color: #E2EBFA;\n",
              "      box-shadow: 0px 1px 2px rgba(60, 64, 67, 0.3), 0px 1px 3px 1px rgba(60, 64, 67, 0.15);\n",
              "      fill: #174EA6;\n",
              "    }\n",
              "\n",
              "    [theme=dark] .colab-df-convert {\n",
              "      background-color: #3B4455;\n",
              "      fill: #D2E3FC;\n",
              "    }\n",
              "\n",
              "    [theme=dark] .colab-df-convert:hover {\n",
              "      background-color: #434B5C;\n",
              "      box-shadow: 0px 1px 3px 1px rgba(0, 0, 0, 0.15);\n",
              "      filter: drop-shadow(0px 1px 2px rgba(0, 0, 0, 0.3));\n",
              "      fill: #FFFFFF;\n",
              "    }\n",
              "  </style>\n",
              "\n",
              "      <script>\n",
              "        const buttonEl =\n",
              "          document.querySelector('#df-59b6a288-93ea-4547-b8db-87e3d51bbc55 button.colab-df-convert');\n",
              "        buttonEl.style.display =\n",
              "          google.colab.kernel.accessAllowed ? 'block' : 'none';\n",
              "\n",
              "        async function convertToInteractive(key) {\n",
              "          const element = document.querySelector('#df-59b6a288-93ea-4547-b8db-87e3d51bbc55');\n",
              "          const dataTable =\n",
              "            await google.colab.kernel.invokeFunction('convertToInteractive',\n",
              "                                                     [key], {});\n",
              "          if (!dataTable) return;\n",
              "\n",
              "          const docLinkHtml = 'Like what you see? Visit the ' +\n",
              "            '<a target=\"_blank\" href=https://colab.research.google.com/notebooks/data_table.ipynb>data table notebook</a>'\n",
              "            + ' to learn more about interactive tables.';\n",
              "          element.innerHTML = '';\n",
              "          dataTable['output_type'] = 'display_data';\n",
              "          await google.colab.output.renderOutput(dataTable, element);\n",
              "          const docLink = document.createElement('div');\n",
              "          docLink.innerHTML = docLinkHtml;\n",
              "          element.appendChild(docLink);\n",
              "        }\n",
              "      </script>\n",
              "    </div>\n",
              "  </div>\n",
              "  "
            ]
          },
          "metadata": {},
          "execution_count": 106
        }
      ],
      "source": [
        "df.describe()"
      ]
    },
    {
      "cell_type": "markdown",
      "metadata": {
        "id": "3X0o_p11SK82"
      },
      "source": [
        "Plan based on df.describe: \n",
        "\n",
        "\n",
        "* price - to check min and max values \n",
        "\n",
        "* rooms - to check max value\n",
        "\n",
        "* sq - to check min and max values\n",
        "\n",
        "* year - to check max value\n",
        "\n",
        "* distance - to check max values\n",
        "\n",
        "* price_per_sq - to check min and max values\n"
      ]
    },
    {
      "cell_type": "markdown",
      "metadata": {
        "id": "B1RyIPiSTZxf"
      },
      "source": [
        "Price : "
      ]
    },
    {
      "cell_type": "code",
      "execution_count": 107,
      "metadata": {
        "id": "5qakt73xSZFv",
        "colab": {
          "base_uri": "https://localhost:8080/",
          "height": 423
        },
        "outputId": "8174308e-2d42-4f86-d807-7c0ff9d9c4b5"
      },
      "outputs": [
        {
          "output_type": "execute_result",
          "data": {
            "text/plain": [
              "           city  floor       price  rooms     sq  year  distance  price_per_sq\n",
              "12968  Warszawa      9 15000000.00      5 262.00  2017      0.62      57252.00\n",
              "15169  Warszawa     10 13500000.00      4 236.00  2017      0.62      57203.00\n",
              "3543   Warszawa      5 10950000.00      5 249.00  2011      2.06      43976.00\n",
              "129    Warszawa     10  9506700.00      5 271.60  2021      1.31      35003.00\n",
              "7991   Warszawa      4  9300000.00      5 212.00  2011      2.06      43868.00\n",
              "...         ...    ...         ...    ...    ...   ...       ...           ...\n",
              "21913    Krakow      0    83000.00      1  26.30  2002      6.58       3156.00\n",
              "11867    Poznan      5    79900.00      3  48.50  2000      1.29       1647.00\n",
              "23679    Poznan      3    69000.00      1  33.00  2003      4.46       2091.00\n",
              "22783    Poznan      1    29900.00      2  49.00  2003      2.41        610.00\n",
              "10084  Warszawa      1     5000.00      2  50.00  2009      0.73        100.00\n",
              "\n",
              "[12199 rows x 8 columns]"
            ],
            "text/html": [
              "\n",
              "  <div id=\"df-7318d19f-0902-4bb7-b986-e7f63b0c2df3\">\n",
              "    <div class=\"colab-df-container\">\n",
              "      <div>\n",
              "<style scoped>\n",
              "    .dataframe tbody tr th:only-of-type {\n",
              "        vertical-align: middle;\n",
              "    }\n",
              "\n",
              "    .dataframe tbody tr th {\n",
              "        vertical-align: top;\n",
              "    }\n",
              "\n",
              "    .dataframe thead th {\n",
              "        text-align: right;\n",
              "    }\n",
              "</style>\n",
              "<table border=\"1\" class=\"dataframe\">\n",
              "  <thead>\n",
              "    <tr style=\"text-align: right;\">\n",
              "      <th></th>\n",
              "      <th>city</th>\n",
              "      <th>floor</th>\n",
              "      <th>price</th>\n",
              "      <th>rooms</th>\n",
              "      <th>sq</th>\n",
              "      <th>year</th>\n",
              "      <th>distance</th>\n",
              "      <th>price_per_sq</th>\n",
              "    </tr>\n",
              "  </thead>\n",
              "  <tbody>\n",
              "    <tr>\n",
              "      <th>12968</th>\n",
              "      <td>Warszawa</td>\n",
              "      <td>9</td>\n",
              "      <td>15000000.00</td>\n",
              "      <td>5</td>\n",
              "      <td>262.00</td>\n",
              "      <td>2017</td>\n",
              "      <td>0.62</td>\n",
              "      <td>57252.00</td>\n",
              "    </tr>\n",
              "    <tr>\n",
              "      <th>15169</th>\n",
              "      <td>Warszawa</td>\n",
              "      <td>10</td>\n",
              "      <td>13500000.00</td>\n",
              "      <td>4</td>\n",
              "      <td>236.00</td>\n",
              "      <td>2017</td>\n",
              "      <td>0.62</td>\n",
              "      <td>57203.00</td>\n",
              "    </tr>\n",
              "    <tr>\n",
              "      <th>3543</th>\n",
              "      <td>Warszawa</td>\n",
              "      <td>5</td>\n",
              "      <td>10950000.00</td>\n",
              "      <td>5</td>\n",
              "      <td>249.00</td>\n",
              "      <td>2011</td>\n",
              "      <td>2.06</td>\n",
              "      <td>43976.00</td>\n",
              "    </tr>\n",
              "    <tr>\n",
              "      <th>129</th>\n",
              "      <td>Warszawa</td>\n",
              "      <td>10</td>\n",
              "      <td>9506700.00</td>\n",
              "      <td>5</td>\n",
              "      <td>271.60</td>\n",
              "      <td>2021</td>\n",
              "      <td>1.31</td>\n",
              "      <td>35003.00</td>\n",
              "    </tr>\n",
              "    <tr>\n",
              "      <th>7991</th>\n",
              "      <td>Warszawa</td>\n",
              "      <td>4</td>\n",
              "      <td>9300000.00</td>\n",
              "      <td>5</td>\n",
              "      <td>212.00</td>\n",
              "      <td>2011</td>\n",
              "      <td>2.06</td>\n",
              "      <td>43868.00</td>\n",
              "    </tr>\n",
              "    <tr>\n",
              "      <th>...</th>\n",
              "      <td>...</td>\n",
              "      <td>...</td>\n",
              "      <td>...</td>\n",
              "      <td>...</td>\n",
              "      <td>...</td>\n",
              "      <td>...</td>\n",
              "      <td>...</td>\n",
              "      <td>...</td>\n",
              "    </tr>\n",
              "    <tr>\n",
              "      <th>21913</th>\n",
              "      <td>Krakow</td>\n",
              "      <td>0</td>\n",
              "      <td>83000.00</td>\n",
              "      <td>1</td>\n",
              "      <td>26.30</td>\n",
              "      <td>2002</td>\n",
              "      <td>6.58</td>\n",
              "      <td>3156.00</td>\n",
              "    </tr>\n",
              "    <tr>\n",
              "      <th>11867</th>\n",
              "      <td>Poznan</td>\n",
              "      <td>5</td>\n",
              "      <td>79900.00</td>\n",
              "      <td>3</td>\n",
              "      <td>48.50</td>\n",
              "      <td>2000</td>\n",
              "      <td>1.29</td>\n",
              "      <td>1647.00</td>\n",
              "    </tr>\n",
              "    <tr>\n",
              "      <th>23679</th>\n",
              "      <td>Poznan</td>\n",
              "      <td>3</td>\n",
              "      <td>69000.00</td>\n",
              "      <td>1</td>\n",
              "      <td>33.00</td>\n",
              "      <td>2003</td>\n",
              "      <td>4.46</td>\n",
              "      <td>2091.00</td>\n",
              "    </tr>\n",
              "    <tr>\n",
              "      <th>22783</th>\n",
              "      <td>Poznan</td>\n",
              "      <td>1</td>\n",
              "      <td>29900.00</td>\n",
              "      <td>2</td>\n",
              "      <td>49.00</td>\n",
              "      <td>2003</td>\n",
              "      <td>2.41</td>\n",
              "      <td>610.00</td>\n",
              "    </tr>\n",
              "    <tr>\n",
              "      <th>10084</th>\n",
              "      <td>Warszawa</td>\n",
              "      <td>1</td>\n",
              "      <td>5000.00</td>\n",
              "      <td>2</td>\n",
              "      <td>50.00</td>\n",
              "      <td>2009</td>\n",
              "      <td>0.73</td>\n",
              "      <td>100.00</td>\n",
              "    </tr>\n",
              "  </tbody>\n",
              "</table>\n",
              "<p>12199 rows × 8 columns</p>\n",
              "</div>\n",
              "      <button class=\"colab-df-convert\" onclick=\"convertToInteractive('df-7318d19f-0902-4bb7-b986-e7f63b0c2df3')\"\n",
              "              title=\"Convert this dataframe to an interactive table.\"\n",
              "              style=\"display:none;\">\n",
              "        \n",
              "  <svg xmlns=\"http://www.w3.org/2000/svg\" height=\"24px\"viewBox=\"0 0 24 24\"\n",
              "       width=\"24px\">\n",
              "    <path d=\"M0 0h24v24H0V0z\" fill=\"none\"/>\n",
              "    <path d=\"M18.56 5.44l.94 2.06.94-2.06 2.06-.94-2.06-.94-.94-2.06-.94 2.06-2.06.94zm-11 1L8.5 8.5l.94-2.06 2.06-.94-2.06-.94L8.5 2.5l-.94 2.06-2.06.94zm10 10l.94 2.06.94-2.06 2.06-.94-2.06-.94-.94-2.06-.94 2.06-2.06.94z\"/><path d=\"M17.41 7.96l-1.37-1.37c-.4-.4-.92-.59-1.43-.59-.52 0-1.04.2-1.43.59L10.3 9.45l-7.72 7.72c-.78.78-.78 2.05 0 2.83L4 21.41c.39.39.9.59 1.41.59.51 0 1.02-.2 1.41-.59l7.78-7.78 2.81-2.81c.8-.78.8-2.07 0-2.86zM5.41 20L4 18.59l7.72-7.72 1.47 1.35L5.41 20z\"/>\n",
              "  </svg>\n",
              "      </button>\n",
              "      \n",
              "  <style>\n",
              "    .colab-df-container {\n",
              "      display:flex;\n",
              "      flex-wrap:wrap;\n",
              "      gap: 12px;\n",
              "    }\n",
              "\n",
              "    .colab-df-convert {\n",
              "      background-color: #E8F0FE;\n",
              "      border: none;\n",
              "      border-radius: 50%;\n",
              "      cursor: pointer;\n",
              "      display: none;\n",
              "      fill: #1967D2;\n",
              "      height: 32px;\n",
              "      padding: 0 0 0 0;\n",
              "      width: 32px;\n",
              "    }\n",
              "\n",
              "    .colab-df-convert:hover {\n",
              "      background-color: #E2EBFA;\n",
              "      box-shadow: 0px 1px 2px rgba(60, 64, 67, 0.3), 0px 1px 3px 1px rgba(60, 64, 67, 0.15);\n",
              "      fill: #174EA6;\n",
              "    }\n",
              "\n",
              "    [theme=dark] .colab-df-convert {\n",
              "      background-color: #3B4455;\n",
              "      fill: #D2E3FC;\n",
              "    }\n",
              "\n",
              "    [theme=dark] .colab-df-convert:hover {\n",
              "      background-color: #434B5C;\n",
              "      box-shadow: 0px 1px 3px 1px rgba(0, 0, 0, 0.15);\n",
              "      filter: drop-shadow(0px 1px 2px rgba(0, 0, 0, 0.3));\n",
              "      fill: #FFFFFF;\n",
              "    }\n",
              "  </style>\n",
              "\n",
              "      <script>\n",
              "        const buttonEl =\n",
              "          document.querySelector('#df-7318d19f-0902-4bb7-b986-e7f63b0c2df3 button.colab-df-convert');\n",
              "        buttonEl.style.display =\n",
              "          google.colab.kernel.accessAllowed ? 'block' : 'none';\n",
              "\n",
              "        async function convertToInteractive(key) {\n",
              "          const element = document.querySelector('#df-7318d19f-0902-4bb7-b986-e7f63b0c2df3');\n",
              "          const dataTable =\n",
              "            await google.colab.kernel.invokeFunction('convertToInteractive',\n",
              "                                                     [key], {});\n",
              "          if (!dataTable) return;\n",
              "\n",
              "          const docLinkHtml = 'Like what you see? Visit the ' +\n",
              "            '<a target=\"_blank\" href=https://colab.research.google.com/notebooks/data_table.ipynb>data table notebook</a>'\n",
              "            + ' to learn more about interactive tables.';\n",
              "          element.innerHTML = '';\n",
              "          dataTable['output_type'] = 'display_data';\n",
              "          await google.colab.output.renderOutput(dataTable, element);\n",
              "          const docLink = document.createElement('div');\n",
              "          docLink.innerHTML = docLinkHtml;\n",
              "          element.appendChild(docLink);\n",
              "        }\n",
              "      </script>\n",
              "    </div>\n",
              "  </div>\n",
              "  "
            ]
          },
          "metadata": {},
          "execution_count": 107
        }
      ],
      "source": [
        "outliers_price = df.sort_values('price', ascending = False).groupby('price').head()\n",
        "outliers_price"
      ]
    },
    {
      "cell_type": "code",
      "execution_count": 108,
      "metadata": {
        "id": "dl55rk8gTx6l",
        "colab": {
          "base_uri": "https://localhost:8080/",
          "height": 297
        },
        "outputId": "8182c2ff-f781-4677-ab9d-89458c180733"
      },
      "outputs": [
        {
          "output_type": "execute_result",
          "data": {
            "text/plain": [
              "<matplotlib.axes._subplots.AxesSubplot at 0x7f40c0f91f50>"
            ]
          },
          "metadata": {},
          "execution_count": 108
        },
        {
          "output_type": "display_data",
          "data": {
            "text/plain": [
              "<Figure size 432x288 with 1 Axes>"
            ],
            "image/png": "[encoded data removed]"
          },
          "metadata": {
            "needs_background": "light"
          }
        }
      ],
      "source": [
        "sns.boxplot(x = df['price'])"
      ]
    },
    {
      "cell_type": "markdown",
      "metadata": {
        "id": "-mpfYLJOT6hu"
      },
      "source": [
        "* Price max values - acceptable\n",
        "* Price min values - remove lines with price under 30000 ( 2 lines ) "
      ]
    },
    {
      "cell_type": "markdown",
      "metadata": {
        "id": "QKDLmzCJUHfG"
      },
      "source": [
        "Rooms:"
      ]
    },
    {
      "cell_type": "code",
      "execution_count": 109,
      "metadata": {
        "id": "a-lkbsaHTyZ_",
        "colab": {
          "base_uri": "https://localhost:8080/",
          "height": 423
        },
        "outputId": "20f401f6-6572-4bc9-923e-78250bf3dfa8"
      },
      "outputs": [
        {
          "output_type": "execute_result",
          "data": {
            "text/plain": [
              "           city  floor      price  rooms     sq  year  distance  price_per_sq\n",
              "13662    Krakow      4 6299000.00     10 442.20  2017      3.58      14245.00\n",
              "19224    Poznan      0 1490000.00     10 179.50  2020      4.46       8301.00\n",
              "13775    Krakow      0 2800000.00     10 260.00  2020      4.16      10769.00\n",
              "17507  Warszawa      3  309990.00     10  26.00  1962      0.73      11923.00\n",
              "16920    Krakow      3 1050000.00     10 220.00  1980      3.45       4773.00\n",
              "...         ...    ...        ...    ...    ...   ...       ...           ...\n",
              "21228    Poznan      0  191700.00      1  27.00  2020      2.73       7100.00\n",
              "14925    Krakow      6  358110.00      1  34.50  2021      2.62      10380.00\n",
              "11810  Warszawa      1  276770.00      1  28.63  2022     11.60       9667.00\n",
              "7434     Krakow      3  235190.00      1  16.22  2021      2.77      14500.00\n",
              "21235    Krakow      2  716394.60      1  30.33  2020      2.09      23620.00\n",
              "\n",
              "[12199 rows x 8 columns]"
            ],
            "text/html": [
              "\n",
              "  <div id=\"df-68711449-9ed0-48d7-aa28-8153d3a0badc\">\n",
              "    <div class=\"colab-df-container\">\n",
              "      <div>\n",
              "<style scoped>\n",
              "    .dataframe tbody tr th:only-of-type {\n",
              "        vertical-align: middle;\n",
              "    }\n",
              "\n",
              "    .dataframe tbody tr th {\n",
              "        vertical-align: top;\n",
              "    }\n",
              "\n",
              "    .dataframe thead th {\n",
              "        text-align: right;\n",
              "    }\n",
              "</style>\n",
              "<table border=\"1\" class=\"dataframe\">\n",
              "  <thead>\n",
              "    <tr style=\"text-align: right;\">\n",
              "      <th></th>\n",
              "      <th>city</th>\n",
              "      <th>floor</th>\n",
              "      <th>price</th>\n",
              "      <th>rooms</th>\n",
              "      <th>sq</th>\n",
              "      <th>year</th>\n",
              "      <th>distance</th>\n",
              "      <th>price_per_sq</th>\n",
              "    </tr>\n",
              "  </thead>\n",
              "  <tbody>\n",
              "    <tr>\n",
              "      <th>13662</th>\n",
              "      <td>Krakow</td>\n",
              "      <td>4</td>\n",
              "      <td>6299000.00</td>\n",
              "      <td>10</td>\n",
              "      <td>442.20</td>\n",
              "      <td>2017</td>\n",
              "      <td>3.58</td>\n",
              "      <td>14245.00</td>\n",
              "    </tr>\n",
              "    <tr>\n",
              "      <th>19224</th>\n",
              "      <td>Poznan</td>\n",
              "      <td>0</td>\n",
              "      <td>1490000.00</td>\n",
              "      <td>10</td>\n",
              "      <td>179.50</td>\n",
              "      <td>2020</td>\n",
              "      <td>4.46</td>\n",
              "      <td>8301.00</td>\n",
              "    </tr>\n",
              "    <tr>\n",
              "      <th>13775</th>\n",
              "      <td>Krakow</td>\n",
              "      <td>0</td>\n",
              "      <td>2800000.00</td>\n",
              "      <td>10</td>\n",
              "      <td>260.00</td>\n",
              "      <td>2020</td>\n",
              "      <td>4.16</td>\n",
              "      <td>10769.00</td>\n",
              "    </tr>\n",
              "    <tr>\n",
              "      <th>17507</th>\n",
              "      <td>Warszawa</td>\n",
              "      <td>3</td>\n",
              "      <td>309990.00</td>\n",
              "      <td>10</td>\n",
              "      <td>26.00</td>\n",
              "      <td>1962</td>\n",
              "      <td>0.73</td>\n",
              "      <td>11923.00</td>\n",
              "    </tr>\n",
              "    <tr>\n",
              "      <th>16920</th>\n",
              "      <td>Krakow</td>\n",
              "      <td>3</td>\n",
              "      <td>1050000.00</td>\n",
              "      <td>10</td>\n",
              "      <td>220.00</td>\n",
              "      <td>1980</td>\n",
              "      <td>3.45</td>\n",
              "      <td>4773.00</td>\n",
              "    </tr>\n",
              "    <tr>\n",
              "      <th>...</th>\n",
              "      <td>...</td>\n",
              "      <td>...</td>\n",
              "      <td>...</td>\n",
              "      <td>...</td>\n",
              "      <td>...</td>\n",
              "      <td>...</td>\n",
              "      <td>...</td>\n",
              "      <td>...</td>\n",
              "    </tr>\n",
              "    <tr>\n",
              "      <th>21228</th>\n",
              "      <td>Poznan</td>\n",
              "      <td>0</td>\n",
              "      <td>191700.00</td>\n",
              "      <td>1</td>\n",
              "      <td>27.00</td>\n",
              "      <td>2020</td>\n",
              "      <td>2.73</td>\n",
              "      <td>7100.00</td>\n",
              "    </tr>\n",
              "    <tr>\n",
              "      <th>14925</th>\n",
              "      <td>Krakow</td>\n",
              "      <td>6</td>\n",
              "      <td>358110.00</td>\n",
              "      <td>1</td>\n",
              "      <td>34.50</td>\n",
              "      <td>2021</td>\n",
              "      <td>2.62</td>\n",
              "      <td>10380.00</td>\n",
              "    </tr>\n",
              "    <tr>\n",
              "      <th>11810</th>\n",
              "      <td>Warszawa</td>\n",
              "      <td>1</td>\n",
              "      <td>276770.00</td>\n",
              "      <td>1</td>\n",
              "      <td>28.63</td>\n",
              "      <td>2022</td>\n",
              "      <td>11.60</td>\n",
              "      <td>9667.00</td>\n",
              "    </tr>\n",
              "    <tr>\n",
              "      <th>7434</th>\n",
              "      <td>Krakow</td>\n",
              "      <td>3</td>\n",
              "      <td>235190.00</td>\n",
              "      <td>1</td>\n",
              "      <td>16.22</td>\n",
              "      <td>2021</td>\n",
              "      <td>2.77</td>\n",
              "      <td>14500.00</td>\n",
              "    </tr>\n",
              "    <tr>\n",
              "      <th>21235</th>\n",
              "      <td>Krakow</td>\n",
              "      <td>2</td>\n",
              "      <td>716394.60</td>\n",
              "      <td>1</td>\n",
              "      <td>30.33</td>\n",
              "      <td>2020</td>\n",
              "      <td>2.09</td>\n",
              "      <td>23620.00</td>\n",
              "    </tr>\n",
              "  </tbody>\n",
              "</table>\n",
              "<p>12199 rows × 8 columns</p>\n",
              "</div>\n",
              "      <button class=\"colab-df-convert\" onclick=\"convertToInteractive('df-68711449-9ed0-48d7-aa28-8153d3a0badc')\"\n",
              "              title=\"Convert this dataframe to an interactive table.\"\n",
              "              style=\"display:none;\">\n",
              "        \n",
              "  <svg xmlns=\"http://www.w3.org/2000/svg\" height=\"24px\"viewBox=\"0 0 24 24\"\n",
              "       width=\"24px\">\n",
              "    <path d=\"M0 0h24v24H0V0z\" fill=\"none\"/>\n",
              "    <path d=\"M18.56 5.44l.94 2.06.94-2.06 2.06-.94-2.06-.94-.94-2.06-.94 2.06-2.06.94zm-11 1L8.5 8.5l.94-2.06 2.06-.94-2.06-.94L8.5 2.5l-.94 2.06-2.06.94zm10 10l.94 2.06.94-2.06 2.06-.94-2.06-.94-.94-2.06-.94 2.06-2.06.94z\"/><path d=\"M17.41 7.96l-1.37-1.37c-.4-.4-.92-.59-1.43-.59-.52 0-1.04.2-1.43.59L10.3 9.45l-7.72 7.72c-.78.78-.78 2.05 0 2.83L4 21.41c.39.39.9.59 1.41.59.51 0 1.02-.2 1.41-.59l7.78-7.78 2.81-2.81c.8-.78.8-2.07 0-2.86zM5.41 20L4 18.59l7.72-7.72 1.47 1.35L5.41 20z\"/>\n",
              "  </svg>\n",
              "      </button>\n",
              "      \n",
              "  <style>\n",
              "    .colab-df-container {\n",
              "      display:flex;\n",
              "      flex-wrap:wrap;\n",
              "      gap: 12px;\n",
              "    }\n",
              "\n",
              "    .colab-df-convert {\n",
              "      background-color: #E8F0FE;\n",
              "      border: none;\n",
              "      border-radius: 50%;\n",
              "      cursor: pointer;\n",
              "      display: none;\n",
              "      fill: #1967D2;\n",
              "      height: 32px;\n",
              "      padding: 0 0 0 0;\n",
              "      width: 32px;\n",
              "    }\n",
              "\n",
              "    .colab-df-convert:hover {\n",
              "      background-color: #E2EBFA;\n",
              "      box-shadow: 0px 1px 2px rgba(60, 64, 67, 0.3), 0px 1px 3px 1px rgba(60, 64, 67, 0.15);\n",
              "      fill: #174EA6;\n",
              "    }\n",
              "\n",
              "    [theme=dark] .colab-df-convert {\n",
              "      background-color: #3B4455;\n",
              "      fill: #D2E3FC;\n",
              "    }\n",
              "\n",
              "    [theme=dark] .colab-df-convert:hover {\n",
              "      background-color: #434B5C;\n",
              "      box-shadow: 0px 1px 3px 1px rgba(0, 0, 0, 0.15);\n",
              "      filter: drop-shadow(0px 1px 2px rgba(0, 0, 0, 0.3));\n",
              "      fill: #FFFFFF;\n",
              "    }\n",
              "  </style>\n",
              "\n",
              "      <script>\n",
              "        const buttonEl =\n",
              "          document.querySelector('#df-68711449-9ed0-48d7-aa28-8153d3a0badc button.colab-df-convert');\n",
              "        buttonEl.style.display =\n",
              "          google.colab.kernel.accessAllowed ? 'block' : 'none';\n",
              "\n",
              "        async function convertToInteractive(key) {\n",
              "          const element = document.querySelector('#df-68711449-9ed0-48d7-aa28-8153d3a0badc');\n",
              "          const dataTable =\n",
              "            await google.colab.kernel.invokeFunction('convertToInteractive',\n",
              "                                                     [key], {});\n",
              "          if (!dataTable) return;\n",
              "\n",
              "          const docLinkHtml = 'Like what you see? Visit the ' +\n",
              "            '<a target=\"_blank\" href=https://colab.research.google.com/notebooks/data_table.ipynb>data table notebook</a>'\n",
              "            + ' to learn more about interactive tables.';\n",
              "          element.innerHTML = '';\n",
              "          dataTable['output_type'] = 'display_data';\n",
              "          await google.colab.output.renderOutput(dataTable, element);\n",
              "          const docLink = document.createElement('div');\n",
              "          docLink.innerHTML = docLinkHtml;\n",
              "          element.appendChild(docLink);\n",
              "        }\n",
              "      </script>\n",
              "    </div>\n",
              "  </div>\n",
              "  "
            ]
          },
          "metadata": {},
          "execution_count": 109
        }
      ],
      "source": [
        "outliers_rooms = df.sort_values('rooms', ascending = False).groupby('price').head()\n",
        "outliers_rooms"
      ]
    },
    {
      "cell_type": "markdown",
      "metadata": {
        "id": "8slBtgbWUmV2"
      },
      "source": [
        "* Room max values - rows with 10 rooms and small total sq will be removed based on price_per_square check \n",
        "* Room min values - acceptable"
      ]
    },
    {
      "cell_type": "markdown",
      "metadata": {
        "id": "f80y0aAsVBZ1"
      },
      "source": [
        "Square meters: "
      ]
    },
    {
      "cell_type": "code",
      "execution_count": 110,
      "metadata": {
        "id": "DK7rvTQFU0qx",
        "colab": {
          "base_uri": "https://localhost:8080/",
          "height": 423
        },
        "outputId": "d97ed7fd-078e-4833-b4d3-db0ec3d0c617"
      },
      "outputs": [
        {
          "output_type": "execute_result",
          "data": {
            "text/plain": [
              "           city  floor      price  rooms         sq  year  distance  \\\n",
              "6198     Krakow      2 1007185.00      5 1007185.00  2020      7.66   \n",
              "10798  Warszawa      1  389880.00      2    9000.00  2022      0.73   \n",
              "18637    Poznan      1  544169.00      4    8065.00  2021      1.29   \n",
              "5734     Krakow      4 6299000.00     10     442.20  2017      4.03   \n",
              "13662    Krakow      4 6299000.00     10     442.20  2017      3.58   \n",
              "...         ...    ...        ...    ...        ...   ...       ...   \n",
              "23628    Krakow      0  135000.00      1      13.00  2020      7.13   \n",
              "1749   Warszawa      0  217000.00      1      12.80  1936      3.46   \n",
              "2155     Krakow      0  229000.00      1      12.00  2018      2.94   \n",
              "6847   Warszawa      0  215000.00      1      11.74  1961      3.55   \n",
              "19580  Warszawa      0  225000.00      1      11.00  1968      1.31   \n",
              "\n",
              "       price_per_sq  \n",
              "6198           1.00  \n",
              "10798         43.00  \n",
              "18637         67.00  \n",
              "5734       14245.00  \n",
              "13662      14245.00  \n",
              "...             ...  \n",
              "23628      10385.00  \n",
              "1749       16953.00  \n",
              "2155       19083.00  \n",
              "6847       18313.00  \n",
              "19580      20455.00  \n",
              "\n",
              "[12199 rows x 8 columns]"
            ],
            "text/html": [
              "\n",
              "  <div id=\"df-99685aef-bfa1-4262-86a4-4998e36134b9\">\n",
              "    <div class=\"colab-df-container\">\n",
              "      <div>\n",
              "<style scoped>\n",
              "    .dataframe tbody tr th:only-of-type {\n",
              "        vertical-align: middle;\n",
              "    }\n",
              "\n",
              "    .dataframe tbody tr th {\n",
              "        vertical-align: top;\n",
              "    }\n",
              "\n",
              "    .dataframe thead th {\n",
              "        text-align: right;\n",
              "    }\n",
              "</style>\n",
              "<table border=\"1\" class=\"dataframe\">\n",
              "  <thead>\n",
              "    <tr style=\"text-align: right;\">\n",
              "      <th></th>\n",
              "      <th>city</th>\n",
              "      <th>floor</th>\n",
              "      <th>price</th>\n",
              "      <th>rooms</th>\n",
              "      <th>sq</th>\n",
              "      <th>year</th>\n",
              "      <th>distance</th>\n",
              "      <th>price_per_sq</th>\n",
              "    </tr>\n",
              "  </thead>\n",
              "  <tbody>\n",
              "    <tr>\n",
              "      <th>6198</th>\n",
              "      <td>Krakow</td>\n",
              "      <td>2</td>\n",
              "      <td>1007185.00</td>\n",
              "      <td>5</td>\n",
              "      <td>1007185.00</td>\n",
              "      <td>2020</td>\n",
              "      <td>7.66</td>\n",
              "      <td>1.00</td>\n",
              "    </tr>\n",
              "    <tr>\n",
              "      <th>10798</th>\n",
              "      <td>Warszawa</td>\n",
              "      <td>1</td>\n",
              "      <td>389880.00</td>\n",
              "      <td>2</td>\n",
              "      <td>9000.00</td>\n",
              "      <td>2022</td>\n",
              "      <td>0.73</td>\n",
              "      <td>43.00</td>\n",
              "    </tr>\n",
              "    <tr>\n",
              "      <th>18637</th>\n",
              "      <td>Poznan</td>\n",
              "      <td>1</td>\n",
              "      <td>544169.00</td>\n",
              "      <td>4</td>\n",
              "      <td>8065.00</td>\n",
              "      <td>2021</td>\n",
              "      <td>1.29</td>\n",
              "      <td>67.00</td>\n",
              "    </tr>\n",
              "    <tr>\n",
              "      <th>5734</th>\n",
              "      <td>Krakow</td>\n",
              "      <td>4</td>\n",
              "      <td>6299000.00</td>\n",
              "      <td>10</td>\n",
              "      <td>442.20</td>\n",
              "      <td>2017</td>\n",
              "      <td>4.03</td>\n",
              "      <td>14245.00</td>\n",
              "    </tr>\n",
              "    <tr>\n",
              "      <th>13662</th>\n",
              "      <td>Krakow</td>\n",
              "      <td>4</td>\n",
              "      <td>6299000.00</td>\n",
              "      <td>10</td>\n",
              "      <td>442.20</td>\n",
              "      <td>2017</td>\n",
              "      <td>3.58</td>\n",
              "      <td>14245.00</td>\n",
              "    </tr>\n",
              "    <tr>\n",
              "      <th>...</th>\n",
              "      <td>...</td>\n",
              "      <td>...</td>\n",
              "      <td>...</td>\n",
              "      <td>...</td>\n",
              "      <td>...</td>\n",
              "      <td>...</td>\n",
              "      <td>...</td>\n",
              "      <td>...</td>\n",
              "    </tr>\n",
              "    <tr>\n",
              "      <th>23628</th>\n",
              "      <td>Krakow</td>\n",
              "      <td>0</td>\n",
              "      <td>135000.00</td>\n",
              "      <td>1</td>\n",
              "      <td>13.00</td>\n",
              "      <td>2020</td>\n",
              "      <td>7.13</td>\n",
              "      <td>10385.00</td>\n",
              "    </tr>\n",
              "    <tr>\n",
              "      <th>1749</th>\n",
              "      <td>Warszawa</td>\n",
              "      <td>0</td>\n",
              "      <td>217000.00</td>\n",
              "      <td>1</td>\n",
              "      <td>12.80</td>\n",
              "      <td>1936</td>\n",
              "      <td>3.46</td>\n",
              "      <td>16953.00</td>\n",
              "    </tr>\n",
              "    <tr>\n",
              "      <th>2155</th>\n",
              "      <td>Krakow</td>\n",
              "      <td>0</td>\n",
              "      <td>229000.00</td>\n",
              "      <td>1</td>\n",
              "      <td>12.00</td>\n",
              "      <td>2018</td>\n",
              "      <td>2.94</td>\n",
              "      <td>19083.00</td>\n",
              "    </tr>\n",
              "    <tr>\n",
              "      <th>6847</th>\n",
              "      <td>Warszawa</td>\n",
              "      <td>0</td>\n",
              "      <td>215000.00</td>\n",
              "      <td>1</td>\n",
              "      <td>11.74</td>\n",
              "      <td>1961</td>\n",
              "      <td>3.55</td>\n",
              "      <td>18313.00</td>\n",
              "    </tr>\n",
              "    <tr>\n",
              "      <th>19580</th>\n",
              "      <td>Warszawa</td>\n",
              "      <td>0</td>\n",
              "      <td>225000.00</td>\n",
              "      <td>1</td>\n",
              "      <td>11.00</td>\n",
              "      <td>1968</td>\n",
              "      <td>1.31</td>\n",
              "      <td>20455.00</td>\n",
              "    </tr>\n",
              "  </tbody>\n",
              "</table>\n",
              "<p>12199 rows × 8 columns</p>\n",
              "</div>\n",
              "      <button class=\"colab-df-convert\" onclick=\"convertToInteractive('df-99685aef-bfa1-4262-86a4-4998e36134b9')\"\n",
              "              title=\"Convert this dataframe to an interactive table.\"\n",
              "              style=\"display:none;\">\n",
              "        \n",
              "  <svg xmlns=\"http://www.w3.org/2000/svg\" height=\"24px\"viewBox=\"0 0 24 24\"\n",
              "       width=\"24px\">\n",
              "    <path d=\"M0 0h24v24H0V0z\" fill=\"none\"/>\n",
              "    <path d=\"M18.56 5.44l.94 2.06.94-2.06 2.06-.94-2.06-.94-.94-2.06-.94 2.06-2.06.94zm-11 1L8.5 8.5l.94-2.06 2.06-.94-2.06-.94L8.5 2.5l-.94 2.06-2.06.94zm10 10l.94 2.06.94-2.06 2.06-.94-2.06-.94-.94-2.06-.94 2.06-2.06.94z\"/><path d=\"M17.41 7.96l-1.37-1.37c-.4-.4-.92-.59-1.43-.59-.52 0-1.04.2-1.43.59L10.3 9.45l-7.72 7.72c-.78.78-.78 2.05 0 2.83L4 21.41c.39.39.9.59 1.41.59.51 0 1.02-.2 1.41-.59l7.78-7.78 2.81-2.81c.8-.78.8-2.07 0-2.86zM5.41 20L4 18.59l7.72-7.72 1.47 1.35L5.41 20z\"/>\n",
              "  </svg>\n",
              "      </button>\n",
              "      \n",
              "  <style>\n",
              "    .colab-df-container {\n",
              "      display:flex;\n",
              "      flex-wrap:wrap;\n",
              "      gap: 12px;\n",
              "    }\n",
              "\n",
              "    .colab-df-convert {\n",
              "      background-color: #E8F0FE;\n",
              "      border: none;\n",
              "      border-radius: 50%;\n",
              "      cursor: pointer;\n",
              "      display: none;\n",
              "      fill: #1967D2;\n",
              "      height: 32px;\n",
              "      padding: 0 0 0 0;\n",
              "      width: 32px;\n",
              "    }\n",
              "\n",
              "    .colab-df-convert:hover {\n",
              "      background-color: #E2EBFA;\n",
              "      box-shadow: 0px 1px 2px rgba(60, 64, 67, 0.3), 0px 1px 3px 1px rgba(60, 64, 67, 0.15);\n",
              "      fill: #174EA6;\n",
              "    }\n",
              "\n",
              "    [theme=dark] .colab-df-convert {\n",
              "      background-color: #3B4455;\n",
              "      fill: #D2E3FC;\n",
              "    }\n",
              "\n",
              "    [theme=dark] .colab-df-convert:hover {\n",
              "      background-color: #434B5C;\n",
              "      box-shadow: 0px 1px 3px 1px rgba(0, 0, 0, 0.15);\n",
              "      filter: drop-shadow(0px 1px 2px rgba(0, 0, 0, 0.3));\n",
              "      fill: #FFFFFF;\n",
              "    }\n",
              "  </style>\n",
              "\n",
              "      <script>\n",
              "        const buttonEl =\n",
              "          document.querySelector('#df-99685aef-bfa1-4262-86a4-4998e36134b9 button.colab-df-convert');\n",
              "        buttonEl.style.display =\n",
              "          google.colab.kernel.accessAllowed ? 'block' : 'none';\n",
              "\n",
              "        async function convertToInteractive(key) {\n",
              "          const element = document.querySelector('#df-99685aef-bfa1-4262-86a4-4998e36134b9');\n",
              "          const dataTable =\n",
              "            await google.colab.kernel.invokeFunction('convertToInteractive',\n",
              "                                                     [key], {});\n",
              "          if (!dataTable) return;\n",
              "\n",
              "          const docLinkHtml = 'Like what you see? Visit the ' +\n",
              "            '<a target=\"_blank\" href=https://colab.research.google.com/notebooks/data_table.ipynb>data table notebook</a>'\n",
              "            + ' to learn more about interactive tables.';\n",
              "          element.innerHTML = '';\n",
              "          dataTable['output_type'] = 'display_data';\n",
              "          await google.colab.output.renderOutput(dataTable, element);\n",
              "          const docLink = document.createElement('div');\n",
              "          docLink.innerHTML = docLinkHtml;\n",
              "          element.appendChild(docLink);\n",
              "        }\n",
              "      </script>\n",
              "    </div>\n",
              "  </div>\n",
              "  "
            ]
          },
          "metadata": {},
          "execution_count": 110
        }
      ],
      "source": [
        "outliers_sq = df.sort_values('sq', ascending = False).groupby('price').head()\n",
        "outliers_sq"
      ]
    },
    {
      "cell_type": "code",
      "execution_count": 111,
      "metadata": {
        "id": "Bt96rjeKVGyn",
        "colab": {
          "base_uri": "https://localhost:8080/",
          "height": 297
        },
        "outputId": "077bad5a-85cc-44d2-c8e1-9b5145f90aa2"
      },
      "outputs": [
        {
          "output_type": "execute_result",
          "data": {
            "text/plain": [
              "<matplotlib.axes._subplots.AxesSubplot at 0x7f40c0eff950>"
            ]
          },
          "metadata": {},
          "execution_count": 111
        },
        {
          "output_type": "display_data",
          "data": {
            "text/plain": [
              "<Figure size 432x288 with 1 Axes>"
            ],
            "image/png": "[encoded data removed]"
          },
          "metadata": {
            "needs_background": "light"
          }
        }
      ],
      "source": [
        "sns.boxplot(x = df['sq'])"
      ]
    },
    {
      "cell_type": "code",
      "execution_count": 112,
      "metadata": {
        "id": "q-0GMFhpVJTu",
        "colab": {
          "base_uri": "https://localhost:8080/"
        },
        "outputId": "1445e98e-901e-4bed-a0b3-9e6a69b4810e"
      },
      "outputs": [
        {
          "output_type": "execute_result",
          "data": {
            "text/plain": [
              "3"
            ]
          },
          "metadata": {},
          "execution_count": 112
        }
      ],
      "source": [
        "df[df.sq > 500].shape[0]"
      ]
    },
    {
      "cell_type": "markdown",
      "metadata": {
        "id": "O5P4qxzfVage"
      },
      "source": [
        "* Sq max values - remove lines over 500 ( 3 lines ) \n",
        "* sq min values - acceptable"
      ]
    },
    {
      "cell_type": "markdown",
      "metadata": {
        "id": "S3uT6mDTVxcn"
      },
      "source": [
        "Year: "
      ]
    },
    {
      "cell_type": "code",
      "execution_count": 113,
      "metadata": {
        "id": "vMaES92HVc7k",
        "colab": {
          "base_uri": "https://localhost:8080/",
          "height": 423
        },
        "outputId": "bf36c357-ed58-4cf8-f96f-df2138bfdce5"
      },
      "outputs": [
        {
          "output_type": "execute_result",
          "data": {
            "text/plain": [
              "           city  floor     price  rooms    sq  year  distance  price_per_sq\n",
              "4345   Warszawa      8 520000.00      3 56.00  2980      0.73       9286.00\n",
              "13963  Warszawa      1 499497.00      1 31.29  2024      3.55      15963.00\n",
              "1638   Warszawa      3 441395.00      3 48.66  2023      0.73       9071.00\n",
              "6112     Poznan      5 495000.00      2 46.73  2023      4.81      10593.00\n",
              "15186    Krakow      1 245388.00      2 31.46  2023      8.68       7800.00\n",
              "...         ...    ...       ...    ...   ...   ...       ...           ...\n",
              "10408  Warszawa      9 450000.00      2 47.80    81      0.73       9414.00\n",
              "14431    Poznan      1 375000.00      3 64.00    80      1.29       5859.00\n",
              "4513   Warszawa     10 320000.00      1 28.00    80      0.73      11429.00\n",
              "1032   Warszawa      1 760000.00      3 53.00    75      0.73      14340.00\n",
              "7659     Poznan      2 235000.00      2 40.50    70      9.49       5802.00\n",
              "\n",
              "[698 rows x 8 columns]"
            ],
            "text/html": [
              "\n",
              "  <div id=\"df-1239ea96-6b60-48f6-93fc-ab8cdf5d14bd\">\n",
              "    <div class=\"colab-df-container\">\n",
              "      <div>\n",
              "<style scoped>\n",
              "    .dataframe tbody tr th:only-of-type {\n",
              "        vertical-align: middle;\n",
              "    }\n",
              "\n",
              "    .dataframe tbody tr th {\n",
              "        vertical-align: top;\n",
              "    }\n",
              "\n",
              "    .dataframe thead th {\n",
              "        text-align: right;\n",
              "    }\n",
              "</style>\n",
              "<table border=\"1\" class=\"dataframe\">\n",
              "  <thead>\n",
              "    <tr style=\"text-align: right;\">\n",
              "      <th></th>\n",
              "      <th>city</th>\n",
              "      <th>floor</th>\n",
              "      <th>price</th>\n",
              "      <th>rooms</th>\n",
              "      <th>sq</th>\n",
              "      <th>year</th>\n",
              "      <th>distance</th>\n",
              "      <th>price_per_sq</th>\n",
              "    </tr>\n",
              "  </thead>\n",
              "  <tbody>\n",
              "    <tr>\n",
              "      <th>4345</th>\n",
              "      <td>Warszawa</td>\n",
              "      <td>8</td>\n",
              "      <td>520000.00</td>\n",
              "      <td>3</td>\n",
              "      <td>56.00</td>\n",
              "      <td>2980</td>\n",
              "      <td>0.73</td>\n",
              "      <td>9286.00</td>\n",
              "    </tr>\n",
              "    <tr>\n",
              "      <th>13963</th>\n",
              "      <td>Warszawa</td>\n",
              "      <td>1</td>\n",
              "      <td>499497.00</td>\n",
              "      <td>1</td>\n",
              "      <td>31.29</td>\n",
              "      <td>2024</td>\n",
              "      <td>3.55</td>\n",
              "      <td>15963.00</td>\n",
              "    </tr>\n",
              "    <tr>\n",
              "      <th>1638</th>\n",
              "      <td>Warszawa</td>\n",
              "      <td>3</td>\n",
              "      <td>441395.00</td>\n",
              "      <td>3</td>\n",
              "      <td>48.66</td>\n",
              "      <td>2023</td>\n",
              "      <td>0.73</td>\n",
              "      <td>9071.00</td>\n",
              "    </tr>\n",
              "    <tr>\n",
              "      <th>6112</th>\n",
              "      <td>Poznan</td>\n",
              "      <td>5</td>\n",
              "      <td>495000.00</td>\n",
              "      <td>2</td>\n",
              "      <td>46.73</td>\n",
              "      <td>2023</td>\n",
              "      <td>4.81</td>\n",
              "      <td>10593.00</td>\n",
              "    </tr>\n",
              "    <tr>\n",
              "      <th>15186</th>\n",
              "      <td>Krakow</td>\n",
              "      <td>1</td>\n",
              "      <td>245388.00</td>\n",
              "      <td>2</td>\n",
              "      <td>31.46</td>\n",
              "      <td>2023</td>\n",
              "      <td>8.68</td>\n",
              "      <td>7800.00</td>\n",
              "    </tr>\n",
              "    <tr>\n",
              "      <th>...</th>\n",
              "      <td>...</td>\n",
              "      <td>...</td>\n",
              "      <td>...</td>\n",
              "      <td>...</td>\n",
              "      <td>...</td>\n",
              "      <td>...</td>\n",
              "      <td>...</td>\n",
              "      <td>...</td>\n",
              "    </tr>\n",
              "    <tr>\n",
              "      <th>10408</th>\n",
              "      <td>Warszawa</td>\n",
              "      <td>9</td>\n",
              "      <td>450000.00</td>\n",
              "      <td>2</td>\n",
              "      <td>47.80</td>\n",
              "      <td>81</td>\n",
              "      <td>0.73</td>\n",
              "      <td>9414.00</td>\n",
              "    </tr>\n",
              "    <tr>\n",
              "      <th>14431</th>\n",
              "      <td>Poznan</td>\n",
              "      <td>1</td>\n",
              "      <td>375000.00</td>\n",
              "      <td>3</td>\n",
              "      <td>64.00</td>\n",
              "      <td>80</td>\n",
              "      <td>1.29</td>\n",
              "      <td>5859.00</td>\n",
              "    </tr>\n",
              "    <tr>\n",
              "      <th>4513</th>\n",
              "      <td>Warszawa</td>\n",
              "      <td>10</td>\n",
              "      <td>320000.00</td>\n",
              "      <td>1</td>\n",
              "      <td>28.00</td>\n",
              "      <td>80</td>\n",
              "      <td>0.73</td>\n",
              "      <td>11429.00</td>\n",
              "    </tr>\n",
              "    <tr>\n",
              "      <th>1032</th>\n",
              "      <td>Warszawa</td>\n",
              "      <td>1</td>\n",
              "      <td>760000.00</td>\n",
              "      <td>3</td>\n",
              "      <td>53.00</td>\n",
              "      <td>75</td>\n",
              "      <td>0.73</td>\n",
              "      <td>14340.00</td>\n",
              "    </tr>\n",
              "    <tr>\n",
              "      <th>7659</th>\n",
              "      <td>Poznan</td>\n",
              "      <td>2</td>\n",
              "      <td>235000.00</td>\n",
              "      <td>2</td>\n",
              "      <td>40.50</td>\n",
              "      <td>70</td>\n",
              "      <td>9.49</td>\n",
              "      <td>5802.00</td>\n",
              "    </tr>\n",
              "  </tbody>\n",
              "</table>\n",
              "<p>698 rows × 8 columns</p>\n",
              "</div>\n",
              "      <button class=\"colab-df-convert\" onclick=\"convertToInteractive('df-1239ea96-6b60-48f6-93fc-ab8cdf5d14bd')\"\n",
              "              title=\"Convert this dataframe to an interactive table.\"\n",
              "              style=\"display:none;\">\n",
              "        \n",
              "  <svg xmlns=\"http://www.w3.org/2000/svg\" height=\"24px\"viewBox=\"0 0 24 24\"\n",
              "       width=\"24px\">\n",
              "    <path d=\"M0 0h24v24H0V0z\" fill=\"none\"/>\n",
              "    <path d=\"M18.56 5.44l.94 2.06.94-2.06 2.06-.94-2.06-.94-.94-2.06-.94 2.06-2.06.94zm-11 1L8.5 8.5l.94-2.06 2.06-.94-2.06-.94L8.5 2.5l-.94 2.06-2.06.94zm10 10l.94 2.06.94-2.06 2.06-.94-2.06-.94-.94-2.06-.94 2.06-2.06.94z\"/><path d=\"M17.41 7.96l-1.37-1.37c-.4-.4-.92-.59-1.43-.59-.52 0-1.04.2-1.43.59L10.3 9.45l-7.72 7.72c-.78.78-.78 2.05 0 2.83L4 21.41c.39.39.9.59 1.41.59.51 0 1.02-.2 1.41-.59l7.78-7.78 2.81-2.81c.8-.78.8-2.07 0-2.86zM5.41 20L4 18.59l7.72-7.72 1.47 1.35L5.41 20z\"/>\n",
              "  </svg>\n",
              "      </button>\n",
              "      \n",
              "  <style>\n",
              "    .colab-df-container {\n",
              "      display:flex;\n",
              "      flex-wrap:wrap;\n",
              "      gap: 12px;\n",
              "    }\n",
              "\n",
              "    .colab-df-convert {\n",
              "      background-color: #E8F0FE;\n",
              "      border: none;\n",
              "      border-radius: 50%;\n",
              "      cursor: pointer;\n",
              "      display: none;\n",
              "      fill: #1967D2;\n",
              "      height: 32px;\n",
              "      padding: 0 0 0 0;\n",
              "      width: 32px;\n",
              "    }\n",
              "\n",
              "    .colab-df-convert:hover {\n",
              "      background-color: #E2EBFA;\n",
              "      box-shadow: 0px 1px 2px rgba(60, 64, 67, 0.3), 0px 1px 3px 1px rgba(60, 64, 67, 0.15);\n",
              "      fill: #174EA6;\n",
              "    }\n",
              "\n",
              "    [theme=dark] .colab-df-convert {\n",
              "      background-color: #3B4455;\n",
              "      fill: #D2E3FC;\n",
              "    }\n",
              "\n",
              "    [theme=dark] .colab-df-convert:hover {\n",
              "      background-color: #434B5C;\n",
              "      box-shadow: 0px 1px 3px 1px rgba(0, 0, 0, 0.15);\n",
              "      filter: drop-shadow(0px 1px 2px rgba(0, 0, 0, 0.3));\n",
              "      fill: #FFFFFF;\n",
              "    }\n",
              "  </style>\n",
              "\n",
              "      <script>\n",
              "        const buttonEl =\n",
              "          document.querySelector('#df-1239ea96-6b60-48f6-93fc-ab8cdf5d14bd button.colab-df-convert');\n",
              "        buttonEl.style.display =\n",
              "          google.colab.kernel.accessAllowed ? 'block' : 'none';\n",
              "\n",
              "        async function convertToInteractive(key) {\n",
              "          const element = document.querySelector('#df-1239ea96-6b60-48f6-93fc-ab8cdf5d14bd');\n",
              "          const dataTable =\n",
              "            await google.colab.kernel.invokeFunction('convertToInteractive',\n",
              "                                                     [key], {});\n",
              "          if (!dataTable) return;\n",
              "\n",
              "          const docLinkHtml = 'Like what you see? Visit the ' +\n",
              "            '<a target=\"_blank\" href=https://colab.research.google.com/notebooks/data_table.ipynb>data table notebook</a>'\n",
              "            + ' to learn more about interactive tables.';\n",
              "          element.innerHTML = '';\n",
              "          dataTable['output_type'] = 'display_data';\n",
              "          await google.colab.output.renderOutput(dataTable, element);\n",
              "          const docLink = document.createElement('div');\n",
              "          docLink.innerHTML = docLinkHtml;\n",
              "          element.appendChild(docLink);\n",
              "        }\n",
              "      </script>\n",
              "    </div>\n",
              "  </div>\n",
              "  "
            ]
          },
          "metadata": {},
          "execution_count": 113
        }
      ],
      "source": [
        "outliers_year = df.sort_values('year', ascending = False).groupby('year').head()\n",
        "outliers_year"
      ]
    },
    {
      "cell_type": "code",
      "execution_count": 114,
      "metadata": {
        "id": "DpfrmXVYV6PI",
        "colab": {
          "base_uri": "https://localhost:8080/",
          "height": 297
        },
        "outputId": "bc809d94-5a51-45f3-8320-e367320c7c8d"
      },
      "outputs": [
        {
          "output_type": "execute_result",
          "data": {
            "text/plain": [
              "<matplotlib.axes._subplots.AxesSubplot at 0x7f40c0e7b150>"
            ]
          },
          "metadata": {},
          "execution_count": 114
        },
        {
          "output_type": "display_data",
          "data": {
            "text/plain": [
              "<Figure size 432x288 with 1 Axes>"
            ],
            "image/png": "[encoded data removed]"
          },
          "metadata": {
            "needs_background": "light"
          }
        }
      ],
      "source": [
        "sns.boxplot(x = df['year'])"
      ]
    },
    {
      "cell_type": "code",
      "execution_count": 115,
      "metadata": {
        "id": "Vyz1SgVCV9_H",
        "colab": {
          "base_uri": "https://localhost:8080/"
        },
        "outputId": "db197393-f861-406a-8ffb-2be1c46c7f20"
      },
      "outputs": [
        {
          "output_type": "stream",
          "name": "stdout",
          "text": [
            "Rows with year before 1800:  18\n",
            "Rows with year over 2024:  1\n"
          ]
        }
      ],
      "source": [
        "print('Rows with year before 1800: ' , df[df.year < 1800].shape[0])\n",
        "print('Rows with year over 2024: ',df[df.year > 2024].shape[0])"
      ]
    },
    {
      "cell_type": "markdown",
      "metadata": {
        "id": "r0hUYdQOWSp1"
      },
      "source": [
        "* Year max values - remove lines over 2024 ( 1 line ) \n",
        "* Year min values = remove all lines below 1800 (18 lines) "
      ]
    },
    {
      "cell_type": "markdown",
      "metadata": {
        "id": "1h5A_aCQWcPe"
      },
      "source": [
        "Distance: "
      ]
    },
    {
      "cell_type": "code",
      "execution_count": 116,
      "metadata": {
        "id": "uAxKiiuNWYTU",
        "colab": {
          "base_uri": "https://localhost:8080/",
          "height": 423
        },
        "outputId": "4db3befd-8386-4437-9e71-e457218e6432"
      },
      "outputs": [
        {
          "output_type": "execute_result",
          "data": {
            "text/plain": [
              "           city  floor     price  rooms     sq  year  distance  price_per_sq\n",
              "21692  Warszawa      2 540000.00      2  43.85  1955   1148.64      12315.00\n",
              "5586     Krakow      1 479000.00      3  56.80  1978    740.70       8433.00\n",
              "3906     Krakow      2 429000.00      7 207.00  1936    740.70       2072.00\n",
              "12804    Krakow      1 456000.00      3  57.80  2020    659.30       7889.00\n",
              "15185    Krakow      4 490000.00      2  42.00  1910    538.18      11667.00\n",
              "...         ...    ...       ...    ...    ...   ...       ...           ...\n",
              "17399    Poznan      3 293590.00      2  37.40  2022      0.15       7850.00\n",
              "3015     Poznan      2 358931.00      2  51.10  2021      0.15       7024.00\n",
              "11391    Poznan      3 358931.00      2  51.10  2021      0.15       7024.00\n",
              "17974    Poznan      5 456085.00      3  58.41  2020      0.15       7808.00\n",
              "16569    Krakow      1 861000.00      2  61.50  1900      0.14      14000.00\n",
              "\n",
              "[12199 rows x 8 columns]"
            ],
            "text/html": [
              "\n",
              "  <div id=\"df-6cea557b-3070-4b06-933f-0c9f1b38464c\">\n",
              "    <div class=\"colab-df-container\">\n",
              "      <div>\n",
              "<style scoped>\n",
              "    .dataframe tbody tr th:only-of-type {\n",
              "        vertical-align: middle;\n",
              "    }\n",
              "\n",
              "    .dataframe tbody tr th {\n",
              "        vertical-align: top;\n",
              "    }\n",
              "\n",
              "    .dataframe thead th {\n",
              "        text-align: right;\n",
              "    }\n",
              "</style>\n",
              "<table border=\"1\" class=\"dataframe\">\n",
              "  <thead>\n",
              "    <tr style=\"text-align: right;\">\n",
              "      <th></th>\n",
              "      <th>city</th>\n",
              "      <th>floor</th>\n",
              "      <th>price</th>\n",
              "      <th>rooms</th>\n",
              "      <th>sq</th>\n",
              "      <th>year</th>\n",
              "      <th>distance</th>\n",
              "      <th>price_per_sq</th>\n",
              "    </tr>\n",
              "  </thead>\n",
              "  <tbody>\n",
              "    <tr>\n",
              "      <th>21692</th>\n",
              "      <td>Warszawa</td>\n",
              "      <td>2</td>\n",
              "      <td>540000.00</td>\n",
              "      <td>2</td>\n",
              "      <td>43.85</td>\n",
              "      <td>1955</td>\n",
              "      <td>1148.64</td>\n",
              "      <td>12315.00</td>\n",
              "    </tr>\n",
              "    <tr>\n",
              "      <th>5586</th>\n",
              "      <td>Krakow</td>\n",
              "      <td>1</td>\n",
              "      <td>479000.00</td>\n",
              "      <td>3</td>\n",
              "      <td>56.80</td>\n",
              "      <td>1978</td>\n",
              "      <td>740.70</td>\n",
              "      <td>8433.00</td>\n",
              "    </tr>\n",
              "    <tr>\n",
              "      <th>3906</th>\n",
              "      <td>Krakow</td>\n",
              "      <td>2</td>\n",
              "      <td>429000.00</td>\n",
              "      <td>7</td>\n",
              "      <td>207.00</td>\n",
              "      <td>1936</td>\n",
              "      <td>740.70</td>\n",
              "      <td>2072.00</td>\n",
              "    </tr>\n",
              "    <tr>\n",
              "      <th>12804</th>\n",
              "      <td>Krakow</td>\n",
              "      <td>1</td>\n",
              "      <td>456000.00</td>\n",
              "      <td>3</td>\n",
              "      <td>57.80</td>\n",
              "      <td>2020</td>\n",
              "      <td>659.30</td>\n",
              "      <td>7889.00</td>\n",
              "    </tr>\n",
              "    <tr>\n",
              "      <th>15185</th>\n",
              "      <td>Krakow</td>\n",
              "      <td>4</td>\n",
              "      <td>490000.00</td>\n",
              "      <td>2</td>\n",
              "      <td>42.00</td>\n",
              "      <td>1910</td>\n",
              "      <td>538.18</td>\n",
              "      <td>11667.00</td>\n",
              "    </tr>\n",
              "    <tr>\n",
              "      <th>...</th>\n",
              "      <td>...</td>\n",
              "      <td>...</td>\n",
              "      <td>...</td>\n",
              "      <td>...</td>\n",
              "      <td>...</td>\n",
              "      <td>...</td>\n",
              "      <td>...</td>\n",
              "      <td>...</td>\n",
              "    </tr>\n",
              "    <tr>\n",
              "      <th>17399</th>\n",
              "      <td>Poznan</td>\n",
              "      <td>3</td>\n",
              "      <td>293590.00</td>\n",
              "      <td>2</td>\n",
              "      <td>37.40</td>\n",
              "      <td>2022</td>\n",
              "      <td>0.15</td>\n",
              "      <td>7850.00</td>\n",
              "    </tr>\n",
              "    <tr>\n",
              "      <th>3015</th>\n",
              "      <td>Poznan</td>\n",
              "      <td>2</td>\n",
              "      <td>358931.00</td>\n",
              "      <td>2</td>\n",
              "      <td>51.10</td>\n",
              "      <td>2021</td>\n",
              "      <td>0.15</td>\n",
              "      <td>7024.00</td>\n",
              "    </tr>\n",
              "    <tr>\n",
              "      <th>11391</th>\n",
              "      <td>Poznan</td>\n",
              "      <td>3</td>\n",
              "      <td>358931.00</td>\n",
              "      <td>2</td>\n",
              "      <td>51.10</td>\n",
              "      <td>2021</td>\n",
              "      <td>0.15</td>\n",
              "      <td>7024.00</td>\n",
              "    </tr>\n",
              "    <tr>\n",
              "      <th>17974</th>\n",
              "      <td>Poznan</td>\n",
              "      <td>5</td>\n",
              "      <td>456085.00</td>\n",
              "      <td>3</td>\n",
              "      <td>58.41</td>\n",
              "      <td>2020</td>\n",
              "      <td>0.15</td>\n",
              "      <td>7808.00</td>\n",
              "    </tr>\n",
              "    <tr>\n",
              "      <th>16569</th>\n",
              "      <td>Krakow</td>\n",
              "      <td>1</td>\n",
              "      <td>861000.00</td>\n",
              "      <td>2</td>\n",
              "      <td>61.50</td>\n",
              "      <td>1900</td>\n",
              "      <td>0.14</td>\n",
              "      <td>14000.00</td>\n",
              "    </tr>\n",
              "  </tbody>\n",
              "</table>\n",
              "<p>12199 rows × 8 columns</p>\n",
              "</div>\n",
              "      <button class=\"colab-df-convert\" onclick=\"convertToInteractive('df-6cea557b-3070-4b06-933f-0c9f1b38464c')\"\n",
              "              title=\"Convert this dataframe to an interactive table.\"\n",
              "              style=\"display:none;\">\n",
              "        \n",
              "  <svg xmlns=\"http://www.w3.org/2000/svg\" height=\"24px\"viewBox=\"0 0 24 24\"\n",
              "       width=\"24px\">\n",
              "    <path d=\"M0 0h24v24H0V0z\" fill=\"none\"/>\n",
              "    <path d=\"M18.56 5.44l.94 2.06.94-2.06 2.06-.94-2.06-.94-.94-2.06-.94 2.06-2.06.94zm-11 1L8.5 8.5l.94-2.06 2.06-.94-2.06-.94L8.5 2.5l-.94 2.06-2.06.94zm10 10l.94 2.06.94-2.06 2.06-.94-2.06-.94-.94-2.06-.94 2.06-2.06.94z\"/><path d=\"M17.41 7.96l-1.37-1.37c-.4-.4-.92-.59-1.43-.59-.52 0-1.04.2-1.43.59L10.3 9.45l-7.72 7.72c-.78.78-.78 2.05 0 2.83L4 21.41c.39.39.9.59 1.41.59.51 0 1.02-.2 1.41-.59l7.78-7.78 2.81-2.81c.8-.78.8-2.07 0-2.86zM5.41 20L4 18.59l7.72-7.72 1.47 1.35L5.41 20z\"/>\n",
              "  </svg>\n",
              "      </button>\n",
              "      \n",
              "  <style>\n",
              "    .colab-df-container {\n",
              "      display:flex;\n",
              "      flex-wrap:wrap;\n",
              "      gap: 12px;\n",
              "    }\n",
              "\n",
              "    .colab-df-convert {\n",
              "      background-color: #E8F0FE;\n",
              "      border: none;\n",
              "      border-radius: 50%;\n",
              "      cursor: pointer;\n",
              "      display: none;\n",
              "      fill: #1967D2;\n",
              "      height: 32px;\n",
              "      padding: 0 0 0 0;\n",
              "      width: 32px;\n",
              "    }\n",
              "\n",
              "    .colab-df-convert:hover {\n",
              "      background-color: #E2EBFA;\n",
              "      box-shadow: 0px 1px 2px rgba(60, 64, 67, 0.3), 0px 1px 3px 1px rgba(60, 64, 67, 0.15);\n",
              "      fill: #174EA6;\n",
              "    }\n",
              "\n",
              "    [theme=dark] .colab-df-convert {\n",
              "      background-color: #3B4455;\n",
              "      fill: #D2E3FC;\n",
              "    }\n",
              "\n",
              "    [theme=dark] .colab-df-convert:hover {\n",
              "      background-color: #434B5C;\n",
              "      box-shadow: 0px 1px 3px 1px rgba(0, 0, 0, 0.15);\n",
              "      filter: drop-shadow(0px 1px 2px rgba(0, 0, 0, 0.3));\n",
              "      fill: #FFFFFF;\n",
              "    }\n",
              "  </style>\n",
              "\n",
              "      <script>\n",
              "        const buttonEl =\n",
              "          document.querySelector('#df-6cea557b-3070-4b06-933f-0c9f1b38464c button.colab-df-convert');\n",
              "        buttonEl.style.display =\n",
              "          google.colab.kernel.accessAllowed ? 'block' : 'none';\n",
              "\n",
              "        async function convertToInteractive(key) {\n",
              "          const element = document.querySelector('#df-6cea557b-3070-4b06-933f-0c9f1b38464c');\n",
              "          const dataTable =\n",
              "            await google.colab.kernel.invokeFunction('convertToInteractive',\n",
              "                                                     [key], {});\n",
              "          if (!dataTable) return;\n",
              "\n",
              "          const docLinkHtml = 'Like what you see? Visit the ' +\n",
              "            '<a target=\"_blank\" href=https://colab.research.google.com/notebooks/data_table.ipynb>data table notebook</a>'\n",
              "            + ' to learn more about interactive tables.';\n",
              "          element.innerHTML = '';\n",
              "          dataTable['output_type'] = 'display_data';\n",
              "          await google.colab.output.renderOutput(dataTable, element);\n",
              "          const docLink = document.createElement('div');\n",
              "          docLink.innerHTML = docLinkHtml;\n",
              "          element.appendChild(docLink);\n",
              "        }\n",
              "      </script>\n",
              "    </div>\n",
              "  </div>\n",
              "  "
            ]
          },
          "metadata": {},
          "execution_count": 116
        }
      ],
      "source": [
        "outliers_distance = df.sort_values('distance', ascending = False).groupby('price').head()\n",
        "outliers_distance"
      ]
    },
    {
      "cell_type": "code",
      "execution_count": 117,
      "metadata": {
        "id": "vCDSyZOAWenu",
        "colab": {
          "base_uri": "https://localhost:8080/",
          "height": 297
        },
        "outputId": "4c7147b4-eb06-450e-84a3-58983fc84bd6"
      },
      "outputs": [
        {
          "output_type": "execute_result",
          "data": {
            "text/plain": [
              "<matplotlib.axes._subplots.AxesSubplot at 0x7f40c0e697d0>"
            ]
          },
          "metadata": {},
          "execution_count": 117
        },
        {
          "output_type": "display_data",
          "data": {
            "text/plain": [
              "<Figure size 432x288 with 1 Axes>"
            ],
            "image/png": "[encoded data removed]"
          },
          "metadata": {
            "needs_background": "light"
          }
        }
      ],
      "source": [
        "sns.boxplot(x = df['distance'])"
      ]
    },
    {
      "cell_type": "code",
      "execution_count": 118,
      "metadata": {
        "id": "fOb37KpnWiWm",
        "colab": {
          "base_uri": "https://localhost:8080/",
          "height": 508
        },
        "outputId": "e00b6080-82f1-470b-b554-7dd69129e66d"
      },
      "outputs": [
        {
          "output_type": "display_data",
          "data": {
            "text/plain": [
              "<Figure size 1152x576 with 1 Axes>"
            ],
            "image/png": "[encoded data removed]"
          },
          "metadata": {
            "needs_background": "light"
          }
        }
      ],
      "source": [
        "fig, ax = plt.subplots(figsize=(16,8))\n",
        "ax.scatter(df['distance'], df['price'])\n",
        "ax.set_xlabel('Distance from city centre')\n",
        "ax.set_ylabel('Price')\n",
        "plt.show()"
      ]
    },
    {
      "cell_type": "code",
      "execution_count": 119,
      "metadata": {
        "id": "wntgWm6uWsO-",
        "colab": {
          "base_uri": "https://localhost:8080/"
        },
        "outputId": "6de4de0a-d53a-4c66-b345-40ce507c436b"
      },
      "outputs": [
        {
          "output_type": "stream",
          "name": "stdout",
          "text": [
            "Rows with distance over 50km : 86\n"
          ]
        }
      ],
      "source": [
        "print('Rows with distance over 50km :', df[df.distance > 50].shape[0])"
      ]
    },
    {
      "cell_type": "markdown",
      "metadata": {
        "id": "Eiboo33ZXEp1"
      },
      "source": [
        "* distance max values = remove all the lines > 50 km (86 lines) \n",
        "* distance min values - acceptable "
      ]
    },
    {
      "cell_type": "markdown",
      "metadata": {
        "id": "-T2qjeMBYKMo"
      },
      "source": [
        "Price per square meter: "
      ]
    },
    {
      "cell_type": "code",
      "execution_count": 120,
      "metadata": {
        "id": "kJWprl99XIwb",
        "colab": {
          "base_uri": "https://localhost:8080/",
          "height": 423
        },
        "outputId": "1526b419-5b7a-449d-eb44-9acd553e443c"
      },
      "outputs": [
        {
          "output_type": "execute_result",
          "data": {
            "text/plain": [
              "           city  floor       price  rooms         sq  year  distance  \\\n",
              "1349   Warszawa      4  1220000.00      4       8.80  2019      0.73   \n",
              "20669  Warszawa      3  9008000.00      4      79.41  2022      4.54   \n",
              "21892  Warszawa      4  6053000.00      3      60.67  2022      0.73   \n",
              "12968  Warszawa      9 15000000.00      5     262.00  2017      0.62   \n",
              "15169  Warszawa     10 13500000.00      4     236.00  2017      0.62   \n",
              "...         ...    ...         ...    ...        ...   ...       ...   \n",
              "22783    Poznan      1    29900.00      2      49.00  2003      2.41   \n",
              "10084  Warszawa      1     5000.00      2      50.00  2009      0.73   \n",
              "18637    Poznan      1   544169.00      4    8065.00  2021      1.29   \n",
              "10798  Warszawa      1   389880.00      2    9000.00  2022      0.73   \n",
              "6198     Krakow      2  1007185.00      5 1007185.00  2020      7.66   \n",
              "\n",
              "       price_per_sq  \n",
              "1349      138636.00  \n",
              "20669     113437.00  \n",
              "21892      99769.00  \n",
              "12968      57252.00  \n",
              "15169      57203.00  \n",
              "...             ...  \n",
              "22783        610.00  \n",
              "10084        100.00  \n",
              "18637         67.00  \n",
              "10798         43.00  \n",
              "6198           1.00  \n",
              "\n",
              "[16813 rows x 8 columns]"
            ],
            "text/html": [
              "\n",
              "  <div id=\"df-4ab71c5a-bbe3-42a0-8f96-296269fe4727\">\n",
              "    <div class=\"colab-df-container\">\n",
              "      <div>\n",
              "<style scoped>\n",
              "    .dataframe tbody tr th:only-of-type {\n",
              "        vertical-align: middle;\n",
              "    }\n",
              "\n",
              "    .dataframe tbody tr th {\n",
              "        vertical-align: top;\n",
              "    }\n",
              "\n",
              "    .dataframe thead th {\n",
              "        text-align: right;\n",
              "    }\n",
              "</style>\n",
              "<table border=\"1\" class=\"dataframe\">\n",
              "  <thead>\n",
              "    <tr style=\"text-align: right;\">\n",
              "      <th></th>\n",
              "      <th>city</th>\n",
              "      <th>floor</th>\n",
              "      <th>price</th>\n",
              "      <th>rooms</th>\n",
              "      <th>sq</th>\n",
              "      <th>year</th>\n",
              "      <th>distance</th>\n",
              "      <th>price_per_sq</th>\n",
              "    </tr>\n",
              "  </thead>\n",
              "  <tbody>\n",
              "    <tr>\n",
              "      <th>1349</th>\n",
              "      <td>Warszawa</td>\n",
              "      <td>4</td>\n",
              "      <td>1220000.00</td>\n",
              "      <td>4</td>\n",
              "      <td>8.80</td>\n",
              "      <td>2019</td>\n",
              "      <td>0.73</td>\n",
              "      <td>138636.00</td>\n",
              "    </tr>\n",
              "    <tr>\n",
              "      <th>20669</th>\n",
              "      <td>Warszawa</td>\n",
              "      <td>3</td>\n",
              "      <td>9008000.00</td>\n",
              "      <td>4</td>\n",
              "      <td>79.41</td>\n",
              "      <td>2022</td>\n",
              "      <td>4.54</td>\n",
              "      <td>113437.00</td>\n",
              "    </tr>\n",
              "    <tr>\n",
              "      <th>21892</th>\n",
              "      <td>Warszawa</td>\n",
              "      <td>4</td>\n",
              "      <td>6053000.00</td>\n",
              "      <td>3</td>\n",
              "      <td>60.67</td>\n",
              "      <td>2022</td>\n",
              "      <td>0.73</td>\n",
              "      <td>99769.00</td>\n",
              "    </tr>\n",
              "    <tr>\n",
              "      <th>12968</th>\n",
              "      <td>Warszawa</td>\n",
              "      <td>9</td>\n",
              "      <td>15000000.00</td>\n",
              "      <td>5</td>\n",
              "      <td>262.00</td>\n",
              "      <td>2017</td>\n",
              "      <td>0.62</td>\n",
              "      <td>57252.00</td>\n",
              "    </tr>\n",
              "    <tr>\n",
              "      <th>15169</th>\n",
              "      <td>Warszawa</td>\n",
              "      <td>10</td>\n",
              "      <td>13500000.00</td>\n",
              "      <td>4</td>\n",
              "      <td>236.00</td>\n",
              "      <td>2017</td>\n",
              "      <td>0.62</td>\n",
              "      <td>57203.00</td>\n",
              "    </tr>\n",
              "    <tr>\n",
              "      <th>...</th>\n",
              "      <td>...</td>\n",
              "      <td>...</td>\n",
              "      <td>...</td>\n",
              "      <td>...</td>\n",
              "      <td>...</td>\n",
              "      <td>...</td>\n",
              "      <td>...</td>\n",
              "      <td>...</td>\n",
              "    </tr>\n",
              "    <tr>\n",
              "      <th>22783</th>\n",
              "      <td>Poznan</td>\n",
              "      <td>1</td>\n",
              "      <td>29900.00</td>\n",
              "      <td>2</td>\n",
              "      <td>49.00</td>\n",
              "      <td>2003</td>\n",
              "      <td>2.41</td>\n",
              "      <td>610.00</td>\n",
              "    </tr>\n",
              "    <tr>\n",
              "      <th>10084</th>\n",
              "      <td>Warszawa</td>\n",
              "      <td>1</td>\n",
              "      <td>5000.00</td>\n",
              "      <td>2</td>\n",
              "      <td>50.00</td>\n",
              "      <td>2009</td>\n",
              "      <td>0.73</td>\n",
              "      <td>100.00</td>\n",
              "    </tr>\n",
              "    <tr>\n",
              "      <th>18637</th>\n",
              "      <td>Poznan</td>\n",
              "      <td>1</td>\n",
              "      <td>544169.00</td>\n",
              "      <td>4</td>\n",
              "      <td>8065.00</td>\n",
              "      <td>2021</td>\n",
              "      <td>1.29</td>\n",
              "      <td>67.00</td>\n",
              "    </tr>\n",
              "    <tr>\n",
              "      <th>10798</th>\n",
              "      <td>Warszawa</td>\n",
              "      <td>1</td>\n",
              "      <td>389880.00</td>\n",
              "      <td>2</td>\n",
              "      <td>9000.00</td>\n",
              "      <td>2022</td>\n",
              "      <td>0.73</td>\n",
              "      <td>43.00</td>\n",
              "    </tr>\n",
              "    <tr>\n",
              "      <th>6198</th>\n",
              "      <td>Krakow</td>\n",
              "      <td>2</td>\n",
              "      <td>1007185.00</td>\n",
              "      <td>5</td>\n",
              "      <td>1007185.00</td>\n",
              "      <td>2020</td>\n",
              "      <td>7.66</td>\n",
              "      <td>1.00</td>\n",
              "    </tr>\n",
              "  </tbody>\n",
              "</table>\n",
              "<p>16813 rows × 8 columns</p>\n",
              "</div>\n",
              "      <button class=\"colab-df-convert\" onclick=\"convertToInteractive('df-4ab71c5a-bbe3-42a0-8f96-296269fe4727')\"\n",
              "              title=\"Convert this dataframe to an interactive table.\"\n",
              "              style=\"display:none;\">\n",
              "        \n",
              "  <svg xmlns=\"http://www.w3.org/2000/svg\" height=\"24px\"viewBox=\"0 0 24 24\"\n",
              "       width=\"24px\">\n",
              "    <path d=\"M0 0h24v24H0V0z\" fill=\"none\"/>\n",
              "    <path d=\"M18.56 5.44l.94 2.06.94-2.06 2.06-.94-2.06-.94-.94-2.06-.94 2.06-2.06.94zm-11 1L8.5 8.5l.94-2.06 2.06-.94-2.06-.94L8.5 2.5l-.94 2.06-2.06.94zm10 10l.94 2.06.94-2.06 2.06-.94-2.06-.94-.94-2.06-.94 2.06-2.06.94z\"/><path d=\"M17.41 7.96l-1.37-1.37c-.4-.4-.92-.59-1.43-.59-.52 0-1.04.2-1.43.59L10.3 9.45l-7.72 7.72c-.78.78-.78 2.05 0 2.83L4 21.41c.39.39.9.59 1.41.59.51 0 1.02-.2 1.41-.59l7.78-7.78 2.81-2.81c.8-.78.8-2.07 0-2.86zM5.41 20L4 18.59l7.72-7.72 1.47 1.35L5.41 20z\"/>\n",
              "  </svg>\n",
              "      </button>\n",
              "      \n",
              "  <style>\n",
              "    .colab-df-container {\n",
              "      display:flex;\n",
              "      flex-wrap:wrap;\n",
              "      gap: 12px;\n",
              "    }\n",
              "\n",
              "    .colab-df-convert {\n",
              "      background-color: #E8F0FE;\n",
              "      border: none;\n",
              "      border-radius: 50%;\n",
              "      cursor: pointer;\n",
              "      display: none;\n",
              "      fill: #1967D2;\n",
              "      height: 32px;\n",
              "      padding: 0 0 0 0;\n",
              "      width: 32px;\n",
              "    }\n",
              "\n",
              "    .colab-df-convert:hover {\n",
              "      background-color: #E2EBFA;\n",
              "      box-shadow: 0px 1px 2px rgba(60, 64, 67, 0.3), 0px 1px 3px 1px rgba(60, 64, 67, 0.15);\n",
              "      fill: #174EA6;\n",
              "    }\n",
              "\n",
              "    [theme=dark] .colab-df-convert {\n",
              "      background-color: #3B4455;\n",
              "      fill: #D2E3FC;\n",
              "    }\n",
              "\n",
              "    [theme=dark] .colab-df-convert:hover {\n",
              "      background-color: #434B5C;\n",
              "      box-shadow: 0px 1px 3px 1px rgba(0, 0, 0, 0.15);\n",
              "      filter: drop-shadow(0px 1px 2px rgba(0, 0, 0, 0.3));\n",
              "      fill: #FFFFFF;\n",
              "    }\n",
              "  </style>\n",
              "\n",
              "      <script>\n",
              "        const buttonEl =\n",
              "          document.querySelector('#df-4ab71c5a-bbe3-42a0-8f96-296269fe4727 button.colab-df-convert');\n",
              "        buttonEl.style.display =\n",
              "          google.colab.kernel.accessAllowed ? 'block' : 'none';\n",
              "\n",
              "        async function convertToInteractive(key) {\n",
              "          const element = document.querySelector('#df-4ab71c5a-bbe3-42a0-8f96-296269fe4727');\n",
              "          const dataTable =\n",
              "            await google.colab.kernel.invokeFunction('convertToInteractive',\n",
              "                                                     [key], {});\n",
              "          if (!dataTable) return;\n",
              "\n",
              "          const docLinkHtml = 'Like what you see? Visit the ' +\n",
              "            '<a target=\"_blank\" href=https://colab.research.google.com/notebooks/data_table.ipynb>data table notebook</a>'\n",
              "            + ' to learn more about interactive tables.';\n",
              "          element.innerHTML = '';\n",
              "          dataTable['output_type'] = 'display_data';\n",
              "          await google.colab.output.renderOutput(dataTable, element);\n",
              "          const docLink = document.createElement('div');\n",
              "          docLink.innerHTML = docLinkHtml;\n",
              "          element.appendChild(docLink);\n",
              "        }\n",
              "      </script>\n",
              "    </div>\n",
              "  </div>\n",
              "  "
            ]
          },
          "metadata": {},
          "execution_count": 120
        }
      ],
      "source": [
        "outliers_pps = df.sort_values('price_per_sq', ascending = False).groupby('price_per_sq').head()\n",
        "outliers_pps"
      ]
    },
    {
      "cell_type": "code",
      "execution_count": 121,
      "metadata": {
        "id": "VyP9TRLyYQf4",
        "colab": {
          "base_uri": "https://localhost:8080/",
          "height": 299
        },
        "outputId": "13cbc21a-3bb0-4153-9105-f3c18e900765"
      },
      "outputs": [
        {
          "output_type": "execute_result",
          "data": {
            "text/plain": [
              "<matplotlib.axes._subplots.AxesSubplot at 0x7f40c7d14bd0>"
            ]
          },
          "metadata": {},
          "execution_count": 121
        },
        {
          "output_type": "display_data",
          "data": {
            "text/plain": [
              "<Figure size 432x288 with 1 Axes>"
            ],
            "image/png": "[encoded data removed]"
          },
          "metadata": {
            "needs_background": "light"
          }
        }
      ],
      "source": [
        "sns.boxplot(x = df['price_per_sq'])"
      ]
    },
    {
      "cell_type": "code",
      "execution_count": 122,
      "metadata": {
        "id": "O_xinwt9YVeu",
        "colab": {
          "base_uri": "https://localhost:8080/"
        },
        "outputId": "64c29ae4-fb04-42ca-90c1-43482d2c7d80"
      },
      "outputs": [
        {
          "output_type": "stream",
          "name": "stdout",
          "text": [
            "Price per square meter over 50,000:  6\n",
            "Price per square meter below 2000:  8\n"
          ]
        }
      ],
      "source": [
        "print('Price per square meter over 50,000: ' , df[df.price_per_sq > 50000].shape[0])\n",
        "print('Price per square meter below 2000: ', df[df.price_per_sq < 2000].shape[0])"
      ]
    },
    {
      "cell_type": "markdown",
      "metadata": {
        "id": "t79pe4kxYoea"
      },
      "source": [
        "* pps max values =  remove lines over 50000 ( 5 lines) \n",
        "* pps min values = remove lines : under 2000  ( 8 lines) "
      ]
    },
    {
      "cell_type": "markdown",
      "metadata": {
        "id": "LaMLquWCYwrn"
      },
      "source": [
        "Removing outliers total sum up: \n",
        "\n",
        "* Price min values - remove lines under 30000 ( 2 lines )\n",
        "\n",
        "* Sq max values - remove lines over 500 ( 3 lines )\n",
        "\n",
        "* year max values - remove lines over 2024 ( 1 line )\n",
        "\n",
        "* year min values = remove all lines below 1800 (18 lines)\n",
        "\n",
        "* distance max values = remove all the lines > 50 km (86 lines)\n",
        "\n",
        "* pps max values =  remove lines over 50000 ( 6 line) \n",
        "\n",
        "* pps min values = remove lines : under 2000  ( 8 lines)"
      ]
    },
    {
      "cell_type": "code",
      "execution_count": 123,
      "metadata": {
        "id": "njis0ak1Ysod",
        "colab": {
          "base_uri": "https://localhost:8080/"
        },
        "outputId": "39ed3796-71e0-4dd5-897c-4e4a8134163b"
      },
      "outputs": [
        {
          "output_type": "execute_result",
          "data": {
            "text/plain": [
              "(23764, 8)"
            ]
          },
          "metadata": {},
          "execution_count": 123
        }
      ],
      "source": [
        "df.shape"
      ]
    },
    {
      "cell_type": "code",
      "execution_count": 124,
      "metadata": {
        "id": "gsR8JjaSZGyg"
      },
      "outputs": [],
      "source": [
        "rows_to_remove = df[  (df['price'] < 30000) | (df['sq'] > 500) | (df['year'] > 2024) | (df['year'] < 1800) | (df['distance'] > 50) | (df['price_per_sq'] > 50000 ) | (df['price_per_sq'] < 2000) ].index"
      ]
    },
    {
      "cell_type": "code",
      "execution_count": 125,
      "metadata": {
        "id": "FOjt7rfjZOnn"
      },
      "outputs": [],
      "source": [
        "df.drop(rows_to_remove, axis = 0,  inplace = True)"
      ]
    },
    {
      "cell_type": "code",
      "execution_count": 126,
      "metadata": {
        "id": "OPxxNkceZSBv",
        "colab": {
          "base_uri": "https://localhost:8080/"
        },
        "outputId": "a8448a36-31a5-4888-d2b3-7d509f45662d"
      },
      "outputs": [
        {
          "output_type": "execute_result",
          "data": {
            "text/plain": [
              "(23645, 8)"
            ]
          },
          "metadata": {},
          "execution_count": 126
        }
      ],
      "source": [
        "df.shape"
      ]
    },
    {
      "cell_type": "code",
      "execution_count": 127,
      "metadata": {
        "id": "N7KdwSR7ZUgH",
        "colab": {
          "base_uri": "https://localhost:8080/",
          "height": 300
        },
        "outputId": "04c51b56-135f-41b1-ab83-c90cb514b913"
      },
      "outputs": [
        {
          "output_type": "execute_result",
          "data": {
            "text/plain": [
              "         floor       price    rooms       sq     year  distance  price_per_sq\n",
              "count 23645.00    23645.00 23645.00 23645.00 23645.00  23645.00      23645.00\n",
              "mean      2.81   647218.00     2.62    59.59  2001.43      4.88      10744.60\n",
              "std       2.46   510899.20     1.00    28.25    29.36      3.15       3624.34\n",
              "min       0.00    69000.00     1.00    11.00  1800.00      0.02       2030.00\n",
              "25%       1.00   411437.00     2.00    42.00  1985.00      2.61       8400.00\n",
              "50%       2.00   520354.00     3.00    53.88  2019.00      4.43       9948.00\n",
              "75%       4.00   699999.00     3.00    68.90  2021.00      6.55      12318.00\n",
              "max      10.00 10950000.00    10.00   442.20  2024.00     30.56      50000.00"
            ],
            "text/html": [
              "\n",
              "  <div id=\"df-769080f6-4bda-4bd2-b594-9540f4c9a892\">\n",
              "    <div class=\"colab-df-container\">\n",
              "      <div>\n",
              "<style scoped>\n",
              "    .dataframe tbody tr th:only-of-type {\n",
              "        vertical-align: middle;\n",
              "    }\n",
              "\n",
              "    .dataframe tbody tr th {\n",
              "        vertical-align: top;\n",
              "    }\n",
              "\n",
              "    .dataframe thead th {\n",
              "        text-align: right;\n",
              "    }\n",
              "</style>\n",
              "<table border=\"1\" class=\"dataframe\">\n",
              "  <thead>\n",
              "    <tr style=\"text-align: right;\">\n",
              "      <th></th>\n",
              "      <th>floor</th>\n",
              "      <th>price</th>\n",
              "      <th>rooms</th>\n",
              "      <th>sq</th>\n",
              "      <th>year</th>\n",
              "      <th>distance</th>\n",
              "      <th>price_per_sq</th>\n",
              "    </tr>\n",
              "  </thead>\n",
              "  <tbody>\n",
              "    <tr>\n",
              "      <th>count</th>\n",
              "      <td>23645.00</td>\n",
              "      <td>23645.00</td>\n",
              "      <td>23645.00</td>\n",
              "      <td>23645.00</td>\n",
              "      <td>23645.00</td>\n",
              "      <td>23645.00</td>\n",
              "      <td>23645.00</td>\n",
              "    </tr>\n",
              "    <tr>\n",
              "      <th>mean</th>\n",
              "      <td>2.81</td>\n",
              "      <td>647218.00</td>\n",
              "      <td>2.62</td>\n",
              "      <td>59.59</td>\n",
              "      <td>2001.43</td>\n",
              "      <td>4.88</td>\n",
              "      <td>10744.60</td>\n",
              "    </tr>\n",
              "    <tr>\n",
              "      <th>std</th>\n",
              "      <td>2.46</td>\n",
              "      <td>510899.20</td>\n",
              "      <td>1.00</td>\n",
              "      <td>28.25</td>\n",
              "      <td>29.36</td>\n",
              "      <td>3.15</td>\n",
              "      <td>3624.34</td>\n",
              "    </tr>\n",
              "    <tr>\n",
              "      <th>min</th>\n",
              "      <td>0.00</td>\n",
              "      <td>69000.00</td>\n",
              "      <td>1.00</td>\n",
              "      <td>11.00</td>\n",
              "      <td>1800.00</td>\n",
              "      <td>0.02</td>\n",
              "      <td>2030.00</td>\n",
              "    </tr>\n",
              "    <tr>\n",
              "      <th>25%</th>\n",
              "      <td>1.00</td>\n",
              "      <td>411437.00</td>\n",
              "      <td>2.00</td>\n",
              "      <td>42.00</td>\n",
              "      <td>1985.00</td>\n",
              "      <td>2.61</td>\n",
              "      <td>8400.00</td>\n",
              "    </tr>\n",
              "    <tr>\n",
              "      <th>50%</th>\n",
              "      <td>2.00</td>\n",
              "      <td>520354.00</td>\n",
              "      <td>3.00</td>\n",
              "      <td>53.88</td>\n",
              "      <td>2019.00</td>\n",
              "      <td>4.43</td>\n",
              "      <td>9948.00</td>\n",
              "    </tr>\n",
              "    <tr>\n",
              "      <th>75%</th>\n",
              "      <td>4.00</td>\n",
              "      <td>699999.00</td>\n",
              "      <td>3.00</td>\n",
              "      <td>68.90</td>\n",
              "      <td>2021.00</td>\n",
              "      <td>6.55</td>\n",
              "      <td>12318.00</td>\n",
              "    </tr>\n",
              "    <tr>\n",
              "      <th>max</th>\n",
              "      <td>10.00</td>\n",
              "      <td>10950000.00</td>\n",
              "      <td>10.00</td>\n",
              "      <td>442.20</td>\n",
              "      <td>2024.00</td>\n",
              "      <td>30.56</td>\n",
              "      <td>50000.00</td>\n",
              "    </tr>\n",
              "  </tbody>\n",
              "</table>\n",
              "</div>\n",
              "      <button class=\"colab-df-convert\" onclick=\"convertToInteractive('df-769080f6-4bda-4bd2-b594-9540f4c9a892')\"\n",
              "              title=\"Convert this dataframe to an interactive table.\"\n",
              "              style=\"display:none;\">\n",
              "        \n",
              "  <svg xmlns=\"http://www.w3.org/2000/svg\" height=\"24px\"viewBox=\"0 0 24 24\"\n",
              "       width=\"24px\">\n",
              "    <path d=\"M0 0h24v24H0V0z\" fill=\"none\"/>\n",
              "    <path d=\"M18.56 5.44l.94 2.06.94-2.06 2.06-.94-2.06-.94-.94-2.06-.94 2.06-2.06.94zm-11 1L8.5 8.5l.94-2.06 2.06-.94-2.06-.94L8.5 2.5l-.94 2.06-2.06.94zm10 10l.94 2.06.94-2.06 2.06-.94-2.06-.94-.94-2.06-.94 2.06-2.06.94z\"/><path d=\"M17.41 7.96l-1.37-1.37c-.4-.4-.92-.59-1.43-.59-.52 0-1.04.2-1.43.59L10.3 9.45l-7.72 7.72c-.78.78-.78 2.05 0 2.83L4 21.41c.39.39.9.59 1.41.59.51 0 1.02-.2 1.41-.59l7.78-7.78 2.81-2.81c.8-.78.8-2.07 0-2.86zM5.41 20L4 18.59l7.72-7.72 1.47 1.35L5.41 20z\"/>\n",
              "  </svg>\n",
              "      </button>\n",
              "      \n",
              "  <style>\n",
              "    .colab-df-container {\n",
              "      display:flex;\n",
              "      flex-wrap:wrap;\n",
              "      gap: 12px;\n",
              "    }\n",
              "\n",
              "    .colab-df-convert {\n",
              "      background-color: #E8F0FE;\n",
              "      border: none;\n",
              "      border-radius: 50%;\n",
              "      cursor: pointer;\n",
              "      display: none;\n",
              "      fill: #1967D2;\n",
              "      height: 32px;\n",
              "      padding: 0 0 0 0;\n",
              "      width: 32px;\n",
              "    }\n",
              "\n",
              "    .colab-df-convert:hover {\n",
              "      background-color: #E2EBFA;\n",
              "      box-shadow: 0px 1px 2px rgba(60, 64, 67, 0.3), 0px 1px 3px 1px rgba(60, 64, 67, 0.15);\n",
              "      fill: #174EA6;\n",
              "    }\n",
              "\n",
              "    [theme=dark] .colab-df-convert {\n",
              "      background-color: #3B4455;\n",
              "      fill: #D2E3FC;\n",
              "    }\n",
              "\n",
              "    [theme=dark] .colab-df-convert:hover {\n",
              "      background-color: #434B5C;\n",
              "      box-shadow: 0px 1px 3px 1px rgba(0, 0, 0, 0.15);\n",
              "      filter: drop-shadow(0px 1px 2px rgba(0, 0, 0, 0.3));\n",
              "      fill: #FFFFFF;\n",
              "    }\n",
              "  </style>\n",
              "\n",
              "      <script>\n",
              "        const buttonEl =\n",
              "          document.querySelector('#df-769080f6-4bda-4bd2-b594-9540f4c9a892 button.colab-df-convert');\n",
              "        buttonEl.style.display =\n",
              "          google.colab.kernel.accessAllowed ? 'block' : 'none';\n",
              "\n",
              "        async function convertToInteractive(key) {\n",
              "          const element = document.querySelector('#df-769080f6-4bda-4bd2-b594-9540f4c9a892');\n",
              "          const dataTable =\n",
              "            await google.colab.kernel.invokeFunction('convertToInteractive',\n",
              "                                                     [key], {});\n",
              "          if (!dataTable) return;\n",
              "\n",
              "          const docLinkHtml = 'Like what you see? Visit the ' +\n",
              "            '<a target=\"_blank\" href=https://colab.research.google.com/notebooks/data_table.ipynb>data table notebook</a>'\n",
              "            + ' to learn more about interactive tables.';\n",
              "          element.innerHTML = '';\n",
              "          dataTable['output_type'] = 'display_data';\n",
              "          await google.colab.output.renderOutput(dataTable, element);\n",
              "          const docLink = document.createElement('div');\n",
              "          docLink.innerHTML = docLinkHtml;\n",
              "          element.appendChild(docLink);\n",
              "        }\n",
              "      </script>\n",
              "    </div>\n",
              "  </div>\n",
              "  "
            ]
          },
          "metadata": {},
          "execution_count": 127
        }
      ],
      "source": [
        "df.describe()"
      ]
    },
    {
      "cell_type": "markdown",
      "metadata": {
        "id": "mVR1d5lJZko_"
      },
      "source": [
        "**5. Exploratory data analysis and Data visualisation**"
      ]
    },
    {
      "cell_type": "code",
      "execution_count": 128,
      "metadata": {
        "id": "Gy3bjp6cZmt_",
        "colab": {
          "base_uri": "https://localhost:8080/",
          "height": 607
        },
        "outputId": "388a9eef-51e7-4dec-ace4-dcab4c99a324"
      },
      "outputs": [
        {
          "output_type": "display_data",
          "data": {
            "text/plain": [
              "<Figure size 864x720 with 9 Axes>"
            ],
            "image/png": "[encoded data removed]"
          },
          "metadata": {
            "needs_background": "light"
          }
        }
      ],
      "source": [
        "df.hist(figsize=(12, 10), bins=30, edgecolor=\"black\")\n",
        "plt.subplots_adjust(hspace=0.7, wspace=0.4)"
      ]
    },
    {
      "cell_type": "code",
      "execution_count": 129,
      "metadata": {
        "id": "s9vFPHU4Ztcd",
        "colab": {
          "base_uri": "https://localhost:8080/"
        },
        "outputId": "ee8b5db4-de60-4e94-f737-2552e43c5e0b"
      },
      "outputs": [
        {
          "output_type": "stream",
          "name": "stdout",
          "text": [
            "Total rows:  23645\n",
            "Krakow:  9697\n",
            "Warszawa:  9811\n",
            "Poznan:  4137\n"
          ]
        }
      ],
      "source": [
        "print('Total rows: ', df['city'].shape[0])\n",
        "print('Krakow: ' , df[df.city == 'Krakow'].shape[0])\n",
        "print('Warszawa: ',df[df.city == 'Warszawa'].shape[0])\n",
        "print('Poznan: ', df[df.city == 'Poznan'].shape[0])\n"
      ]
    },
    {
      "cell_type": "code",
      "execution_count": 130,
      "metadata": {
        "id": "yeWwtmthaMiP",
        "colab": {
          "base_uri": "https://localhost:8080/",
          "height": 414
        },
        "outputId": "4089c550-83fc-4e1e-8d04-8e0c95cdc97c"
      },
      "outputs": [
        {
          "output_type": "display_data",
          "data": {
            "text/plain": [
              "<Figure size 864x432 with 1 Axes>"
            ],
            "image/png": "[encoded data removed]"
          },
          "metadata": {
            "needs_background": "light"
          }
        }
      ],
      "source": [
        "plt.figure( figsize = (12,6))\n",
        "df['city'].value_counts().plot(kind = 'bar')\n",
        "plt.show()"
      ]
    },
    {
      "cell_type": "markdown",
      "metadata": {
        "id": "SXGrpP97aQWi"
      },
      "source": [
        "In total, our dataset contains 23,645 houses. \n",
        "\n",
        "Warszawa and Krakow have slightly less than 10,000 each and Poznan has around 4000"
      ]
    },
    {
      "cell_type": "code",
      "execution_count": 131,
      "metadata": {
        "id": "3WKryBqxaQ-t",
        "colab": {
          "base_uri": "https://localhost:8080/"
        },
        "outputId": "d4ece957-b412-41f4-8a4c-786ee89a1579"
      },
      "outputs": [
        {
          "output_type": "stream",
          "name": "stdout",
          "text": [
            "Price per square meter average :  10744.603975470502\n"
          ]
        }
      ],
      "source": [
        "pps_average = df[\"price_per_sq\"].mean()\n",
        "print(\"Price per square meter average : \", pps_average)"
      ]
    },
    {
      "cell_type": "code",
      "execution_count": 132,
      "metadata": {
        "id": "tR2w4E4qaet5",
        "colab": {
          "base_uri": "https://localhost:8080/",
          "height": 405
        },
        "outputId": "a243e1e3-a49c-4424-c53d-81305a4a8ca8"
      },
      "outputs": [
        {
          "output_type": "display_data",
          "data": {
            "text/plain": [
              "<Figure size 864x432 with 1 Axes>"
            ],
            "image/png": "[encoded data removed]"
          },
          "metadata": {
            "needs_background": "light"
          }
        }
      ],
      "source": [
        "plt.figure(figsize = (12,6))\n",
        "pps = sns.histplot( x = 'price_per_sq', data = df, bins = 25, kde = True)\n",
        "pps.set_title('Price per Square meter - Histogram')\n",
        "plt.show()"
      ]
    },
    {
      "cell_type": "code",
      "execution_count": 133,
      "metadata": {
        "id": "yzcz_I4AaiOD",
        "colab": {
          "base_uri": "https://localhost:8080/"
        },
        "outputId": "31f7de4d-980d-4c5a-f906-6daa796cf3ca"
      },
      "outputs": [
        {
          "output_type": "execute_result",
          "data": {
            "text/plain": [
              "city\n",
              "Warszawa   12199.07\n",
              "Krakow     10430.61\n",
              "Poznan      8031.28\n",
              "Name: price_per_sq, dtype: float64"
            ]
          },
          "metadata": {},
          "execution_count": 133
        }
      ],
      "source": [
        "pps_mean = df.groupby('city')['price_per_sq'].mean().sort_values(ascending = False)\n",
        "pps_mean"
      ]
    },
    {
      "cell_type": "code",
      "execution_count": 134,
      "metadata": {
        "id": "GC44PPhCanx8",
        "colab": {
          "base_uri": "https://localhost:8080/",
          "height": 444
        },
        "outputId": "063e8686-3dc8-42cd-d948-f646e75513e4"
      },
      "outputs": [
        {
          "output_type": "display_data",
          "data": {
            "text/plain": [
              "<Figure size 864x432 with 1 Axes>"
            ],
            "image/png": "[encoded data removed]"
          },
          "metadata": {
            "needs_background": "light"
          }
        }
      ],
      "source": [
        "plt.figure(figsize = (12,6))\n",
        "pps_mean.plot(kind = 'bar', title = 'Average Price per square meter')\n",
        "plt.show()"
      ]
    },
    {
      "cell_type": "markdown",
      "metadata": {
        "id": "HbgCwc1iaur4"
      },
      "source": [
        "The average price per square meter for our dataset is 10,744.60 zl.\n",
        "\n",
        "The average price per square meter for Warszawa is the highest and it's     12,199 zl, for Krakow it's 10,430 zl and for Poznan 8031 zl "
      ]
    },
    {
      "cell_type": "code",
      "execution_count": 135,
      "metadata": {
        "id": "DSeicKb0ap8w",
        "colab": {
          "base_uri": "https://localhost:8080/"
        },
        "outputId": "a4c9c573-df9c-4a5c-b0c0-e012ef274d4c"
      },
      "outputs": [
        {
          "output_type": "execute_result",
          "data": {
            "text/plain": [
              "city\n",
              "Warszawa   775531.24\n",
              "Krakow     593497.79\n",
              "Poznan     468838.40\n",
              "Name: price, dtype: float64"
            ]
          },
          "metadata": {},
          "execution_count": 135
        }
      ],
      "source": [
        "price_mean = df.groupby('city')['price'].mean().sort_values(ascending = False)\n",
        "price_mean"
      ]
    },
    {
      "cell_type": "code",
      "execution_count": 136,
      "metadata": {
        "id": "AR6P_hj3a1gD",
        "colab": {
          "base_uri": "https://localhost:8080/",
          "height": 444
        },
        "outputId": "c16dabf7-7600-453b-e191-0b60a21c6ed5"
      },
      "outputs": [
        {
          "output_type": "display_data",
          "data": {
            "text/plain": [
              "<Figure size 720x432 with 1 Axes>"
            ],
            "image/png": "[encoded data removed]"
          },
          "metadata": {
            "needs_background": "light"
          }
        }
      ],
      "source": [
        "plt.figure(figsize = (10,6))\n",
        "price_mean.plot(kind = 'bar', title = 'Average price')\n",
        "plt.show()"
      ]
    },
    {
      "cell_type": "markdown",
      "metadata": {
        "id": "QJp50uRua58S"
      },
      "source": [
        "The average price for Warszawa is the highest and it's 775 531 zl \n",
        "\n",
        "For Krakow it's 593 497 zl  and for Poznan 468 838 zl."
      ]
    },
    {
      "cell_type": "code",
      "execution_count": 137,
      "metadata": {
        "id": "aPQs4LYWa3zQ"
      },
      "outputs": [],
      "source": [
        "dist_krakow = df.loc[df['city'] == 'Krakow']\n",
        "dist_warszawa = df.loc[df['city'] == 'Warszawa']\n",
        "dist_poznan = df.loc[df['city'] == 'Poznan']"
      ]
    },
    {
      "cell_type": "code",
      "execution_count": 138,
      "metadata": {
        "id": "Rw5jm8IgbHNP",
        "colab": {
          "base_uri": "https://localhost:8080/",
          "height": 801
        },
        "outputId": "d55319a1-5ed1-4568-9772-f5d9dbf8732b"
      },
      "outputs": [
        {
          "output_type": "display_data",
          "data": {
            "text/plain": [
              "<Figure size 720x864 with 3 Axes>"
            ],
            "image/png": "[encoded data removed]"
          },
          "metadata": {
            "needs_background": "light"
          }
        }
      ],
      "source": [
        "fig, axes = plt.subplots(figsize = (10,12), nrows = 3, ncols = 1 )\n",
        "fig.suptitle('Distance vs Price ', fontsize = 20)\n",
        "plt.subplots_adjust(hspace = 0.5)\n",
        "\n",
        "\n",
        "axes[0].set_title('Krakow', fontsize = 15) \n",
        "axes[0].scatter(dist_krakow['distance'], dist_krakow['price'])\n",
        "axes[0].set_xlabel('Distance from city center in kilometers', fontsize = 10)\n",
        "axes[0].set_ylabel('Price in mln pln', fontsize = 10)\n",
        "\n",
        "axes[1].set_title('Warszawa', fontsize = 15)\n",
        "axes[1].scatter(dist_warszawa['distance'], dist_warszawa['price'])\n",
        "axes[1].set_xlabel('Distance from city center in kilometers', fontsize = 10)\n",
        "axes[1].set_ylabel('Price in mln pln', fontsize = 10)\n",
        "\n",
        "\n",
        "axes[2].set_title('Poznan', fontsize = 15)\n",
        "axes[2].scatter(dist_poznan['distance'], dist_poznan['price'])\n",
        "axes[2].set_xlabel('Distance from city center in kilometers', fontsize = 10)\n",
        "axes[2].set_ylabel('Price in mln pln', fontsize = 10)\n",
        "\n",
        "\n",
        "plt.show()"
      ]
    },
    {
      "cell_type": "markdown",
      "metadata": {
        "id": "O4ch4WjzbpOQ"
      },
      "source": [
        "The distance from city center has an impact on the price. The closer to the center the highest the prices is"
      ]
    },
    {
      "cell_type": "code",
      "execution_count": 139,
      "metadata": {
        "id": "ukQgs_bpbJth",
        "colab": {
          "base_uri": "https://localhost:8080/",
          "height": 801
        },
        "outputId": "e790b09e-f74a-40ec-e36b-53b1e1d7219e"
      },
      "outputs": [
        {
          "output_type": "display_data",
          "data": {
            "text/plain": [
              "<Figure size 720x864 with 3 Axes>"
            ],
            "image/png": "[encoded data removed]"
          },
          "metadata": {
            "needs_background": "light"
          }
        }
      ],
      "source": [
        "fig, axes = plt.subplots(figsize = (10,12), nrows = 3, ncols = 1 )\n",
        "fig.suptitle('Distance vs Price per square meter ', fontsize = 20)\n",
        "plt.subplots_adjust(hspace = 0.5)\n",
        "\n",
        "\n",
        "axes[0].set_title('Krakow', fontsize = 15) \n",
        "axes[0].scatter(dist_krakow['distance'], dist_krakow['price_per_sq'])\n",
        "axes[0].set_xlabel('Distance from city center in kilometers', fontsize = 10)\n",
        "axes[0].set_ylabel('Price per square meter', fontsize = 10)\n",
        "\n",
        "axes[1].set_title('Warszawa', fontsize = 15)\n",
        "axes[1].scatter(dist_warszawa['distance'], dist_warszawa['price_per_sq'])\n",
        "axes[1].set_xlabel('Distance from city center in kilometers', fontsize = 10)\n",
        "axes[1].set_ylabel('Price per square meter', fontsize = 10)\n",
        "\n",
        "\n",
        "axes[2].set_title('Poznan', fontsize = 15)\n",
        "axes[2].scatter(dist_poznan['distance'], dist_poznan['price_per_sq'])\n",
        "axes[2].set_xlabel('Distance from city center in kilometers', fontsize = 10)\n",
        "axes[2].set_ylabel('Price per square meter', fontsize = 10)\n",
        "\n",
        "\n",
        "plt.show()"
      ]
    },
    {
      "cell_type": "markdown",
      "metadata": {
        "id": "XWWtx_EVb85A"
      },
      "source": [
        "The higest price per meter values we can see for houses which are closer to the city center "
      ]
    },
    {
      "cell_type": "code",
      "execution_count": 140,
      "metadata": {
        "colab": {
          "base_uri": "https://localhost:8080/",
          "height": 801
        },
        "id": "HsAqHbW1burh",
        "outputId": "73320e03-94ec-41fe-9975-99cceb7c700d"
      },
      "outputs": [
        {
          "output_type": "display_data",
          "data": {
            "text/plain": [
              "<Figure size 720x864 with 3 Axes>"
            ],
            "image/png": "[encoded data removed]"
          },
          "metadata": {
            "needs_background": "light"
          }
        }
      ],
      "source": [
        "fig, axes = plt.subplots(figsize = (10,12), nrows = 3, ncols = 1 )\n",
        "fig.suptitle('Year vs Price ', fontsize = 20)\n",
        "plt.subplots_adjust(hspace = 0.5)\n",
        "\n",
        "\n",
        "axes[0].set_title('Krakow', fontsize = 15) \n",
        "axes[0].scatter(dist_krakow['year'], dist_krakow['price'])\n",
        "axes[0].set_xlabel('Year', fontsize = 10)\n",
        "axes[0].set_ylabel('Price', fontsize = 10)\n",
        "\n",
        "axes[1].set_title('Warszawa', fontsize = 15)\n",
        "axes[1].scatter(dist_warszawa['year'], dist_warszawa['price'])\n",
        "axes[1].set_xlabel('Year', fontsize = 10)\n",
        "axes[1].set_ylabel('Price', fontsize = 10)\n",
        "\n",
        "\n",
        "axes[2].set_title('Poznan', fontsize = 15)\n",
        "axes[2].scatter(dist_poznan['year'], dist_poznan['price'])\n",
        "axes[2].set_xlabel('Year', fontsize = 10)\n",
        "axes[2].set_ylabel('Price', fontsize = 10)\n",
        "\n",
        "\n",
        "plt.show()"
      ]
    },
    {
      "cell_type": "markdown",
      "metadata": {
        "id": "FsC_tJCycP9B"
      },
      "source": [
        "The most expensive houses are these built after 2000, some old houses built in 20/21 century might be more expensive "
      ]
    },
    {
      "cell_type": "code",
      "execution_count": 141,
      "metadata": {
        "colab": {
          "base_uri": "https://localhost:8080/",
          "height": 377
        },
        "id": "8x4FCbhCcTaT",
        "outputId": "ce2caabd-b1af-4d36-95db-67ad611d0fd8"
      },
      "outputs": [
        {
          "output_type": "display_data",
          "data": {
            "text/plain": [
              "<Figure size 504x360 with 2 Axes>"
            ],
            "image/png": "[encoded data removed]"
          },
          "metadata": {}
        }
      ],
      "source": [
        "corr = df.corr()\n",
        "mask = np.zeros_like(corr)\n",
        "mask[np.triu_indices_from(mask)] = True\n",
        "\n",
        "with sns.axes_style(\"white\"):\n",
        "    f, ax = plt.subplots(figsize=(7, 5))\n",
        "    ax = sns.heatmap(corr, mask=mask, vmax=.3, square=True, annot = True)"
      ]
    },
    {
      "cell_type": "markdown",
      "metadata": {
        "id": "eIHxrnG9caog"
      },
      "source": [
        "Price is highly correlated with price per square meter and, number of rooms and total square meter of the house "
      ]
    },
    {
      "cell_type": "markdown",
      "metadata": {
        "id": "oQmMNlhhczcU"
      },
      "source": [
        "**6. Splitting data into training and testing**"
      ]
    },
    {
      "cell_type": "code",
      "execution_count": 142,
      "metadata": {
        "colab": {
          "base_uri": "https://localhost:8080/",
          "height": 206
        },
        "id": "WzwOQREacWNj",
        "outputId": "f368e2dd-a610-4ac1-f500-e24cd83618be"
      },
      "outputs": [
        {
          "output_type": "execute_result",
          "data": {
            "text/plain": [
              "   floor      price  rooms     sq  year  distance  price_per_sq  Krakow  \\\n",
              "0      2  749000.00      3  74.05  2021      1.85      10115.00       1   \n",
              "1      3  240548.00      1  24.38  2021      7.53       9867.00       0   \n",
              "2      2  427000.00      2  37.00  1970      2.60      11541.00       1   \n",
              "3      2 1290000.00      5 166.00  1935      3.42       7771.00       0   \n",
              "4      1  996000.00      5 105.00  2020      2.60       9486.00       0   \n",
              "\n",
              "   Poznan  Warszawa  \n",
              "0       0         0  \n",
              "1       0         1  \n",
              "2       0         0  \n",
              "3       1         0  \n",
              "4       0         1  "
            ],
            "text/html": [
              "\n",
              "  <div id=\"df-1576045e-70f8-4de8-89e3-aa3f78c1242e\">\n",
              "    <div class=\"colab-df-container\">\n",
              "      <div>\n",
              "<style scoped>\n",
              "    .dataframe tbody tr th:only-of-type {\n",
              "        vertical-align: middle;\n",
              "    }\n",
              "\n",
              "    .dataframe tbody tr th {\n",
              "        vertical-align: top;\n",
              "    }\n",
              "\n",
              "    .dataframe thead th {\n",
              "        text-align: right;\n",
              "    }\n",
              "</style>\n",
              "<table border=\"1\" class=\"dataframe\">\n",
              "  <thead>\n",
              "    <tr style=\"text-align: right;\">\n",
              "      <th></th>\n",
              "      <th>floor</th>\n",
              "      <th>price</th>\n",
              "      <th>rooms</th>\n",
              "      <th>sq</th>\n",
              "      <th>year</th>\n",
              "      <th>distance</th>\n",
              "      <th>price_per_sq</th>\n",
              "      <th>Krakow</th>\n",
              "      <th>Poznan</th>\n",
              "      <th>Warszawa</th>\n",
              "    </tr>\n",
              "  </thead>\n",
              "  <tbody>\n",
              "    <tr>\n",
              "      <th>0</th>\n",
              "      <td>2</td>\n",
              "      <td>749000.00</td>\n",
              "      <td>3</td>\n",
              "      <td>74.05</td>\n",
              "      <td>2021</td>\n",
              "      <td>1.85</td>\n",
              "      <td>10115.00</td>\n",
              "      <td>1</td>\n",
              "      <td>0</td>\n",
              "      <td>0</td>\n",
              "    </tr>\n",
              "    <tr>\n",
              "      <th>1</th>\n",
              "      <td>3</td>\n",
              "      <td>240548.00</td>\n",
              "      <td>1</td>\n",
              "      <td>24.38</td>\n",
              "      <td>2021</td>\n",
              "      <td>7.53</td>\n",
              "      <td>9867.00</td>\n",
              "      <td>0</td>\n",
              "      <td>0</td>\n",
              "      <td>1</td>\n",
              "    </tr>\n",
              "    <tr>\n",
              "      <th>2</th>\n",
              "      <td>2</td>\n",
              "      <td>427000.00</td>\n",
              "      <td>2</td>\n",
              "      <td>37.00</td>\n",
              "      <td>1970</td>\n",
              "      <td>2.60</td>\n",
              "      <td>11541.00</td>\n",
              "      <td>1</td>\n",
              "      <td>0</td>\n",
              "      <td>0</td>\n",
              "    </tr>\n",
              "    <tr>\n",
              "      <th>3</th>\n",
              "      <td>2</td>\n",
              "      <td>1290000.00</td>\n",
              "      <td>5</td>\n",
              "      <td>166.00</td>\n",
              "      <td>1935</td>\n",
              "      <td>3.42</td>\n",
              "      <td>7771.00</td>\n",
              "      <td>0</td>\n",
              "      <td>1</td>\n",
              "      <td>0</td>\n",
              "    </tr>\n",
              "    <tr>\n",
              "      <th>4</th>\n",
              "      <td>1</td>\n",
              "      <td>996000.00</td>\n",
              "      <td>5</td>\n",
              "      <td>105.00</td>\n",
              "      <td>2020</td>\n",
              "      <td>2.60</td>\n",
              "      <td>9486.00</td>\n",
              "      <td>0</td>\n",
              "      <td>0</td>\n",
              "      <td>1</td>\n",
              "    </tr>\n",
              "  </tbody>\n",
              "</table>\n",
              "</div>\n",
              "      <button class=\"colab-df-convert\" onclick=\"convertToInteractive('df-1576045e-70f8-4de8-89e3-aa3f78c1242e')\"\n",
              "              title=\"Convert this dataframe to an interactive table.\"\n",
              "              style=\"display:none;\">\n",
              "        \n",
              "  <svg xmlns=\"http://www.w3.org/2000/svg\" height=\"24px\"viewBox=\"0 0 24 24\"\n",
              "       width=\"24px\">\n",
              "    <path d=\"M0 0h24v24H0V0z\" fill=\"none\"/>\n",
              "    <path d=\"M18.56 5.44l.94 2.06.94-2.06 2.06-.94-2.06-.94-.94-2.06-.94 2.06-2.06.94zm-11 1L8.5 8.5l.94-2.06 2.06-.94-2.06-.94L8.5 2.5l-.94 2.06-2.06.94zm10 10l.94 2.06.94-2.06 2.06-.94-2.06-.94-.94-2.06-.94 2.06-2.06.94z\"/><path d=\"M17.41 7.96l-1.37-1.37c-.4-.4-.92-.59-1.43-.59-.52 0-1.04.2-1.43.59L10.3 9.45l-7.72 7.72c-.78.78-.78 2.05 0 2.83L4 21.41c.39.39.9.59 1.41.59.51 0 1.02-.2 1.41-.59l7.78-7.78 2.81-2.81c.8-.78.8-2.07 0-2.86zM5.41 20L4 18.59l7.72-7.72 1.47 1.35L5.41 20z\"/>\n",
              "  </svg>\n",
              "      </button>\n",
              "      \n",
              "  <style>\n",
              "    .colab-df-container {\n",
              "      display:flex;\n",
              "      flex-wrap:wrap;\n",
              "      gap: 12px;\n",
              "    }\n",
              "\n",
              "    .colab-df-convert {\n",
              "      background-color: #E8F0FE;\n",
              "      border: none;\n",
              "      border-radius: 50%;\n",
              "      cursor: pointer;\n",
              "      display: none;\n",
              "      fill: #1967D2;\n",
              "      height: 32px;\n",
              "      padding: 0 0 0 0;\n",
              "      width: 32px;\n",
              "    }\n",
              "\n",
              "    .colab-df-convert:hover {\n",
              "      background-color: #E2EBFA;\n",
              "      box-shadow: 0px 1px 2px rgba(60, 64, 67, 0.3), 0px 1px 3px 1px rgba(60, 64, 67, 0.15);\n",
              "      fill: #174EA6;\n",
              "    }\n",
              "\n",
              "    [theme=dark] .colab-df-convert {\n",
              "      background-color: #3B4455;\n",
              "      fill: #D2E3FC;\n",
              "    }\n",
              "\n",
              "    [theme=dark] .colab-df-convert:hover {\n",
              "      background-color: #434B5C;\n",
              "      box-shadow: 0px 1px 3px 1px rgba(0, 0, 0, 0.15);\n",
              "      filter: drop-shadow(0px 1px 2px rgba(0, 0, 0, 0.3));\n",
              "      fill: #FFFFFF;\n",
              "    }\n",
              "  </style>\n",
              "\n",
              "      <script>\n",
              "        const buttonEl =\n",
              "          document.querySelector('#df-1576045e-70f8-4de8-89e3-aa3f78c1242e button.colab-df-convert');\n",
              "        buttonEl.style.display =\n",
              "          google.colab.kernel.accessAllowed ? 'block' : 'none';\n",
              "\n",
              "        async function convertToInteractive(key) {\n",
              "          const element = document.querySelector('#df-1576045e-70f8-4de8-89e3-aa3f78c1242e');\n",
              "          const dataTable =\n",
              "            await google.colab.kernel.invokeFunction('convertToInteractive',\n",
              "                                                     [key], {});\n",
              "          if (!dataTable) return;\n",
              "\n",
              "          const docLinkHtml = 'Like what you see? Visit the ' +\n",
              "            '<a target=\"_blank\" href=https://colab.research.google.com/notebooks/data_table.ipynb>data table notebook</a>'\n",
              "            + ' to learn more about interactive tables.';\n",
              "          element.innerHTML = '';\n",
              "          dataTable['output_type'] = 'display_data';\n",
              "          await google.colab.output.renderOutput(dataTable, element);\n",
              "          const docLink = document.createElement('div');\n",
              "          docLink.innerHTML = docLinkHtml;\n",
              "          element.appendChild(docLink);\n",
              "        }\n",
              "      </script>\n",
              "    </div>\n",
              "  </div>\n",
              "  "
            ]
          },
          "metadata": {},
          "execution_count": 142
        }
      ],
      "source": [
        " df_dummies = pd.get_dummies(df.city)\n",
        " df_with_dummies = df.join(df_dummies)\n",
        " df_with_dummies.drop('city', axis =1, inplace = True)\n",
        " df_with_dummies.head()"
      ]
    },
    {
      "cell_type": "code",
      "execution_count": 143,
      "metadata": {
        "colab": {
          "base_uri": "https://localhost:8080/"
        },
        "id": "bQGvpUiKeB_f",
        "outputId": "1d0a6a65-2f42-4415-8f0c-f4c99a78dc6d"
      },
      "outputs": [
        {
          "output_type": "stream",
          "name": "stdout",
          "text": [
            "(23645, 8)\n",
            "(23645,)\n"
          ]
        }
      ],
      "source": [
        "X = df_with_dummies.drop(['price', 'price_per_sq'], axis = 1 )\n",
        "y = df_with_dummies['price']\n",
        "\n",
        "print(X.shape)\n",
        "print(y.shape)"
      ]
    },
    {
      "cell_type": "code",
      "execution_count": 144,
      "metadata": {
        "id": "-cVTmxoAeC0J"
      },
      "outputs": [],
      "source": [
        "from sklearn.model_selection import train_test_split\n",
        "\n",
        "X_train, X_test, y_train, y_test = train_test_split(X, y, test_size=0.3, random_state=42)"
      ]
    },
    {
      "cell_type": "markdown",
      "metadata": {
        "id": "P2a4T0B4PF_z"
      },
      "source": [
        "Normalization"
      ]
    },
    {
      "cell_type": "code",
      "execution_count": 145,
      "metadata": {
        "id": "X-Tyf8IjNk8u"
      },
      "outputs": [],
      "source": [
        "scaler = StandardScaler()\n",
        "\n",
        "normalized_x_train = pd.DataFrame(\n",
        "    scaler.fit_transform(X_train),\n",
        "    columns = X_train.columns\n",
        ")\n",
        "\n",
        "\n",
        "normalized_x_test = pd.DataFrame(\n",
        "    scaler.transform(X_test),\n",
        "    columns = X_test.columns) "
      ]
    },
    {
      "cell_type": "markdown",
      "metadata": {
        "id": "TljxwYDou8nd"
      },
      "source": [
        "**7.Searching best model**"
      ]
    },
    {
      "cell_type": "markdown",
      "metadata": {
        "id": "w9d0or2YmA8L"
      },
      "source": [
        "\n",
        "We will try to find the best model out of: \n",
        "\n",
        "* Random Forest Regressors\n",
        "* Gradient Boosting \n",
        "* KNN\n",
        "* XGB Regressor \n",
        "\n",
        "\n",
        "\n",
        "\n",
        "We will try to find hyperparameters for them to improve their efficiency "
      ]
    },
    {
      "cell_type": "code",
      "execution_count": 146,
      "metadata": {
        "id": "p6oLDfhUjx7f"
      },
      "outputs": [],
      "source": [
        "def find_best_model_using_gridsearchcv(X,y):\n",
        "    algos = {\n",
        "        \n",
        "           'random_forest' : {\n",
        "            'model' :RandomForestRegressor(),\n",
        "            'params': {\n",
        "                'n_estimators' : [150, 200, 250],\n",
        "                'min_samples_split': [2,3,5],\n",
        "                'max_depth' : [20,50,100],\n",
        "                'max_features' : ['auto','sqrt'],\n",
        "                'min_samples_leaf' : [1,3,4],\n",
        "                'bootstrap' : [True, False]\n",
        "            }\n",
        "        } }\n",
        "\n",
        "\n",
        "\n",
        "    scores = []\n",
        "\n",
        "    cv = ShuffleSplit(n_splits=5, test_size=0.2, random_state=0)\n",
        "    for algo_name, config in algos.items():\n",
        "        gs =  GridSearchCV(config['model'], config['params'], cv=cv, return_train_score=False)\n",
        "        gs.fit(X,y)\n",
        "        scores.append({\n",
        "            'model': algo_name,\n",
        "            'best_score': gs.best_score_,\n",
        "            'best_params': gs.best_params_\n",
        "        })\n",
        "\n",
        "    return pd.DataFrame(scores,columns=['model','best_score','best_params'])\n",
        "\n",
        "#find_best_model_using_gridsearchcv(X_train,y_train)"
      ]
    },
    {
      "cell_type": "code",
      "source": [
        " def find_best_model_using_gridsearchcv(X,y):\n",
        "    algos = {\n",
        "        'Gradient Boosting Regressor': {\n",
        "            'model' : GradientBoostingRegressor(), \n",
        "            'params' : {\n",
        "                'learning_rate' : [0.1, 0.2, 0.5],\n",
        "                'n_estimators' : [1500, 3000, 5000]\n",
        "            }\n",
        "        }, 'KNN' : {\n",
        "            'model' : KNeighborsRegressor(), \n",
        "            'params' : {\n",
        "                'n_neighbors' : [5,10,15, 20, 30, 50],\n",
        "                'leaf_size' : [20,30,50],\n",
        "                'weights' : ['uniform', 'distance'],\n",
        "                'algorithm' : ['auto', 'ball_tree']\n",
        "            }\n",
        "        }, 'XGB Regressor' : {\n",
        "            'model': XGBRegressor(),\n",
        "            'params': {\n",
        "                'eta': [0.01, 0.1, 0.2, 0.3],\n",
        "                'max_depth' :[5, 9, 12, 15, 20]\n",
        "            }\n",
        "\n",
        "        }\n",
        "    }\n",
        "\n",
        "\n",
        "    scores = []\n",
        "\n",
        "    cv = ShuffleSplit(n_splits=5, test_size=0.2, random_state=0)\n",
        "    for algo_name, config in algos.items():\n",
        "        gs =  GridSearchCV(config['model'], config['params'], cv=cv, return_train_score=False)\n",
        "        gs.fit(X,y)\n",
        "        scores.append({\n",
        "            'model': algo_name,\n",
        "            'best_score': gs.best_score_,\n",
        "            'best_params': gs.best_params_\n",
        "        })\n",
        "\n",
        "    return pd.DataFrame(scores,columns=['model','best_score','best_params'])\n",
        "\n",
        "#find_best_model_using_gridsearchcv(normalized_x_train,y_train)"
      ],
      "metadata": {
        "id": "ifx6Bv47mO6s"
      },
      "execution_count": 147,
      "outputs": []
    },
    {
      "cell_type": "markdown",
      "source": [
        "Models with best Hyperparameters based on Gridsearch"
      ],
      "metadata": {
        "id": "RwuqecMcaAUw"
      }
    },
    {
      "cell_type": "code",
      "execution_count": 148,
      "metadata": {
        "id": "veNpa0tIrVAb"
      },
      "outputs": [],
      "source": [
        "model_rf = RandomForestRegressor(max_depth = 100, min_samples_split = 2 , n_estimators = 200, bootstrap = False, max_features = 'sqrt', min_samples_leaf = 1 )\n",
        "\n",
        "model_gb = GradientBoostingRegressor(learning_rate = 0.1, n_estimators = 3000 )\n",
        "model_xgb = XGBRegressor(eta = 0.01, max_depth = 12)\n",
        "model_knn = KNeighborsRegressor(n_neighbors = 10, algorithm = 'auto', leaf_size = 30 , weights = 'distance'  )"
      ]
    },
    {
      "cell_type": "code",
      "execution_count": 149,
      "metadata": {
        "id": "NvbDoLlhhYCd"
      },
      "outputs": [],
      "source": [
        "models = {\n",
        "\n",
        "    'XGBRegressor':model_xgb,\n",
        "    'KNN': model_knn, \n",
        "    'Gradient Boosting' : model_gb\n",
        "    \n",
        "}\n",
        "\n",
        "models_forest =  {\n",
        "    \n",
        "    'RandomForestRegressor':model_rf\n",
        "}"
      ]
    },
    {
      "cell_type": "code",
      "execution_count": 150,
      "metadata": {
        "id": "RXMzsJWMhYNc",
        "colab": {
          "base_uri": "https://localhost:8080/"
        },
        "outputId": "6e410cd1-5061-44b8-db87-e132cd90ddb4"
      },
      "outputs": [
        {
          "output_type": "stream",
          "name": "stdout",
          "text": [
            "[14:48:44] WARNING: /workspace/src/objective/regression_obj.cu:152: reg:linear is now deprecated in favor of reg:squarederror.\n",
            "[14:48:47] WARNING: /workspace/src/objective/regression_obj.cu:152: reg:linear is now deprecated in favor of reg:squarederror.\n",
            "[14:48:51] WARNING: /workspace/src/objective/regression_obj.cu:152: reg:linear is now deprecated in favor of reg:squarederror.\n",
            "[14:48:54] WARNING: /workspace/src/objective/regression_obj.cu:152: reg:linear is now deprecated in favor of reg:squarederror.\n",
            "[14:48:58] WARNING: /workspace/src/objective/regression_obj.cu:152: reg:linear is now deprecated in favor of reg:squarederror.\n",
            "[14:49:01] WARNING: /workspace/src/objective/regression_obj.cu:152: reg:linear is now deprecated in favor of reg:squarederror.\n",
            "XGBRegressor : 197028.02954046463 , 0.8480092251297762, 71195.48529849168, [0.8579106033033966]\n",
            "KNN : 218970.2337220676 , 0.8122710007988607, 82827.38069555997, [0.8579106033033966, 0.7849930827183658]\n",
            "Gradient Boosting : 208813.8463138376 , 0.8292818140852813, 82461.96013671444, [0.8579106033033966, 0.7849930827183658, 0.865898914947852]\n",
            "RandomForestRegressor : 192208.28219849584 , 0.8553543438921375, 65995.9404224898, [0.8579106033033966, 0.7849930827183658, 0.865898914947852, 0.875129915417807]\n"
          ]
        }
      ],
      "source": [
        "cv = ShuffleSplit(n_splits=5, test_size=0.2, random_state=0)\n",
        "\n",
        "model_names = []\n",
        "model_rmse = []\n",
        "model_r2 = [] \n",
        "model_absolute = []\n",
        "cv_scores = [] \n",
        "\n",
        "for name,model in models.items():\n",
        "    model_fitting = model.fit(normalized_x_train,y_train)\n",
        "    predicted = model_fitting.predict(normalized_x_test)\n",
        "    score_rmse = np.sqrt(mean_squared_error(y_test, predicted))\n",
        "    score_r2 = metrics.r2_score(y_test, predicted)\n",
        "    score_absolute = metrics.mean_absolute_error(y_test, predicted)\n",
        "    cvscore = cross_val_score(model, X, y, cv = cv)\n",
        "    model_rmse.append(score_rmse)\n",
        "    model_r2.append(score_r2)\n",
        "    model_absolute.append(score_absolute)\n",
        "    cv_scores.append(np.mean(cvscore))\n",
        "    model_names.append(name)\n",
        "    print(f'{name} : {score_rmse} , {score_r2}, {score_absolute}, {cv_scores}')\n",
        "\n",
        "  \n",
        "for name,model in models_forest.items():\n",
        "    model_fitting = model.fit(X_train,y_train)\n",
        "    predicted = model_fitting.predict(X_test)\n",
        "    score_rmse = np.sqrt(mean_squared_error(y_test, predicted))\n",
        "    score_r2 = metrics.r2_score(y_test, predicted)\n",
        "    score_absolute = metrics.mean_absolute_error(y_test, predicted)\n",
        "    cvscore = cross_val_score(model, X, y, cv = cv)\n",
        "    model_rmse.append(score_rmse)\n",
        "    model_r2.append(score_r2)\n",
        "    model_absolute.append(score_absolute)\n",
        "    cv_scores.append(np.mean(cvscore))\n",
        "    model_names.append(name)\n",
        "    print(f'{name} : {score_rmse} , {score_r2}, {score_absolute}, {cv_scores}')\n"
      ]
    },
    {
      "cell_type": "code",
      "execution_count": 151,
      "metadata": {
        "id": "bcIZF4I2iQwF",
        "colab": {
          "base_uri": "https://localhost:8080/",
          "height": 175
        },
        "outputId": "4440554a-af12-48a0-fa1f-f643cd850471"
      },
      "outputs": [
        {
          "output_type": "execute_result",
          "data": {
            "text/plain": [
              "                   Model      RMSE   R2      MAE CV score\n",
              "3  RandomForestRegressor 192208.28 0.86 65995.94     0.88\n",
              "0           XGBRegressor 197028.03 0.85 71195.49     0.86\n",
              "2      Gradient Boosting 208813.85 0.83 82461.96     0.87\n",
              "1                    KNN 218970.23 0.81 82827.38     0.78"
            ],
            "text/html": [
              "\n",
              "  <div id=\"df-3cb7a5f6-4aab-4ba9-9554-6292214209c2\">\n",
              "    <div class=\"colab-df-container\">\n",
              "      <div>\n",
              "<style scoped>\n",
              "    .dataframe tbody tr th:only-of-type {\n",
              "        vertical-align: middle;\n",
              "    }\n",
              "\n",
              "    .dataframe tbody tr th {\n",
              "        vertical-align: top;\n",
              "    }\n",
              "\n",
              "    .dataframe thead th {\n",
              "        text-align: right;\n",
              "    }\n",
              "</style>\n",
              "<table border=\"1\" class=\"dataframe\">\n",
              "  <thead>\n",
              "    <tr style=\"text-align: right;\">\n",
              "      <th></th>\n",
              "      <th>Model</th>\n",
              "      <th>RMSE</th>\n",
              "      <th>R2</th>\n",
              "      <th>MAE</th>\n",
              "      <th>CV score</th>\n",
              "    </tr>\n",
              "  </thead>\n",
              "  <tbody>\n",
              "    <tr>\n",
              "      <th>3</th>\n",
              "      <td>RandomForestRegressor</td>\n",
              "      <td>192208.28</td>\n",
              "      <td>0.86</td>\n",
              "      <td>65995.94</td>\n",
              "      <td>0.88</td>\n",
              "    </tr>\n",
              "    <tr>\n",
              "      <th>0</th>\n",
              "      <td>XGBRegressor</td>\n",
              "      <td>197028.03</td>\n",
              "      <td>0.85</td>\n",
              "      <td>71195.49</td>\n",
              "      <td>0.86</td>\n",
              "    </tr>\n",
              "    <tr>\n",
              "      <th>2</th>\n",
              "      <td>Gradient Boosting</td>\n",
              "      <td>208813.85</td>\n",
              "      <td>0.83</td>\n",
              "      <td>82461.96</td>\n",
              "      <td>0.87</td>\n",
              "    </tr>\n",
              "    <tr>\n",
              "      <th>1</th>\n",
              "      <td>KNN</td>\n",
              "      <td>218970.23</td>\n",
              "      <td>0.81</td>\n",
              "      <td>82827.38</td>\n",
              "      <td>0.78</td>\n",
              "    </tr>\n",
              "  </tbody>\n",
              "</table>\n",
              "</div>\n",
              "      <button class=\"colab-df-convert\" onclick=\"convertToInteractive('df-3cb7a5f6-4aab-4ba9-9554-6292214209c2')\"\n",
              "              title=\"Convert this dataframe to an interactive table.\"\n",
              "              style=\"display:none;\">\n",
              "        \n",
              "  <svg xmlns=\"http://www.w3.org/2000/svg\" height=\"24px\"viewBox=\"0 0 24 24\"\n",
              "       width=\"24px\">\n",
              "    <path d=\"M0 0h24v24H0V0z\" fill=\"none\"/>\n",
              "    <path d=\"M18.56 5.44l.94 2.06.94-2.06 2.06-.94-2.06-.94-.94-2.06-.94 2.06-2.06.94zm-11 1L8.5 8.5l.94-2.06 2.06-.94-2.06-.94L8.5 2.5l-.94 2.06-2.06.94zm10 10l.94 2.06.94-2.06 2.06-.94-2.06-.94-.94-2.06-.94 2.06-2.06.94z\"/><path d=\"M17.41 7.96l-1.37-1.37c-.4-.4-.92-.59-1.43-.59-.52 0-1.04.2-1.43.59L10.3 9.45l-7.72 7.72c-.78.78-.78 2.05 0 2.83L4 21.41c.39.39.9.59 1.41.59.51 0 1.02-.2 1.41-.59l7.78-7.78 2.81-2.81c.8-.78.8-2.07 0-2.86zM5.41 20L4 18.59l7.72-7.72 1.47 1.35L5.41 20z\"/>\n",
              "  </svg>\n",
              "      </button>\n",
              "      \n",
              "  <style>\n",
              "    .colab-df-container {\n",
              "      display:flex;\n",
              "      flex-wrap:wrap;\n",
              "      gap: 12px;\n",
              "    }\n",
              "\n",
              "    .colab-df-convert {\n",
              "      background-color: #E8F0FE;\n",
              "      border: none;\n",
              "      border-radius: 50%;\n",
              "      cursor: pointer;\n",
              "      display: none;\n",
              "      fill: #1967D2;\n",
              "      height: 32px;\n",
              "      padding: 0 0 0 0;\n",
              "      width: 32px;\n",
              "    }\n",
              "\n",
              "    .colab-df-convert:hover {\n",
              "      background-color: #E2EBFA;\n",
              "      box-shadow: 0px 1px 2px rgba(60, 64, 67, 0.3), 0px 1px 3px 1px rgba(60, 64, 67, 0.15);\n",
              "      fill: #174EA6;\n",
              "    }\n",
              "\n",
              "    [theme=dark] .colab-df-convert {\n",
              "      background-color: #3B4455;\n",
              "      fill: #D2E3FC;\n",
              "    }\n",
              "\n",
              "    [theme=dark] .colab-df-convert:hover {\n",
              "      background-color: #434B5C;\n",
              "      box-shadow: 0px 1px 3px 1px rgba(0, 0, 0, 0.15);\n",
              "      filter: drop-shadow(0px 1px 2px rgba(0, 0, 0, 0.3));\n",
              "      fill: #FFFFFF;\n",
              "    }\n",
              "  </style>\n",
              "\n",
              "      <script>\n",
              "        const buttonEl =\n",
              "          document.querySelector('#df-3cb7a5f6-4aab-4ba9-9554-6292214209c2 button.colab-df-convert');\n",
              "        buttonEl.style.display =\n",
              "          google.colab.kernel.accessAllowed ? 'block' : 'none';\n",
              "\n",
              "        async function convertToInteractive(key) {\n",
              "          const element = document.querySelector('#df-3cb7a5f6-4aab-4ba9-9554-6292214209c2');\n",
              "          const dataTable =\n",
              "            await google.colab.kernel.invokeFunction('convertToInteractive',\n",
              "                                                     [key], {});\n",
              "          if (!dataTable) return;\n",
              "\n",
              "          const docLinkHtml = 'Like what you see? Visit the ' +\n",
              "            '<a target=\"_blank\" href=https://colab.research.google.com/notebooks/data_table.ipynb>data table notebook</a>'\n",
              "            + ' to learn more about interactive tables.';\n",
              "          element.innerHTML = '';\n",
              "          dataTable['output_type'] = 'display_data';\n",
              "          await google.colab.output.renderOutput(dataTable, element);\n",
              "          const docLink = document.createElement('div');\n",
              "          docLink.innerHTML = docLinkHtml;\n",
              "          element.appendChild(docLink);\n",
              "        }\n",
              "      </script>\n",
              "    </div>\n",
              "  </div>\n",
              "  "
            ]
          },
          "metadata": {},
          "execution_count": 151
        }
      ],
      "source": [
        "df_results = pd.DataFrame([model_names,model_rmse, model_r2, model_absolute, cv_scores ])\n",
        "df_results = df_results.transpose()\n",
        "df_results = df_results.rename(columns={0:'Model',1:'RMSE', 2: 'R2', 3: 'MAE', 4: 'CV score'}).sort_values(by='MAE',ascending=True)\n",
        "df_results"
      ]
    },
    {
      "cell_type": "markdown",
      "metadata": {
        "id": "ykVL_OriLTj9"
      },
      "source": [
        "We choose Random Forest Regressor with hyperparametes selected in GridSearch\n",
        "\n",
        "* the lowest MAE\n",
        "* the best R2 score\n",
        "* the best CV score"
      ]
    },
    {
      "cell_type": "code",
      "execution_count": 152,
      "metadata": {
        "id": "kUAfmjLZ7ewU"
      },
      "outputs": [],
      "source": [
        "model_rf.fit(X_train.values, y_train)\n",
        "\n",
        "y_pred = model_rf.predict(X_test.values)"
      ]
    },
    {
      "cell_type": "markdown",
      "metadata": {
        "id": "dI8ucYz4Gnit"
      },
      "source": [
        "Checking predicted values for some rows"
      ]
    },
    {
      "cell_type": "code",
      "execution_count": 153,
      "metadata": {
        "id": "-82eDd6C7pyN",
        "colab": {
          "base_uri": "https://localhost:8080/"
        },
        "outputId": "4d771931-6fc9-495e-cf73-76076c44fe84"
      },
      "outputs": [
        {
          "output_type": "stream",
          "name": "stdout",
          "text": [
            "predicted:  664030.8\n",
            "from data set:  660000.0\n",
            "\n",
            "floor         3.00\n",
            "rooms         3.00\n",
            "sq           75.10\n",
            "year       2002.00\n",
            "distance      3.88\n",
            "Krakow        1.00\n",
            "Poznan        0.00\n",
            "Warszawa      0.00\n",
            "Name: 1112, dtype: float64\n",
            "\n",
            "difference:  4030.8000000000466\n"
          ]
        }
      ],
      "source": [
        "num = 2022\n",
        "\n",
        "print('predicted: ', y_pred[num])\n",
        "print('from data set: ', y_test.iloc[num])\n",
        "\n",
        "print(\"\")\n",
        "print(X_test.iloc[num])\n",
        "print(\"\")\n",
        "print('difference: ' , y_pred[num] - y_test.iloc[num] )"
      ]
    },
    {
      "cell_type": "code",
      "execution_count": 154,
      "metadata": {
        "id": "kVUtqXom8TRT",
        "colab": {
          "base_uri": "https://localhost:8080/",
          "height": 614
        },
        "outputId": "cccda686-6f88-4f7a-e356-133d72321d44"
      },
      "outputs": [
        {
          "output_type": "display_data",
          "data": {
            "text/plain": [
              "<Figure size 720x720 with 1 Axes>"
            ],
            "image/png": "[encoded data removed]"
          },
          "metadata": {
            "needs_background": "light"
          }
        }
      ],
      "source": [
        "plt.figure(figsize=(10,10))\n",
        "plt.scatter(y_test, y_pred, c='crimson')\n",
        "plt.yscale('log')\n",
        "plt.xscale('log')\n",
        "\n",
        "p1 = max(max(y_pred), max(y_test))\n",
        "p2 = min(min(y_pred), min(y_test))\n",
        "plt.plot([p1, p2], [p1, p2], 'b-')\n",
        "plt.xlabel('True Values', fontsize=15)\n",
        "plt.ylabel('Predictions', fontsize=15)\n",
        "plt.axis('equal')\n",
        "plt.show()"
      ]
    },
    {
      "cell_type": "markdown",
      "metadata": {
        "id": "82gvW3NAvA29"
      },
      "source": [
        "**8.Final prediction- App**"
      ]
    },
    {
      "cell_type": "code",
      "execution_count": 155,
      "metadata": {
        "id": "OG1_oq8wPVW6",
        "colab": {
          "base_uri": "https://localhost:8080/"
        },
        "outputId": "9500ba4d-9de5-4ac0-c435-9da41ba6a33f"
      },
      "outputs": [
        {
          "output_type": "stream",
          "name": "stdout",
          "text": [
            "Which floor: 4\n",
            "How many rooms: 2\n",
            "How many square meters: 42\n",
            "Build Year: 2017\n",
            "How many kilometers from city center : 7\n",
            "Which city (K/W/P):  K\n",
            "\n",
            "Your estimated price is:  426674.0 zl\n",
            "Estimated price per square meter is:  10158 zl\n",
            "\n",
            "Do you want to check another house? (Y/N) n\n",
            "\n",
            "Thank you\n"
          ]
        }
      ],
      "source": [
        "while True: \n",
        "  your_house = []\n",
        "  # floor = input(\"Which floor \")\n",
        "  your_house.append(int(input(\"Which floor: \")))\n",
        "  your_house.append(int(input('How many rooms: ')))\n",
        "  pps = input(\"How many square meters: \")\n",
        "  your_house.append(float(pps))\n",
        "  your_house.append(int(input('Build Year: ')))\n",
        "  your_house.append(float(input('How many kilometers from city center : ')))\n",
        "  city = input(\"Which city (K/W/P):  \")\n",
        "  if city == \"K\":\n",
        "    your_house.append(int(1))\n",
        "    your_house.append(int(0))\n",
        "    your_house.append(int(0))\n",
        "  if city == \"P\":\n",
        "    your_house.append(int(0))\n",
        "    your_house.append(int(1))\n",
        "    your_house.append(int(0))\n",
        "  if city == \"W\":\n",
        "    your_house.append(int(0))\n",
        "    your_house.append(int(0))\n",
        "    your_house.append(int(1))\n",
        "\n",
        "\n",
        "  your_house_final = np.array(your_house)\n",
        "  price = model_rf.predict(your_house_final.reshape(1, -1))\n",
        "  price_final = price.tolist()\n",
        "  print(\"\")\n",
        "  print('Your estimated price is: ', round(price_final[0],1), 'zl')\n",
        "  print('Estimated price per square meter is: ', int(int(price_final[0])/ int(pps)), 'zl' )\n",
        "  print(\"\")\n",
        "  final = input(\"Do you want to check another house? (Y/N) \")\n",
        "  if final.lower() == 'y':\n",
        "    continue \n",
        "  else:\n",
        "    print(\"\")\n",
        "    print(\"Thank you\")\n",
        "    break"
      ]
    }
  ],
  "metadata": {
    "colab": {
      "collapsed_sections": [],
      "name": "Final Project Houses PL- 31.03.2022.ipynb",
      "provenance": []
    },
    "kernelspec": {
      "display_name": "Python 3",
      "name": "python3"
    },
    "language_info": {
      "name": "python"
    }
  },
  "nbformat": 4,
  "nbformat_minor": 0
}